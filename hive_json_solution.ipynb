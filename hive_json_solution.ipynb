{
 "cells": [
  {
   "cell_type": "markdown",
   "metadata": {},
   "source": [
    "# Data Science / Machine Learning Meetup #1 Deep Learning Hands-on\n",
    "# 公開データの取得と変換\n",
    "\n",
    "## はじめに\n",
    "\n",
    "演習の概略は以下の通りです。\n",
    "1. [環境準備](#環境準備)\n",
    "1. [WEBスクレイピング](#WEBスクレイピング)\n",
    "1. [HiveによるJsonデータ変換](#HiveによるJsonデータ変換)\n",
    "\n",
    "\n",
    "以下の点にご注意ください。\n",
    "- 実行するコードの中に、ご利用中のユーザー名に合わせて、変更していただく部分があります。\n",
    "\n",
    "## 環境準備\n",
    "\n",
    "### パッケージのインストールとインポート"
   ]
  },
  {
   "cell_type": "code",
   "execution_count": 1,
   "metadata": {},
   "outputs": [
    {
     "name": "stdout",
     "output_type": "stream",
     "text": [
      "Requirement already satisfied: ipython-sql==0.3.9 in ./.local/lib/python3.6/site-packages (0.3.9)\n",
      "Requirement already satisfied: prettytable in ./.local/lib/python3.6/site-packages (from ipython-sql==0.3.9) (0.7.2)\n",
      "Requirement already satisfied: sqlparse in ./.local/lib/python3.6/site-packages (from ipython-sql==0.3.9) (0.3.0)\n",
      "Requirement already satisfied: six in /usr/local/lib/python3.6/dist-packages (from ipython-sql==0.3.9) (1.12.0)\n",
      "Requirement already satisfied: ipython>=1.0 in /usr/local/lib/python3.6/dist-packages (from ipython-sql==0.3.9) (5.1.0)\n",
      "Requirement already satisfied: ipython-genutils>=0.1.0 in /usr/local/lib/python3.6/dist-packages (from ipython-sql==0.3.9) (0.2.0)\n",
      "Requirement already satisfied: sqlalchemy>=0.6.7 in ./.local/lib/python3.6/site-packages (from ipython-sql==0.3.9) (1.3.13)\n",
      "Requirement already satisfied: pickleshare in /usr/local/lib/python3.6/dist-packages (from ipython>=1.0->ipython-sql==0.3.9) (0.7.5)\n",
      "Requirement already satisfied: decorator in /usr/local/lib/python3.6/dist-packages (from ipython>=1.0->ipython-sql==0.3.9) (4.4.0)\n",
      "Requirement already satisfied: pygments in /usr/local/lib/python3.6/dist-packages (from ipython>=1.0->ipython-sql==0.3.9) (2.4.2)\n",
      "Requirement already satisfied: pexpect; sys_platform != \"win32\" in /usr/local/lib/python3.6/dist-packages (from ipython>=1.0->ipython-sql==0.3.9) (4.7.0)\n",
      "Requirement already satisfied: simplegeneric>0.8 in /usr/local/lib/python3.6/dist-packages (from ipython>=1.0->ipython-sql==0.3.9) (0.8.1)\n",
      "Requirement already satisfied: prompt-toolkit<2.0.0,>=1.0.3 in /usr/local/lib/python3.6/dist-packages (from ipython>=1.0->ipython-sql==0.3.9) (1.0.15)\n",
      "Requirement already satisfied: setuptools>=18.5 in /usr/local/lib/python3.6/dist-packages (from ipython>=1.0->ipython-sql==0.3.9) (41.0.1)\n",
      "Requirement already satisfied: traitlets>=4.2 in /usr/local/lib/python3.6/dist-packages (from ipython>=1.0->ipython-sql==0.3.9) (4.3.2)\n",
      "Requirement already satisfied: ptyprocess>=0.5 in /usr/local/lib/python3.6/dist-packages (from pexpect; sys_platform != \"win32\"->ipython>=1.0->ipython-sql==0.3.9) (0.6.0)\n",
      "Requirement already satisfied: wcwidth in /usr/local/lib/python3.6/dist-packages (from prompt-toolkit<2.0.0,>=1.0.3->ipython>=1.0->ipython-sql==0.3.9) (0.1.7)\n",
      "\u001b[33mWARNING: You are using pip version 19.1.1, however version 20.0.2 is available.\n",
      "You should consider upgrading via the 'pip install --upgrade pip' command.\u001b[0m\n",
      "Requirement already satisfied: PyHive==0.6.1 in ./.local/lib/python3.6/site-packages (0.6.1)\n",
      "Requirement already satisfied: future in ./.local/lib/python3.6/site-packages (from PyHive==0.6.1) (0.18.2)\n",
      "Requirement already satisfied: python-dateutil in /usr/local/lib/python3.6/dist-packages (from PyHive==0.6.1) (2.8.0)\n",
      "Requirement already satisfied: six>=1.5 in /usr/local/lib/python3.6/dist-packages (from python-dateutil->PyHive==0.6.1) (1.12.0)\n",
      "\u001b[33mWARNING: You are using pip version 19.1.1, however version 20.0.2 is available.\n",
      "You should consider upgrading via the 'pip install --upgrade pip' command.\u001b[0m\n",
      "Requirement already satisfied: SQLAlchemy==1.3.13 in ./.local/lib/python3.6/site-packages (1.3.13)\n",
      "\u001b[33mWARNING: You are using pip version 19.1.1, however version 20.0.2 is available.\n",
      "You should consider upgrading via the 'pip install --upgrade pip' command.\u001b[0m\n",
      "Requirement already satisfied: thrift==0.13.0 in ./.local/lib/python3.6/site-packages (0.13.0)\n",
      "Requirement already satisfied: six>=1.7.2 in /usr/local/lib/python3.6/dist-packages (from thrift==0.13.0) (1.12.0)\n",
      "\u001b[33mWARNING: You are using pip version 19.1.1, however version 20.0.2 is available.\n",
      "You should consider upgrading via the 'pip install --upgrade pip' command.\u001b[0m\n",
      "Requirement already satisfied: sasl==0.2.1 in ./.local/lib/python3.6/site-packages (0.2.1)\n",
      "Requirement already satisfied: six in /usr/local/lib/python3.6/dist-packages (from sasl==0.2.1) (1.12.0)\n",
      "\u001b[33mWARNING: You are using pip version 19.1.1, however version 20.0.2 is available.\n",
      "You should consider upgrading via the 'pip install --upgrade pip' command.\u001b[0m\n",
      "Requirement already satisfied: thrift_sasl==0.3.0 in ./.local/lib/python3.6/site-packages (0.3.0)\n",
      "Requirement already satisfied: sasl>=0.2.1 in ./.local/lib/python3.6/site-packages (from thrift_sasl==0.3.0) (0.2.1)\n",
      "Requirement already satisfied: thrift>=0.10.0 in ./.local/lib/python3.6/site-packages (from thrift_sasl==0.3.0) (0.13.0)\n",
      "Requirement already satisfied: six in /usr/local/lib/python3.6/dist-packages (from sasl>=0.2.1->thrift_sasl==0.3.0) (1.12.0)\n",
      "\u001b[33mWARNING: You are using pip version 19.1.1, however version 20.0.2 is available.\n",
      "You should consider upgrading via the 'pip install --upgrade pip' command.\u001b[0m\n"
     ]
    }
   ],
   "source": [
    "!pip3 install ipython-sql==0.3.9\n",
    "!pip3 install PyHive==0.6.1\n",
    "!pip3 install SQLAlchemy==1.3.13\n",
    "!pip3 install thrift==0.13.0\n",
    "!pip3 install sasl==0.2.1\n",
    "!pip3 install thrift_sasl==0.3.0"
   ]
  },
  {
   "cell_type": "markdown",
   "metadata": {},
   "source": [
    "上記でインストールしたPyHiveは、Pythonコードの中でimportして使われるのではなく、Hiveへの接続の際の接続文字列：`sqlalchemy.create_engine('hive://<host>:<port>')`の中でdialectsとして指定された際に必要になります。そのため、インストール後に利用するためには、新しくプロセスを始める必要があります。**インストールした後に一度、KernelをRestartしてください。**インストールしたプロセスでは、接続時に下記のようなエラーが発生します。\n",
    "`NoSuchModuleError: Can't load plugin: sqlalchemy.dialects:hive`"
   ]
  },
  {
   "cell_type": "code",
   "execution_count": 2,
   "metadata": {},
   "outputs": [],
   "source": [
    "import json\n",
    "import os\n",
    "import random\n",
    "import re\n",
    "import subprocess\n",
    "import glob\n",
    "import traceback\n",
    "from datetime import datetime\n",
    "\n",
    "from pyhive import hive\n",
    "import sqlalchemy\n",
    "\n",
    "import sys\n",
    "\n",
    "from operator import add\n",
    "from pyspark.sql import SparkSession"
   ]
  },
  {
   "cell_type": "markdown",
   "metadata": {},
   "source": [
    "## WEBスクレイピング\n",
    "\n",
    "無償で利用できるAPIを用いて演習を行います。そのため、利用に一定の制限が課せられることにご留意ください。\n",
    "例えば、ご利用状況に応じて、下記のようなエラーメッセージを受け取ることがあります。\n",
    "\n",
    "```\n",
    "{\"response\":{\"status\":429},\"errors\":[{\"message\":\"Rate limit exceeded. Client may not make more than 200 requests an hour.\"}]}\n",
    "```\n",
    "まず、APIで取得したデータをCDSWプロジェクト内のファイルとして保存します。\n",
    "\n",
    "取得する銘柄の候補が、`ticker.txt`に定義されています。"
   ]
  },
  {
   "cell_type": "code",
   "execution_count": 3,
   "metadata": {},
   "outputs": [
    {
     "name": "stdout",
     "output_type": "stream",
     "text": [
      "2882\n",
      "['A', 'AA', 'AAL', 'AAN', 'AAOI', 'AAON', 'AAP', 'AAPL', 'AAWW', 'AAXN', 'ABBV', 'ABC', 'ABCB', 'ABEO', 'ABG', 'ABM', 'ABMD', 'ABT', 'ABTX', 'ACA', 'ACAD', 'ACCO', 'ACEL', 'ACGL', 'ACHC', 'ACHN', 'ACHV', 'ACIA', 'ACIW', 'ACLS', 'ACM', 'ACN', 'ACNB', 'ACOR', 'ACRS', 'ACRX', 'ACTG', 'ADBE', 'ADES', 'ADI', 'ADM', 'ADMA', 'ADMP', 'ADMS', 'ADP', 'ADPT', 'ADRO', 'ADS', 'ADSK', 'ADSW', 'ADT', 'ADTN', 'ADUS', 'ADVM', 'ADXS', 'AE', 'AEE', 'AEGN', 'AEIS', 'AEL', 'AEM', 'AEMD', 'AEO', 'AEP', 'AERI', 'AES', 'AFG', 'AFI', 'AFL', 'AG', 'AGCO', 'AGEN', 'AGFS', 'AGI', 'AGIO', 'AGLE', 'AGM', 'AGN', 'AGO', 'AGR', 'AGRX', 'AGS', 'AGTC', 'AGX', 'AGYS', 'AHC', 'AHCO', 'AIG', 'AIMC', 'AIMT', 'AIN', 'AIR', 'AIRG', 'AIRT', 'AIT', 'AIZ', 'AJG', 'AJRD', 'AKAM', 'AKBA', 'AKCA', 'AKRO', 'AKRX', 'AKS', 'AL', 'ALB', 'ALCO', 'ALDX', 'ALE', 'ALEC', 'ALG', 'ALGN', 'ALGT', 'ALIM', 'ALK', 'ALKS', 'ALL', 'ALLK', 'ALLO', 'ALLY', 'ALNY', 'ALOT', 'ALPN', 'ALRM', 'ALRN', 'ALSK', 'ALSN', 'ALT', 'ALTR', 'ALV', 'ALXN', 'AM', 'AMAG', 'AMAL', 'AMAT', 'AMBA', 'AMBC', 'AMC', 'AMCX', 'AMD', 'AME', 'AMED', 'AMEH', 'AMG', 'AMGN', 'AMK', 'AMKR', 'AMN', 'AMNB', 'AMOT', 'AMP', 'AMPE', 'AMPH', 'AMRC', 'AMRS', 'AMRX', 'AMSC', 'AMSF', 'AMSWA', 'AMTB', 'AMTD', 'AMTX', 'AMWD', 'AMZN', 'AN', 'ANAB', 'ANAT', 'ANDA', 'ANDE', 'ANET', 'ANF', 'ANGI', 'ANGO', 'ANIK', 'ANIP', 'ANIX', 'ANSS', 'ANTM', 'AOBC', 'AON', 'AOS', 'AP', 'APA', 'APD', 'APDN', 'APEI', 'APEN', 'APH', 'APLS', 'APLT', 'APOG', 'APPF', 'APPN', 'APPS', 'APRE', 'APRN', 'APT', 'APTV', 'APY', 'AQB', 'AQN', 'AQUA', 'AR', 'ARA', 'ARAV', 'ARAY', 'ARCB', 'ARCH', 'ARCO', 'ARCT', 'ARDS', 'ARDX', 'ARES', 'ARGO', 'ARKR', 'ARLO', 'ARMK', 'ARMP', 'ARNA', 'ARNC', 'AROC', 'AROW', 'ARTNA', 'ARVN', 'ARW', 'ARWR', 'ASB', 'ASFI', 'ASGN', 'ASH', 'ASIX', 'ASMB', 'ASNA', 'ASPS', 'ASPU', 'ASRT', 'ASTE', 'ASYS', 'ATEC', 'ATEN', 'ATEX', 'ATGE', 'ATH', 'ATHX', 'ATI', 'ATKR', 'ATLO', 'ATNI', 'ATNX', 'ATO', 'ATR', 'ATRA', 'ATRC', 'ATRI', 'ATRO', 'ATRS', 'ATSG', 'ATUS', 'ATVI', 'AUB', 'AUMN', 'AUPH', 'AUTO', 'AUY', 'AVA', 'AVAV', 'AVD', 'AVGO', 'AVID', 'AVLR', 'AVNS', 'AVNW', 'AVRO', 'AVT', 'AVTR', 'AVX', 'AVXL', 'AVY', 'AVYA', 'AWI', 'AWK', 'AWR', 'AWRE', 'AX', 'AXAS', 'AXDX', 'AXGN', 'AXGT', 'AXL', 'AXLA', 'AXNX', 'AXP', 'AXS', 'AXSM', 'AXTA', 'AXTI', 'AYI', 'AYX', 'AZO', 'AZPN', 'AZZ', 'B', 'BA', 'BAC', 'BAH', 'BAM', 'BANC', 'BAND', 'BANF', 'BANR', 'BAP', 'BAX', 'BB', 'BBBY', 'BBI', 'BBIO', 'BBQ', 'BBW', 'BBY', 'BC', 'BCBP', 'BCC', 'BCE', 'BCEI', 'BCEL', 'BCLI', 'BCO', 'BCOR', 'BCOV', 'BCPC', 'BCRX', 'BDC', 'BDGE', 'BDSI', 'BDX', 'BE', 'BEAT', 'BECN', 'BELFB', 'BEN', 'BERY', 'BFAM', 'BFC', 'BFIN', 'BG', 'BGCP', 'BGFV', 'BGG', 'BGS', 'BH', 'BHB', 'BHC', 'BHE', 'BHF', 'BHLB', 'BIG', 'BIIB', 'BIMI', 'BIO', 'BIOS', 'BJ', 'BJRI', 'BK', 'BKD', 'BKE', 'BKH', 'BKI', 'BKNG', 'BKR', 'BKU', 'BL', 'BLBD', 'BLCM', 'BLD', 'BLDP', 'BLDR', 'BLFS', 'BLK', 'BLKB', 'BLL', 'BLMN', 'BLNK', 'BLUE', 'BLX', 'BMCH', 'BMI', 'BMO', 'BMRC', 'BMRN', 'BMTC', 'BMY', 'BNED', 'BNFT', 'BNGO', 'BNS', 'BOH', 'BOKF', 'BOMN', 'BOOM', 'BOOT', 'BOX', 'BPFH', 'BPMC', 'BPTH', 'BR', 'BRC', 'BRKB', 'BRKL', 'BRKR', 'BRKS', 'BRMK', 'BRO', 'BRY', 'BSET', 'BSIG', 'BSQR', 'BSRR', 'BSTC', 'BSX', 'BTG', 'BURL', 'BUSE', 'BV', 'BWA', 'BWEN', 'BWXT', 'BX', 'BXC', 'BXG', 'BXS', 'BY', 'BYD', 'BYND', 'BZH', 'C', 'CABO', 'CAC', 'CACC', 'CACI', 'CADE', 'CAG', 'CAH', 'CAI', 'CAKE', 'CAL', 'CALA', 'CALM', 'CALX', 'CAMP', 'CAPR', 'CAR', 'CARA', 'CARE', 'CARG', 'CARS', 'CASA', 'CASH', 'CASI', 'CASS', 'CASY', 'CAT', 'CATB', 'CATM', 'CATO', 'CATY', 'CBIO', 'CBMG', 'CBPO', 'CBPX', 'CBRE', 'CBRL', 'CBSH', 'CBT', 'CBTX', 'CBU', 'CBZ', 'CC', 'CCBG', 'CCEP', 'CCF', 'CCJ', 'CCK', 'CCL', 'CCMP', 'CCNE', 'CCO', 'CCOI', 'CCRN', 'CCS', 'CCXI', 'CDAY', 'CDE', 'CDK', 'CDLX', 'CDMO', 'CDNA', 'CDNS', 'CDW', 'CDXS', 'CE', 'CECE', 'CEIX', 'CEL', 'CELH', 'CEMI', 'CENT', 'CENTA', 'CENX', 'CERN', 'CERS', 'CEVA', 'CF', 'CFB', 'CFFI', 'CFFN', 'CFG', 'CFMS', 'CFR', 'CFX', 'CGC', 'CGEN', 'CGNX', 'CHCO', 'CHD', 'CHDN', 'CHE', 'CHEF', 'CHGG', 'CHH', 'CHK', 'CHKP', 'CHMA', 'CHMG', 'CHNG', 'CHRS', 'CHRW', 'CHS', 'CHTR', 'CHUY', 'CHWY', 'CI', 'CIEN', 'CINF', 'CIR', 'CIT', 'CKH', 'CKPT', 'CL', 'CLAR', 'CLBK', 'CLBS', 'CLCT', 'CLDR', 'CLDX', 'CLF', 'CLFD', 'CLGX', 'CLH', 'CLNE', 'CLPS', 'CLR', 'CLSD', 'CLSN', 'CLVS', 'CLW', 'CLX', 'CLXT', 'CM', 'CMA', 'CMBM', 'CMC', 'CMCO', 'CMCSA', 'CMD', 'CME', 'CMG', 'CMI', 'CMLS', 'CMP', 'CMS', 'CMTL', 'CNA', 'CNBKA', 'CNC', 'CNCE', 'CNDT', 'CNI', 'CNK', 'CNMD', 'CNNE', 'CNO', 'CNOB', 'CNP', 'CNQ', 'CNR', 'CNS', 'CNSL', 'CNST', 'CNX', 'CNXN', 'CO', 'COF', 'COG', 'COHR', 'COHU', 'COKE', 'COLB', 'COLL', 'COLM', 'COMM', 'CONN', 'COO', 'COOP', 'COP', 'CORE', 'CORT', 'COST', 'COT', 'COTY', 'COUP', 'CP', 'CPA', 'CPB', 'CPE', 'CPF', 'CPG', 'CPIX', 'CPK', 'CPRI', 'CPRT', 'CPRX', 'CPS', 'CPSI', 'CPST', 'CR', 'CRAI', 'CRBP', 'CRC', 'CRCM', 'CREE', 'CRI', 'CRIS', 'CRK', 'CRL', 'CRM', 'CRMD', 'CRMT', 'CRNC', 'CRNT', 'CRNX', 'CRON', 'CROX', 'CRS', 'CRTX', 'CRUS', 'CRVL', 'CRVS', 'CRWD', 'CRWS', 'CRY', 'CSBR', 'CSCO', 'CSFL', 'CSGP', 'CSGS', 'CSII', 'CSIQ', 'CSL', 'CSOD', 'CSPI', 'CSS', 'CSSE', 'CSTL', 'CSU', 'CSV', 'CSWI', 'CSX', 'CTAS', 'CTB', 'CTBI', 'CTG', 'CTIC', 'CTL', 'CTLT', 'CTMX', 'CTO', 'CTRA', 'CTRN', 'CTS', 'CTSH', 'CTSO', 'CTVA', 'CTXS', 'CUB', 'CUBI', 'CULP', 'CURO', 'CUTR', 'CVA', 'CVBF', 'CVCO', 'CVE', 'CVET', 'CVGW', 'CVI', 'CVLT', 'CVLY', 'CVM', 'CVNA', 'CVS', 'CVTI', 'CVU', 'CVX', 'CW', 'CWBC', 'CWCO', 'CWEN', 'CWH', 'CWK', 'CWST', 'CWT', 'CXDC', 'CXO', 'CY', 'CYAN', 'CYBE', 'CYBR', 'CYCN', 'CYD', 'CYH', 'CYRX', 'CYTK', 'CZNC', 'CZR', 'CZWI', 'CZZ', 'D', 'DAIO', 'DAKT', 'DAL', 'DAN', 'DAR', 'DARE', 'DB', 'DBD', 'DBI', 'DBX', 'DCI', 'DCO', 'DCOM', 'DCPH', 'DD', 'DDD', 'DDOG', 'DDS', 'DE', 'DECK', 'DELL', 'DENN', 'DERM', 'DFIN', 'DFS', 'DG', 'DGICA', 'DGII', 'DGLY', 'DGX', 'DHI', 'DHIL', 'DHR', 'DHT', 'DIN', 'DIOD', 'DIS', 'DISCA', 'DISCK', 'DISH', 'DJCO', 'DK', 'DKS', 'DLA', 'DLB', 'DLTR', 'DLX', 'DMRC', 'DNKN', 'DNLI', 'DNOW', 'DNR', 'DO', 'DOCU', 'DOMO', 'DOOR', 'DORM', 'DOV', 'DOW', 'DPLO', 'DPZ', 'DRAD', 'DRI', 'DRNA', 'DRQ', 'DSGX', 'DSKE', 'DSPG', 'DT', 'DTE', 'DTIL', 'DUK', 'DVA', 'DVAX', 'DVD', 'DVN', 'DXC', 'DXCM', 'DXPE', 'DXR', 'DY', 'DZSI', 'EA', 'EAF', 'EAT', 'EB', 'EBAY', 'EBF', 'EBIX', 'EBS', 'EBSB', 'EBTC', 'ECHO', 'ECL', 'ECOL', 'ECOM', 'ECPG', 'ED', 'EDIT', 'EDSA', 'EDTX', 'EDUC', 'EE', 'EEFT', 'EEX', 'EFC', 'EFSC', 'EFX', 'EGAN', 'EGBN', 'EGHT', 'EGO', 'EGOV', 'EGRX', 'EGY', 'EHC', 'EHTH', 'EIDX', 'EIG', 'EIGI', 'EIGR', 'EIX', 'EKSO', 'EL', 'ELAN', 'ELF', 'ELGX', 'ELY', 'EMCF', 'EME', 'EMKR', 'EML', 'EMMS', 'EMN', 'EMR', 'ENB', 'ENDP', 'ENLV', 'ENPH', 'ENR', 'ENS', 'ENSG', 'ENTA', 'ENTG', 'ENV', 'ENVA', 'EOG', 'EOLS', 'EPAC', 'EPAM', 'EPAY', 'EPC', 'EPIX', 'EPM', 'EPZM', 'EQH', 'EQT', 'ERA', 'ERF', 'ERI', 'ERIE', 'ERII', 'ES', 'ESCA', 'ESE', 'ESGR', 'ESLT', 'ESNT', 'ESPR', 'ESSA', 'ETFC', 'ETH', 'ETM', 'ETN', 'ETNB', 'ETR', 'ETSY', 'EV', 'EVBG', 'EVC', 'EVER', 'EVFM', 'EVH', 'EVOP', 'EVR', 'EVRG', 'EVRI', 'EW', 'EWBC', 'EXAS', 'EXC', 'EXEL', 'EXK', 'EXLS', 'EXP', 'EXPD', 'EXPE', 'EXPI', 'EXPO', 'EXPR', 'EXTR', 'EYE', 'EYPT', 'EZPW', 'F', 'FAF', 'FANG', 'FARM', 'FARO', 'FAST', 'FAT', 'FATE', 'FB', 'FBC', 'FBHS', 'FBIZ', 'FBK', 'FBM', 'FBMS', 'FBNC', 'FC', 'FCBC', 'FCEL', 'FCF', 'FCFS', 'FCN', 'FCNCA', 'FCX', 'FDEF', 'FDP', 'FDS', 'FDX', 'FE', 'FEIM', 'FELE', 'FEYE', 'FF', 'FFBC', 'FFG', 'FFIC', 'FFIN', 'FFIV', 'FFWM', 'FG', 'FGEN', 'FHB', 'FHN', 'FIBK', 'FICO', 'FII', 'FIS', 'FISI', 'FISV', 'FIT', 'FITB', 'FIVE', 'FIVN', 'FIX', 'FIXX', 'FIZZ', 'FL', 'FLDM', 'FLEX', 'FLGT', 'FLIC', 'FLIR', 'FLMN', 'FLNT', 'FLO', 'FLOW', 'FLR', 'FLS', 'FLT', 'FLWS', 'FLXN', 'FLXS', 'FMBH', 'FMBI', 'FMC', 'FMNB', 'FN', 'FNB', 'FND', 'FNF', 'FNHC', 'FNJN', 'FNKO', 'FNLC', 'FNV', 'FOCS', 'FOE', 'FOLD', 'FOMX', 'FONR', 'FOR', 'FORM', 'FORR', 'FOSL', 'FOX', 'FOXA', 'FOXF', 'FPRX', 'FRAN', 'FRC', 'FREQ', 'FRGI', 'FRHC', 'FRME', 'FRO', 'FRPH', 'FRPT', 'FRTA', 'FSB', 'FSBW', 'FSCT', 'FSFG', 'FSI', 'FSLR', 'FSLY', 'FSM', 'FSS', 'FSTR', 'FTCH', 'FTDR', 'FTEK', 'FTI', 'FTNT', 'FTR', 'FTS', 'FTSV', 'FTV', 'FUL', 'FULC', 'FULT', 'FVE', 'FVRR', 'FWONA', 'FWRD', 'GABC', 'GALT', 'GATX', 'GBCI', 'GBL', 'GBLI', 'GBT', 'GBX', 'GCAP', 'GCBC', 'GCI', 'GCO', 'GCP', 'GD', 'GDDY', 'GDEN', 'GDI', 'GDOT', 'GE', 'GEC', 'GEF', 'GEOS', 'GERN', 'GES', 'GEVO', 'GFF', 'GGG', 'GH', 'GHC', 'GHL', 'GHM', 'GIB', 'GIFI', 'GIII', 'GIL', 'GILD', 'GIS', 'GKOS', 'GL', 'GLDD', 'GLMD', 'GLNG', 'GLRE', 'GLT', 'GLUU', 'GLW', 'GLYC', 'GM', 'GME', 'GMED', 'GMS', 'GNC', 'GNCA', 'GNE', 'GNMK', 'GNMX', 'GNRC', 'GNTX', 'GNW', 'GO', 'GOGO', 'GOLD', 'GOLF', 'GOOG', 'GOOGL', 'GOOS', 'GORO', 'GOSS', 'GPC', 'GPI', 'GPK', 'GPN', 'GPOR', 'GPRE', 'GPRK', 'GPRO', 'GPS', 'GPX', 'GRA', 'GRBK', 'GRC', 'GRIF', 'GRPN', 'GRTS', 'GRUB', 'GS', 'GSB', 'GSBC', 'GSHD', 'GSKY', 'GT', 'GTES', 'GTHX', 'GTLS', 'GTN', 'GTT', 'GTX', 'GVA', 'GWB', 'GWRE', 'GWRS', 'GWW', 'H', 'HA', 'HABT', 'HAE', 'HAFC', 'HAIN', 'HAL', 'HALO', 'HARP', 'HAS', 'HAYN', 'HBAN', 'HBB', 'HBCP', 'HBI', 'HBIO', 'HBM', 'HBNC', 'HBT', 'HCA', 'HCAT', 'HCC', 'HCCI', 'HCI', 'HCKT', 'HCSG', 'HD', 'HDS', 'HDSN', 'HE', 'HEAR', 'HEES', 'HEI', 'HELE', 'HEPA', 'HES', 'HFBL', 'HFC', 'HFFG', 'HFWA', 'HGV', 'HHC', 'HHS', 'HI', 'HIBB', 'HIFS', 'HIG', 'HII', 'HIIQ', 'HJLI', 'HL', 'HLF', 'HLI', 'HLIO', 'HLIT', 'HLT', 'HLX', 'HMHC', 'HMN', 'HMST', 'HMSY', 'HMTV', 'HNGR', 'HNI', 'HOFT', 'HOG', 'HOLX', 'HOMB', 'HOME', 'HON', 'HONE', 'HOPE', 'HOV', 'HP', 'HPE', 'HPQ', 'HQY', 'HRB', 'HRC', 'HRI', 'HRL', 'HROW', 'HRTG', 'HRTX', 'HSC', 'HSIC', 'HSII', 'HSKA', 'HSTM', 'HSY', 'HTBI', 'HTBK', 'HTGM', 'HTH', 'HTLD', 'HTLF', 'HUBB', 'HUBG', 'HUBS', 'HUD', 'HUM', 'HUN', 'HURC', 'HURN', 'HVT', 'HWC', 'HWCC', 'HWKN', 'HXL', 'HY', 'HYRE', 'HZO', 'IAA', 'IAC', 'IAG', 'IART', 'IBCP', 'IBKC', 'IBKR', 'IBM', 'IBOC', 'IBP', 'IBTX', 'ICBK', 'ICE', 'ICFI', 'ICHR', 'ICON', 'ICPT', 'ICUI', 'IDA', 'IDCC', 'IDRA', 'IDT', 'IDXX', 'IESC', 'IEX', 'IFF', 'IGMS', 'IGT', 'IHC', 'IIIN', 'IIIV', 'IIVI', 'ILMN', 'IMAX', 'IMGN', 'IMH', 'IMKTA', 'IMMR', 'IMMU', 'IMUX', 'IMXI', 'INAP', 'INBK', 'INCY', 'INDB', 'INFN', 'INFO', 'INGN', 'INGR', 'INMD', 'INO', 'INOD', 'INOV', 'INS', 'INSG', 'INSM', 'INSP', 'INST', 'INT', 'INTC', 'INTL', 'INTU', 'INVA', 'INVE', 'IO', 'IONS', 'IOSP', 'IOTS', 'IOVA', 'IP', 'IPAR', 'IPG', 'IPGP', 'IPHI', 'IPHS', 'IPI', 'IPWR', 'IQV', 'IR', 'IRBT', 'IRDM', 'IRMD', 'IRTC', 'IRWD', 'ISBC', 'ISEE', 'ISNS', 'ISRG', 'IT', 'ITCI', 'ITGR', 'ITIC', 'ITRI', 'ITT', 'ITW', 'IVC', 'IVZ', 'J', 'JACK', 'JAZZ', 'JBHT', 'JBL', 'JBLU', 'JBSS', 'JBT', 'JCI', 'JCOM', 'JCP', 'JEF', 'JELD', 'JILL', 'JJSF', 'JKHY', 'JLL', 'JNCE', 'JNJ', 'JNPR', 'JOE', 'JOUT', 'JPM', 'JRVR', 'JVA', 'JWN', 'JYNT', 'K', 'KAI', 'KALA', 'KALU', 'KALV', 'KAMN', 'KAR', 'KBH', 'KBR', 'KDMN', 'KDP', 'KE', 'KELYA', 'KEM', 'KEX', 'KEY', 'KEYS', 'KFRC', 'KFS', 'KFY', 'KGC', 'KHC', 'KIDS', 'KIRK', 'KL', 'KLAC', 'KLIC', 'KMB', 'KMI', 'KMPR', 'KMT', 'KMX', 'KN', 'KNDI', 'KNL', 'KNSA', 'KNSL', 'KNX', 'KO', 'KOD', 'KODK', 'KOP', 'KOPN', 'KOS', 'KPTI', 'KR', 'KRA', 'KRNT', 'KRNY', 'KRO', 'KRTX', 'KRUS', 'KRYS', 'KSS', 'KSU', 'KTB', 'KTCC', 'KTOS', 'KURA', 'KVHI', 'KW', 'KWR', 'L', 'LAD', 'LAKE', 'LANC', 'LASR', 'LAUR', 'LAWS', 'LB', 'LBAI', 'LBC', 'LBRDA', 'LBRDK', 'LBRT', 'LBTYA', 'LBTYK', 'LBY', 'LC', 'LCI', 'LCII', 'LCNB', 'LCUT', 'LDL', 'LDOS', 'LE', 'LEA', 'LEAF', 'LECO', 'LEG', 'LEGH', 'LEN', 'LEVI', 'LFUS', 'LFVN', 'LGIH', 'LGND', 'LH', 'LHCG', 'LHX', 'LII', 'LILA', 'LILAK', 'LIN', 'LINC', 'LIND', 'LITE', 'LIVE', 'LIVN', 'LJPC', 'LKFN', 'LKQ', 'LL', 'LLNW', 'LLY', 'LM', 'LMAT', 'LMNR', 'LMNX', 'LMT', 'LNC', 'LNDC', 'LNG', 'LNN', 'LNT', 'LNTH', 'LOB', 'LOCO', 'LOGC', 'LOGM', 'LOOP', 'LOPE', 'LORL', 'LOVE', 'LOW', 'LPCN', 'LPI', 'LPLA', 'LPSN', 'LPX', 'LQDA', 'LQDT', 'LRCX', 'LRN', 'LSCC', 'LSTR', 'LTHM', 'LTRPA', 'LTS', 'LULU', 'LUNA', 'LUV', 'LVGO', 'LVS', 'LW', 'LWAY', 'LXRX', 'LXU', 'LYFT', 'LYTS', 'LYV', 'LZB', 'M', 'MA', 'MACK', 'MAGS', 'MAN', 'MANH', 'MANT', 'MANU', 'MAR', 'MARA', 'MAS', 'MASI', 'MAT', 'MATW', 'MATX', 'MAXR', 'MBI', 'MBIN', 'MBIO', 'MBOT', 'MBUU', 'MBWM', 'MC', 'MCD', 'MCF', 'MCHP', 'MCHX', 'MCK', 'MCO', 'MCRB', 'MCRI', 'MCS', 'MCY', 'MD', 'MDB', 'MDC', 'MDGL', 'MDLA', 'MDLZ', 'MDP', 'MDRX', 'MDT', 'MDU', 'MDWD', 'MEC', 'MED', 'MEDP', 'MEET', 'MEI', 'MELI', 'MEOH', 'MERC', 'MESA', 'MET', 'MFC', 'MFIN', 'MFSF', 'MG', 'MGA', 'MGEE', 'MGI', 'MGIC', 'MGLN', 'MGM', 'MGNX', 'MGPI', 'MGRC', 'MGTA', 'MGTX', 'MGY', 'MHK', 'MHO', 'MIC', 'MIDD', 'MIK', 'MIME', 'MINI', 'MIRM', 'MIST', 'MITK', 'MKC', 'MKL', 'MKSI', 'MKTX', 'MLAB', 'MLHR', 'MLI', 'MLM', 'MLND', 'MLNT', 'MLNX', 'MLR', 'MMC', 'MMM', 'MMS', 'MMSI', 'MMYT', 'MNI', 'MNK', 'MNKD', 'MNLO', 'MNOV', 'MNRO', 'MNST', 'MNTA', 'MO', 'MOBL', 'MOD', 'MODN', 'MOFG', 'MOH', 'MORF', 'MORN', 'MOS', 'MOV', 'MPAA', 'MPC', 'MPWR', 'MPX', 'MRAM', 'MRC', 'MRCY', 'MRIN', 'MRK', 'MRKR', 'MRLN', 'MRNA', 'MRNS', 'MRO', 'MRTN', 'MRTX', 'MRVL', 'MS', 'MSA', 'MSBI', 'MSCI', 'MSEX', 'MSFT', 'MSG', 'MSGN', 'MSI', 'MSM', 'MSON', 'MSTR', 'MTB', 'MTBC', 'MTCH', 'MTD', 'MTDR', 'MTEM', 'MTEX', 'MTG', 'MTH', 'MTN', 'MTOR', 'MTRN', 'MTRX', 'MTSC', 'MTSI', 'MTW', 'MTX', 'MTZ', 'MU', 'MUR', 'MUSA', 'MUX', 'MVIS', 'MWA', 'MXIM', 'MXL', 'MYE', 'MYGN', 'MYL', 'MYOK', 'MYOV', 'MYRG', 'NAII', 'NAT', 'NATH', 'NATI', 'NATR', 'NAV', 'NAVI', 'NBEV', 'NBHC', 'NBIX', 'NBL', 'NBR', 'NBSE', 'NBTB', 'NC', 'NCBS', 'NCLH', 'NCMI', 'NCR', 'NDAQ', 'NDLS', 'NDSN', 'NEE', 'NEM', 'NEO', 'NEOG', 'NEON', 'NEP', 'NERV', 'NET', 'NETE', 'NEU', 'NEWR', 'NEXT', 'NFBK', 'NFE', 'NFG', 'NFLX', 'NG', 'NGHC', 'NGM', 'NGS', 'NGVC', 'NGVT', 'NHC', 'NHTC', 'NI', 'NJR', 'NK', 'NKE', 'NKSH', 'NKTR', 'NL', 'NLNK', 'NLOK', 'NLSN', 'NLTX', 'NMIH', 'NMRK', 'NNBR', 'NNI', 'NOC', 'NOV', 'NOVA', 'NOVN', 'NOVT', 'NOW', 'NP', 'NPK', 'NPO', 'NPTN', 'NR', 'NRC', 'NRG', 'NRIM', 'NSC', 'NSIT', 'NSP', 'NSSC', 'NSTG', 'NTAP', 'NTB', 'NTCT', 'NTGR', 'NTLA', 'NTNX', 'NTR', 'NTRA', 'NTRS', 'NTUS', 'NTWK', 'NUAN', 'NUE', 'NUS', 'NUVA', 'NVAX', 'NVCN', 'NVCR', 'NVDA', 'NVEC', 'NVEE', 'NVMI', 'NVR', 'NVRO', 'NVST', 'NVTA', 'NWBI', 'NWE', 'NWFL', 'NWHM', 'NWL', 'NWLI', 'NWN', 'NWPX', 'NWS', 'NWSA', 'NX', 'NXGN', 'NXPI', 'NXST', 'NXTC', 'NYCB', 'NYT', 'OAS', 'OBCI', 'OBNK', 'OC', 'OCFC', 'OCGN', 'OCN', 'OCUL', 'ODC', 'ODFL', 'ODP', 'ODT', 'OFIX', 'OFLX', 'OGE', 'OGS', 'OI', 'OII', 'OIS', 'OKE', 'OKTA', 'OLED', 'OLLI', 'OLN', 'OMC', 'OMCL', 'OMER', 'OMEX', 'OMF', 'OMI', 'ON', 'ONB', 'ONCS', 'ONCT', 'ONDK', 'ONTO', 'ONTX', 'OOMA', 'OPB', 'OPES', 'OPGN', 'OPK', 'OPRT', 'OPTN', 'OPTT', 'OPY', 'ORA', 'ORBC', 'ORCC', 'ORCL', 'ORI', 'ORLY', 'ORMP', 'ORRF', 'OSIS', 'OSK', 'OSPN', 'OSTK', 'OSUR', 'OTEX', 'OTIC', 'OTTR', 'OVV', 'OXM', 'OXY', 'OZK', 'P', 'PAAS', 'PACB', 'PACQ', 'PACW', 'PAG', 'PAGP', 'PAGS', 'PAH', 'PAHC', 'PANW', 'PAR', 'PARR', 'PATK', 'PAYC', 'PAYS', 'PAYX', 'PB', 'PBCT', 'PBF', 'PBH', 'PBI', 'PBPB', 'PBYI', 'PCAR', 'PCG', 'PCOM', 'PCRX', 'PCTI', 'PCTY', 'PCYG', 'PD', 'PDCE', 'PDCO', 'PDFS', 'PDLI', 'PE', 'PEBO', 'PEG', 'PEGA', 'PEGI', 'PEIX', 'PEN', 'PENN', 'PEP', 'PERI', 'PETQ', 'PETS', 'PFBC', 'PFBI', 'PFE', 'PFG', 'PFGC', 'PFIS', 'PFNX', 'PFPT', 'PFS', 'PFSI', 'PFSW', 'PG', 'PGC', 'PGNX', 'PGNY', 'PGR', 'PGTI', 'PH', 'PHAS', 'PHAT', 'PHM', 'PHR', 'PHX', 'PI', 'PICO', 'PII', 'PINC', 'PING', 'PINS', 'PIR', 'PIRS', 'PJT', 'PKE', 'PKG', 'PKI', 'PKOH', 'PLAB', 'PLAN', 'PLAY', 'PLCE', 'PLIN', 'PLMR', 'PLNT', 'PLOW', 'PLPC', 'PLSE', 'PLT', 'PLUG', 'PLUS', 'PLXP', 'PLXS', 'PLYA', 'PM', 'PMD', 'PME', 'PNC', 'PNFP', 'PNM', 'PNR', 'PNRG', 'PNTG', 'PNW', 'PODD', 'POL', 'POOL', 'POR', 'POST', 'POWI', 'POWL', 'PPBI', 'PPC', 'PPG', 'PPIH', 'PPL', 'PPSI', 'PQG', 'PRA', 'PRAA', 'PRAH', 'PRCP', 'PRFT', 'PRGO', 'PRGS', 'PRI', 'PRIM', 'PRK', 'PRLB', 'PRMW', 'PRNB', 'PRO', 'PROS', 'PROV', 'PRPL', 'PRSC', 'PRSP', 'PRTA', 'PRTK', 'PRTY', 'PRU', 'PRVB', 'PRVL', 'PS', 'PSMT', 'PSN', 'PSNL', 'PSTG', 'PSTI', 'PSTV', 'PSX', 'PTC', 'PTCT', 'PTEN', 'PTGX', 'PTI', 'PTLA', 'PTON', 'PTSI', 'PTVCB', 'PUB', 'PUMP', 'PVG', 'PVH', 'PWOD', 'PWR', 'PXD', 'PXLW', 'PYPL', 'PZN', 'PZZA', 'QADA', 'QCOM', 'QCRH', 'QDEL', 'QEP', 'QLYS', 'QNST', 'QRTEA', 'QRVO', 'QSR', 'QTRX', 'QTWO', 'QUAD', 'QUIK', 'QUMU', 'QUOT', 'R', 'RACE', 'RAD', 'RADA', 'RAIL', 'RAMP', 'RAPT', 'RARE', 'RAVE', 'RAVN', 'RBA', 'RBBN', 'RBC', 'RBCAA', 'RBCN', 'RCI', 'RCII', 'RCKT', 'RCKY', 'RCL', 'RCM', 'RCUS', 'RDFN', 'RDI', 'RDN', 'RDNT', 'RDUS', 'RDWR', 'RE', 'REAL', 'RECN', 'REGI', 'REGN', 'RELL', 'REPH', 'REPL', 'RES', 'RESN', 'RETA', 'REV', 'REVG', 'REX', 'REZI', 'RF', 'RFIL', 'RFL', 'RFP', 'RGA', 'RGEN', 'RGLD', 'RGNX', 'RGR', 'RGS', 'RH', 'RHI', 'RICK', 'RILY', 'RIOT', 'RJF', 'RL', 'RLGY', 'RLH', 'RLI', 'RM', 'RMAX', 'RMBS', 'RMCF', 'RMD', 'RMNI', 'RMR', 'RMTI', 'RNET', 'RNG', 'RNR', 'RNST', 'RNWK', 'ROCK', 'ROG', 'ROK', 'ROKU', 'ROL', 'ROLL', 'ROP', 'ROST', 'RP', 'RPAY', 'RPD', 'RPM', 'RRC', 'RRD', 'RRGB', 'RRR', 'RRTS', 'RS', 'RSG', 'RST', 'RTIX', 'RTN', 'RTRX', 'RUBI', 'RUBY', 'RUN', 'RUSHA', 'RUTH', 'RVLV', 'RVNC', 'RWLK', 'RXN', 'RY', 'RYI', 'RYTM', 'S', 'SA', 'SABR', 'SAFM', 'SAFT', 'SAGE', 'SAH', 'SAIA', 'SAIC', 'SAIL', 'SAM', 'SANM', 'SANW', 'SASR', 'SATS', 'SAVE', 'SBCF', 'SBGI', 'SBH', 'SBNY', 'SBPH', 'SBSI', 'SBT', 'SBUX', 'SC', 'SCCO', 'SCHL', 'SCHN', 'SCHW', 'SCI', 'SCKT', 'SCL', 'SCOR', 'SCPL', 'SCS', 'SCSC', 'SCU', 'SCVL', 'SCWX', 'SCX', 'SDC', 'SDRL', 'SEAS', 'SEB', 'SEDG', 'SEE', 'SEIC', 'SEM', 'SENEA', 'SERV', 'SF', 'SFBS', 'SFE', 'SFIX', 'SFM', 'SFNC', 'SG', 'SGA', 'SGBX', 'SGC', 'SGEN', 'SGH', 'SGMO', 'SGMS', 'SGRY', 'SGU', 'SHAK', 'SHEN', 'SHLD', 'SHLO', 'SHOO', 'SHOP', 'SHW', 'SIBN', 'SIEN', 'SIF', 'SIG', 'SIGA', 'SIGI', 'SILK', 'SINA', 'SINT', 'SIRI', 'SITE', 'SIVB', 'SIX', 'SJI', 'SJM', 'SJR', 'SJW', 'SKX', 'SKY', 'SKYW', 'SLAB', 'SLB', 'SLCA', 'SLCT', 'SLDB', 'SLF', 'SLGG', 'SLGN', 'SLM', 'SLP', 'SLRX', 'SM', 'SMAR', 'SMBC', 'SMED', 'SMG', 'SMMF', 'SMP', 'SMPL', 'SMTC', 'SMTX', 'SNA', 'SNAP', 'SNBR', 'SNCR', 'SND', 'SNDX', 'SNOA', 'SNPS', 'SNSS', 'SNV', 'SNX', 'SO', 'SOI', 'SON', 'SONM', 'SONO', 'SORL', 'SP', 'SPAR', 'SPB', 'SPCE', 'SPFI', 'SPGI', 'SPKE', 'SPLK', 'SPN', 'SPNE', 'SPNS', 'SPOK', 'SPOT', 'SPPI', 'SPR', 'SPSC', 'SPTN', 'SPWR', 'SPXC', 'SQ', 'SR', 'SRAX', 'SRCE', 'SRCL', 'SRDX', 'SRE', 'SRI', 'SRL', 'SRPT', 'SRRK', 'SSB', 'SSD', 'SSI', 'SSNC', 'SSP', 'SSRM', 'SSTI', 'SSTK', 'SSYS', 'ST', 'STAA', 'STBA', 'STC', 'STE', 'STFC', 'STIM', 'STL', 'STLD', 'STMP', 'STNE', 'STOK', 'STRA', 'STRL', 'STRO', 'STRS', 'STRT', 'STSA', 'STT', 'STX', 'STZ', 'SU', 'SUM', 'SUP', 'SUPN', 'SVMK', 'SWAV', 'SWCH', 'SWIR', 'SWK', 'SWKS', 'SWM', 'SWN', 'SWTX', 'SWX', 'SXC', 'SXI', 'SXT', 'SYBT', 'SYBX', 'SYF', 'SYK', 'SYKE', 'SYNA', 'SYNC', 'SYNH', 'SYRS', 'SYX', 'SYY', 'T', 'TA', 'TACO', 'TACT', 'TALO', 'TAP', 'TARA', 'TARO', 'TAST', 'TBBK', 'TBI', 'TBIO', 'TBK', 'TBNK', 'TBPH', 'TCBI', 'TCBK', 'TCDA', 'TCMD', 'TCON', 'TCRR', 'TCS', 'TCX', 'TD', 'TDC', 'TDG', 'TDOC', 'TDS', 'TDW', 'TDY', 'TEAM', 'TECD', 'TECH', 'TECK', 'TEL', 'TELL', 'TEN', 'TENB', 'TER', 'TERP', 'TESS', 'TEX', 'TFC', 'TFSL', 'TFX', 'TG', 'TGE', 'TGEN', 'TGH', 'TGI', 'TGLS', 'TGNA', 'TGP', 'TGT', 'TGTX', 'THC', 'THFF', 'THG', 'THMO', 'THO', 'THR', 'THRM', 'THS', 'TIF', 'TILE', 'TISI', 'TIVO', 'TJX', 'TKKS', 'TKR', 'TLRA', 'TLRD', 'TLRY', 'TLYS', 'TMHC', 'TMO', 'TMP', 'TMST', 'TMUS', 'TNAV', 'TNC', 'TNDM', 'TNET', 'TNP', 'TOL', 'TORC', 'TOWN', 'TPC', 'TPCO', 'TPH', 'TPIC', 'TPR', 'TPRE', 'TPTX', 'TPX', 'TR', 'TRC', 'TREE', 'TREX', 'TRGP', 'TRHC', 'TRI', 'TRIP', 'TRMB', 'TRMK', 'TRN', 'TROW', 'TROX', 'TRP', 'TRQ', 'TRS', 'TRST', 'TRT', 'TRTN', 'TRU', 'TRUE', 'TRUP', 'TRV', 'TRWH', 'TRXC', 'TSC', 'TSCO', 'TSEM', 'TSG', 'TSLA', 'TSN', 'TSQ', 'TSRI', 'TTC', 'TTD', 'TTEC', 'TTEK', 'TTGT', 'TTMI', 'TTOO', 'TTPH', 'TTWO', 'TUFN', 'TUP', 'TUSK', 'TVTY', 'TW', 'TWIN', 'TWLO', 'TWNK', 'TWOU', 'TWST', 'TWTR', 'TXG', 'TXMD', 'TXN', 'TXRH', 'TXT', 'TYL', 'TZOO', 'UAA', 'UAL', 'UBER', 'UBSI', 'UBX', 'UCBI', 'UCTT', 'UEIC', 'UFCS', 'UFI', 'UFPI', 'UFPT', 'UFS', 'UG', 'UGI', 'UHAL', 'UHS', 'UI', 'UIHC', 'UIS', 'ULBI', 'ULH', 'ULTA', 'UMBF', 'UMPQ', 'UNB', 'UNF', 'UNFI', 'UNH', 'UNM', 'UNP', 'UNT', 'UNVR', 'UPLD', 'UPS', 'UPWK', 'URBN', 'URGN', 'URI', 'UROV', 'USAK', 'USAP', 'USAS', 'USB', 'USCR', 'USFD', 'USLM', 'USM', 'USNA', 'USPH', 'USX', 'UTHR', 'UTI', 'UTL', 'UTMD', 'UTSI', 'UTX', 'UVE', 'UVSP', 'UVV', 'V', 'VAC', 'VAL', 'VALU', 'VAPO', 'VAR', 'VBTX', 'VC', 'VCEL', 'VCNX', 'VCRA', 'VCYT', 'VEC', 'VECO', 'VEEV', 'VERI', 'VERU', 'VFC', 'VGR', 'VHI', 'VIAC', 'VIAV', 'VICR', 'VIE', 'VIR', 'VIRT', 'VIVE', 'VIVO', 'VKTX', 'VLGEA', 'VLO', 'VLY', 'VMC', 'VMI', 'VMW', 'VNCE', 'VNDA', 'VNE', 'VOXX', 'VOYA', 'VPG', 'VRA', 'VRAY', 'VRCA', 'VREX', 'VRNS', 'VRNT', 'VRRM', 'VRS', 'VRSK', 'VRSN', 'VRTS', 'VRTU', 'VRTV', 'VRTX', 'VSAT', 'VSEC', 'VSH', 'VSLR', 'VST', 'VSTO', 'VUZI', 'VVI', 'VVUS', 'VVV', 'VYGR', 'VZ', 'W', 'WAB', 'WABC', 'WAFD', 'WAL', 'WASH', 'WAT', 'WATT', 'WBA', 'WBS', 'WBT', 'WCC', 'WCN', 'WD', 'WDAY', 'WDC', 'WDFC', 'WDR', 'WEC', 'WEN', 'WERN', 'WETF', 'WEX', 'WEYS', 'WFC', 'WGO', 'WH', 'WHD', 'WHG', 'WHR', 'WIFI', 'WINA', 'WING', 'WINS', 'WIRE', 'WIX', 'WK', 'WLDN', 'WLFC', 'WLH', 'WLK', 'WLL', 'WLTW', 'WM', 'WMB', 'WMK', 'WMS', 'WMT', 'WNC', 'WNEB', 'WOR', 'WORK', 'WORX', 'WOW', 'WPM', 'WPRT', 'WPX', 'WRB', 'WRK', 'WRLD', 'WRTC', 'WSBC', 'WSBF', 'WSC', 'WSFS', 'WSM', 'WSO', 'WST', 'WTBA', 'WTFC', 'WTI', 'WTM', 'WTR', 'WTRE', 'WTS', 'WU', 'WVE', 'WVFC', 'WVVI', 'WW', 'WWD', 'WWE', 'WWR', 'WWW', 'WYND', 'WYNN', 'X', 'XAIR', 'XBIT', 'XEC', 'XEL', 'XENE', 'XENT', 'XLNX', 'XLRN', 'XNCR', 'XOG', 'XOM', 'XOMA', 'XON', 'XONE', 'XPEL', 'XPER', 'XPO', 'XRAY', 'XRX', 'XYL', 'Y', 'YELP', 'YETI', 'YEXT', 'YMAB', 'YNDX', 'YORW', 'YRCW', 'YUM', 'YUMA', 'YUMC', 'ZAGG', 'ZBH', 'ZBRA', 'ZEN', 'ZFGN', 'ZG', 'ZGNX', 'ZION', 'ZIOP', 'ZIXI', 'ZM', 'ZNGA', 'ZS', 'ZTS', 'ZUMZ', 'ZUO', 'ZVO', 'ZYME', 'ZYNE']\n"
     ]
    }
   ],
   "source": [
    "ticker_file = open(\"ticker.txt\")\n",
    "data = ticker_file.readlines()\n",
    "ticker_file.close()\n",
    "\n",
    "ticker_list = [i.rstrip('\\n') for i in data]\n",
    "\n",
    "print(len(ticker_list))\n",
    "print(ticker_list)"
   ]
  },
  {
   "cell_type": "code",
   "execution_count": 3,
   "metadata": {},
   "outputs": [],
   "source": [
    "!mkdir ./data"
   ]
  },
  {
   "cell_type": "code",
   "execution_count": 53,
   "metadata": {},
   "outputs": [
    {
     "name": "stdout",
     "output_type": "stream",
     "text": [
      "https://api.stocktwits.com/api/2/streams/symbol/BBRY.json\n",
      "./data/BBRY_20200212_0838.json\n",
      "https://api.stocktwits.com/api/2/streams/symbol/AAPL.json\n",
      "./data/AAPL_20200212_0838.json\n",
      "https://api.stocktwits.com/api/2/streams/symbol/AMZN.json\n",
      "./data/AMZN_20200212_0838.json\n",
      "https://api.stocktwits.com/api/2/streams/symbol/BABA.json\n",
      "./data/BABA_20200212_0838.json\n",
      "https://api.stocktwits.com/api/2/streams/symbol/YHOO.json\n",
      "./data/YHOO_20200212_0838.json\n",
      "https://api.stocktwits.com/api/2/streams/symbol/FB.json\n",
      "./data/FB_20200212_0838.json\n",
      "https://api.stocktwits.com/api/2/streams/symbol/GOOG.json\n",
      "./data/GOOG_20200212_0838.json\n",
      "https://api.stocktwits.com/api/2/streams/symbol/BBBY.json\n",
      "./data/BBBY_20200212_0838.json\n",
      "https://api.stocktwits.com/api/2/streams/symbol/JNUG.json\n",
      "./data/JNUG_20200212_0838.json\n",
      "https://api.stocktwits.com/api/2/streams/symbol/SBUX.json\n",
      "./data/SBUX_20200212_0838.json\n",
      "https://api.stocktwits.com/api/2/streams/symbol/MU.json\n",
      "./data/MU_20200212_0838.json\n",
      "https://api.stocktwits.com/api/2/streams/symbol/MRVL.json\n",
      "./data/MRVL_20200212_0838.json\n",
      "https://api.stocktwits.com/api/2/streams/symbol/ADMA.json\n",
      "./data/ADMA_20200212_0838.json\n",
      "https://api.stocktwits.com/api/2/streams/symbol/HIG.json\n",
      "./data/HIG_20200212_0838.json\n",
      "https://api.stocktwits.com/api/2/streams/symbol/LGND.json\n",
      "./data/LGND_20200212_0838.json\n",
      "https://api.stocktwits.com/api/2/streams/symbol/DORM.json\n",
      "./data/DORM_20200212_0838.json\n",
      "https://api.stocktwits.com/api/2/streams/symbol/GIB.json\n",
      "./data/GIB_20200212_0838.json\n",
      "https://api.stocktwits.com/api/2/streams/symbol/SIEN.json\n",
      "./data/SIEN_20200212_0838.json\n",
      "https://api.stocktwits.com/api/2/streams/symbol/NFE.json\n",
      "./data/NFE_20200212_0838.json\n",
      "https://api.stocktwits.com/api/2/streams/symbol/CSFL.json\n",
      "./data/CSFL_20200212_0838.json\n",
      "https://api.stocktwits.com/api/2/streams/symbol/LM.json\n",
      "./data/LM_20200212_0838.json\n",
      "https://api.stocktwits.com/api/2/streams/symbol/CERN.json\n",
      "./data/CERN_20200212_0838.json\n",
      "https://api.stocktwits.com/api/2/streams/symbol/NEE.json\n",
      "./data/NEE_20200212_0838.json\n",
      "https://api.stocktwits.com/api/2/streams/symbol/FULC.json\n",
      "./data/FULC_20200212_0838.json\n",
      "https://api.stocktwits.com/api/2/streams/symbol/SGBX.json\n",
      "./data/SGBX_20200212_0838.json\n",
      "https://api.stocktwits.com/api/2/streams/symbol/TROW.json\n",
      "./data/TROW_20200212_0838.json\n",
      "https://api.stocktwits.com/api/2/streams/symbol/CWBC.json\n",
      "./data/CWBC_20200212_0838.json\n",
      "https://api.stocktwits.com/api/2/streams/symbol/TFC.json\n",
      "./data/TFC_20200212_0838.json\n",
      "https://api.stocktwits.com/api/2/streams/symbol/SBSI.json\n",
      "./data/SBSI_20200212_0838.json\n",
      "https://api.stocktwits.com/api/2/streams/symbol/DGLY.json\n",
      "./data/DGLY_20200212_0838.json\n",
      "https://api.stocktwits.com/api/2/streams/symbol/KODK.json\n",
      "./data/KODK_20200212_0838.json\n",
      "https://api.stocktwits.com/api/2/streams/symbol/BLD.json\n",
      "./data/BLD_20200212_0838.json\n",
      "https://api.stocktwits.com/api/2/streams/symbol/REZI.json\n",
      "./data/REZI_20200212_0838.json\n",
      "https://api.stocktwits.com/api/2/streams/symbol/MOS.json\n",
      "./data/MOS_20200212_0838.json\n",
      "https://api.stocktwits.com/api/2/streams/symbol/SRAX.json\n",
      "./data/SRAX_20200212_0838.json\n",
      "https://api.stocktwits.com/api/2/streams/symbol/PRA.json\n",
      "./data/PRA_20200212_0838.json\n",
      "https://api.stocktwits.com/api/2/streams/symbol/CTL.json\n",
      "./data/CTL_20200212_0838.json\n",
      "https://api.stocktwits.com/api/2/streams/symbol/COLB.json\n",
      "./data/COLB_20200212_0838.json\n",
      "https://api.stocktwits.com/api/2/streams/symbol/EFC.json\n",
      "./data/EFC_20200212_0838.json\n",
      "https://api.stocktwits.com/api/2/streams/symbol/BBY.json\n",
      "./data/BBY_20200212_0838.json\n",
      "https://api.stocktwits.com/api/2/streams/symbol/DK.json\n",
      "./data/DK_20200212_0838.json\n",
      "https://api.stocktwits.com/api/2/streams/symbol/JILL.json\n",
      "./data/JILL_20200212_0838.json\n",
      "https://api.stocktwits.com/api/2/streams/symbol/IIIV.json\n",
      "./data/IIIV_20200212_0838.json\n",
      "https://api.stocktwits.com/api/2/streams/symbol/AJG.json\n",
      "./data/AJG_20200212_0838.json\n",
      "https://api.stocktwits.com/api/2/streams/symbol/OCGN.json\n",
      "./data/OCGN_20200212_0838.json\n",
      "https://api.stocktwits.com/api/2/streams/symbol/JBL.json\n",
      "./data/JBL_20200212_0838.json\n",
      "https://api.stocktwits.com/api/2/streams/symbol/ALG.json\n",
      "./data/ALG_20200212_0838.json\n",
      "https://api.stocktwits.com/api/2/streams/symbol/PSN.json\n",
      "./data/PSN_20200212_0838.json\n",
      "https://api.stocktwits.com/api/2/streams/symbol/WYND.json\n",
      "./data/WYND_20200212_0838.json\n",
      "https://api.stocktwits.com/api/2/streams/symbol/MRNA.json\n",
      "./data/MRNA_20200212_0838.json\n",
      "https://api.stocktwits.com/api/2/streams/symbol/ABG.json\n",
      "./data/ABG_20200212_0838.json\n",
      "https://api.stocktwits.com/api/2/streams/symbol/ACIA.json\n",
      "./data/ACIA_20200212_0838.json\n",
      "https://api.stocktwits.com/api/2/streams/symbol/VRA.json\n",
      "./data/VRA_20200212_0838.json\n",
      "https://api.stocktwits.com/api/2/streams/symbol/CSS.json\n",
      "./data/CSS_20200212_0838.json\n",
      "https://api.stocktwits.com/api/2/streams/symbol/SPAR.json\n",
      "./data/SPAR_20200212_0838.json\n",
      "https://api.stocktwits.com/api/2/streams/symbol/CZNC.json\n",
      "./data/CZNC_20200212_0838.json\n",
      "https://api.stocktwits.com/api/2/streams/symbol/GWB.json\n",
      "./data/GWB_20200212_0838.json\n",
      "https://api.stocktwits.com/api/2/streams/symbol/BRKL.json\n",
      "./data/BRKL_20200212_0838.json\n",
      "https://api.stocktwits.com/api/2/streams/symbol/UTMD.json\n",
      "./data/UTMD_20200212_0838.json\n",
      "https://api.stocktwits.com/api/2/streams/symbol/MRIN.json\n",
      "./data/MRIN_20200212_0838.json\n",
      "https://api.stocktwits.com/api/2/streams/symbol/BZH.json\n",
      "./data/BZH_20200212_0838.json\n",
      "https://api.stocktwits.com/api/2/streams/symbol/WMS.json\n",
      "./data/WMS_20200212_0838.json\n",
      "https://api.stocktwits.com/api/2/streams/symbol/SNV.json\n",
      "./data/SNV_20200212_0838.json\n",
      "https://api.stocktwits.com/api/2/streams/symbol/DBD.json\n",
      "./data/DBD_20200212_0838.json\n",
      "https://api.stocktwits.com/api/2/streams/symbol/LNN.json\n",
      "./data/LNN_20200212_0838.json\n",
      "https://api.stocktwits.com/api/2/streams/symbol/FBIZ.json\n",
      "./data/FBIZ_20200212_0838.json\n",
      "https://api.stocktwits.com/api/2/streams/symbol/RBBN.json\n",
      "./data/RBBN_20200212_0838.json\n",
      "https://api.stocktwits.com/api/2/streams/symbol/SWCH.json\n",
      "./data/SWCH_20200212_0838.json\n",
      "https://api.stocktwits.com/api/2/streams/symbol/INVA.json\n",
      "./data/INVA_20200212_0838.json\n",
      "https://api.stocktwits.com/api/2/streams/symbol/AN.json\n",
      "./data/AN_20200212_0838.json\n",
      "https://api.stocktwits.com/api/2/streams/symbol/FBHS.json\n",
      "./data/FBHS_20200212_0838.json\n",
      "https://api.stocktwits.com/api/2/streams/symbol/CDAY.json\n",
      "./data/CDAY_20200212_0838.json\n",
      "https://api.stocktwits.com/api/2/streams/symbol/PNFP.json\n",
      "./data/PNFP_20200212_0838.json\n",
      "https://api.stocktwits.com/api/2/streams/symbol/EPAM.json\n",
      "./data/EPAM_20200212_0838.json\n",
      "https://api.stocktwits.com/api/2/streams/symbol/SCI.json\n",
      "./data/SCI_20200212_0838.json\n",
      "https://api.stocktwits.com/api/2/streams/symbol/VYGR.json\n",
      "./data/VYGR_20200212_0838.json\n",
      "https://api.stocktwits.com/api/2/streams/symbol/DFS.json\n",
      "./data/DFS_20200212_0838.json\n",
      "https://api.stocktwits.com/api/2/streams/symbol/FSLY.json\n",
      "./data/FSLY_20200212_0838.json\n",
      "https://api.stocktwits.com/api/2/streams/symbol/SSRM.json\n",
      "./data/SSRM_20200212_0838.json\n",
      "https://api.stocktwits.com/api/2/streams/symbol/NEOG.json\n",
      "./data/NEOG_20200212_0838.json\n",
      "https://api.stocktwits.com/api/2/streams/symbol/QLYS.json\n",
      "./data/QLYS_20200212_0838.json\n",
      "https://api.stocktwits.com/api/2/streams/symbol/CHMA.json\n",
      "./data/CHMA_20200212_0838.json\n",
      "https://api.stocktwits.com/api/2/streams/symbol/ANF.json\n",
      "./data/ANF_20200212_0838.json\n",
      "https://api.stocktwits.com/api/2/streams/symbol/CSTL.json\n",
      "./data/CSTL_20200212_0838.json\n",
      "https://api.stocktwits.com/api/2/streams/symbol/HMHC.json\n",
      "./data/HMHC_20200212_0838.json\n",
      "https://api.stocktwits.com/api/2/streams/symbol/ADES.json\n",
      "./data/ADES_20200212_0838.json\n",
      "https://api.stocktwits.com/api/2/streams/symbol/CORT.json\n",
      "./data/CORT_20200212_0838.json\n",
      "https://api.stocktwits.com/api/2/streams/symbol/EYE.json\n",
      "./data/EYE_20200212_0838.json\n",
      "https://api.stocktwits.com/api/2/streams/symbol/KFY.json\n",
      "./data/KFY_20200212_0838.json\n",
      "https://api.stocktwits.com/api/2/streams/symbol/RNWK.json\n",
      "./data/RNWK_20200212_0838.json\n",
      "https://api.stocktwits.com/api/2/streams/symbol/JJSF.json\n",
      "./data/JJSF_20200212_0838.json\n",
      "https://api.stocktwits.com/api/2/streams/symbol/CRK.json\n",
      "./data/CRK_20200212_0838.json\n",
      "https://api.stocktwits.com/api/2/streams/symbol/MANT.json\n",
      "./data/MANT_20200212_0838.json\n",
      "https://api.stocktwits.com/api/2/streams/symbol/IMMR.json\n"
     ]
    },
    {
     "name": "stdout",
     "output_type": "stream",
     "text": [
      "./data/IMMR_20200212_0838.json\n",
      "https://api.stocktwits.com/api/2/streams/symbol/ADUS.json\n",
      "./data/ADUS_20200212_0838.json\n",
      "https://api.stocktwits.com/api/2/streams/symbol/AR.json\n",
      "./data/AR_20200212_0838.json\n",
      "https://api.stocktwits.com/api/2/streams/symbol/ATO.json\n",
      "./data/ATO_20200212_0838.json\n",
      "https://api.stocktwits.com/api/2/streams/symbol/NRC.json\n",
      "./data/NRC_20200212_0838.json\n",
      "https://api.stocktwits.com/api/2/streams/symbol/BCC.json\n",
      "./data/BCC_20200212_0838.json\n",
      "https://api.stocktwits.com/api/2/streams/symbol/MATX.json\n",
      "./data/MATX_20200212_0838.json\n",
      "https://api.stocktwits.com/api/2/streams/symbol/CZZ.json\n",
      "./data/CZZ_20200212_0838.json\n",
      "https://api.stocktwits.com/api/2/streams/symbol/ADS.json\n",
      "./data/ADS_20200212_0838.json\n",
      "https://api.stocktwits.com/api/2/streams/symbol/LFUS.json\n",
      "./data/LFUS_20200212_0838.json\n",
      "https://api.stocktwits.com/api/2/streams/symbol/ENVA.json\n",
      "./data/ENVA_20200212_0838.json\n",
      "https://api.stocktwits.com/api/2/streams/symbol/WIRE.json\n",
      "./data/WIRE_20200212_0838.json\n",
      "https://api.stocktwits.com/api/2/streams/symbol/PTEN.json\n",
      "./data/PTEN_20200212_0838.json\n",
      "https://api.stocktwits.com/api/2/streams/symbol/CDW.json\n",
      "./data/CDW_20200212_0838.json\n",
      "https://api.stocktwits.com/api/2/streams/symbol/PCTY.json\n",
      "./data/PCTY_20200212_0838.json\n",
      "https://api.stocktwits.com/api/2/streams/symbol/TOL.json\n",
      "./data/TOL_20200212_0838.json\n",
      "https://api.stocktwits.com/api/2/streams/symbol/ATRC.json\n",
      "./data/ATRC_20200212_0838.json\n",
      "https://api.stocktwits.com/api/2/streams/symbol/AEE.json\n",
      "./data/AEE_20200212_0838.json\n",
      "https://api.stocktwits.com/api/2/streams/symbol/TRI.json\n",
      "./data/TRI_20200212_0838.json\n",
      "https://api.stocktwits.com/api/2/streams/symbol/PINC.json\n",
      "./data/PINC_20200212_0838.json\n",
      "https://api.stocktwits.com/api/2/streams/symbol/INFN.json\n",
      "./data/INFN_20200212_0838.json\n",
      "https://api.stocktwits.com/api/2/streams/symbol/TELL.json\n",
      "./data/TELL_20200212_0838.json\n",
      "https://api.stocktwits.com/api/2/streams/symbol/MTDR.json\n",
      "./data/MTDR_20200212_0838.json\n",
      "https://api.stocktwits.com/api/2/streams/symbol/SAIC.json\n",
      "./data/SAIC_20200212_0838.json\n",
      "https://api.stocktwits.com/api/2/streams/symbol/EBIX.json\n",
      "./data/EBIX_20200212_0838.json\n",
      "https://api.stocktwits.com/api/2/streams/symbol/LCI.json\n",
      "./data/LCI_20200212_0838.json\n",
      "https://api.stocktwits.com/api/2/streams/symbol/VNE.json\n",
      "./data/VNE_20200212_0838.json\n",
      "https://api.stocktwits.com/api/2/streams/symbol/YUMA.json\n",
      "./data/YUMA_20200212_0838.json\n",
      "https://api.stocktwits.com/api/2/streams/symbol/CCS.json\n",
      "./data/CCS_20200212_0838.json\n",
      "https://api.stocktwits.com/api/2/streams/symbol/SCSC.json\n",
      "./data/SCSC_20200212_0838.json\n",
      "https://api.stocktwits.com/api/2/streams/symbol/COP.json\n",
      "./data/COP_20200212_0838.json\n",
      "https://api.stocktwits.com/api/2/streams/symbol/BCOR.json\n",
      "./data/BCOR_20200212_0838.json\n",
      "https://api.stocktwits.com/api/2/streams/symbol/PLCE.json\n",
      "./data/PLCE_20200212_0838.json\n",
      "https://api.stocktwits.com/api/2/streams/symbol/CSWI.json\n",
      "./data/CSWI_20200212_0838.json\n",
      "https://api.stocktwits.com/api/2/streams/symbol/ISEE.json\n",
      "./data/ISEE_20200212_0838.json\n",
      "https://api.stocktwits.com/api/2/streams/symbol/FARM.json\n",
      "./data/FARM_20200212_0838.json\n",
      "https://api.stocktwits.com/api/2/streams/symbol/ECOM.json\n",
      "./data/ECOM_20200212_0838.json\n",
      "https://api.stocktwits.com/api/2/streams/symbol/CSPI.json\n",
      "./data/CSPI_20200212_0838.json\n",
      "https://api.stocktwits.com/api/2/streams/symbol/CSIQ.json\n",
      "./data/CSIQ_20200212_0838.json\n",
      "https://api.stocktwits.com/api/2/streams/symbol/HAE.json\n",
      "./data/HAE_20200212_0838.json\n",
      "https://api.stocktwits.com/api/2/streams/symbol/CORE.json\n",
      "./data/CORE_20200212_0838.json\n",
      "https://api.stocktwits.com/api/2/streams/symbol/RMD.json\n",
      "./data/RMD_20200212_0838.json\n",
      "https://api.stocktwits.com/api/2/streams/symbol/BLBD.json\n",
      "./data/BLBD_20200212_0838.json\n",
      "https://api.stocktwits.com/api/2/streams/symbol/QTWO.json\n",
      "./data/QTWO_20200212_0838.json\n",
      "https://api.stocktwits.com/api/2/streams/symbol/XRAY.json\n",
      "./data/XRAY_20200212_0838.json\n",
      "https://api.stocktwits.com/api/2/streams/symbol/ABEO.json\n",
      "./data/ABEO_20200212_0838.json\n",
      "https://api.stocktwits.com/api/2/streams/symbol/CO.json\n",
      "./data/CO_20200212_0838.json\n",
      "https://api.stocktwits.com/api/2/streams/symbol/VERI.json\n",
      "./data/VERI_20200212_0838.json\n",
      "https://api.stocktwits.com/api/2/streams/symbol/PLOW.json\n",
      "./data/PLOW_20200212_0838.json\n",
      "https://api.stocktwits.com/api/2/streams/symbol/DELL.json\n",
      "./data/DELL_20200212_0838.json\n",
      "https://api.stocktwits.com/api/2/streams/symbol/TDG.json\n",
      "./data/TDG_20200212_0838.json\n",
      "https://api.stocktwits.com/api/2/streams/symbol/BNFT.json\n",
      "./data/BNFT_20200212_0838.json\n",
      "https://api.stocktwits.com/api/2/streams/symbol/GBX.json\n",
      "./data/GBX_20200212_0838.json\n",
      "https://api.stocktwits.com/api/2/streams/symbol/PRGO.json\n",
      "./data/PRGO_20200212_0838.json\n",
      "https://api.stocktwits.com/api/2/streams/symbol/MLND.json\n",
      "./data/MLND_20200212_0838.json\n",
      "https://api.stocktwits.com/api/2/streams/symbol/AVNS.json\n",
      "./data/AVNS_20200212_0838.json\n",
      "https://api.stocktwits.com/api/2/streams/symbol/OFLX.json\n",
      "./data/OFLX_20200212_0838.json\n",
      "https://api.stocktwits.com/api/2/streams/symbol/DBI.json\n",
      "./data/DBI_20200212_0838.json\n",
      "https://api.stocktwits.com/api/2/streams/symbol/FIZZ.json\n",
      "./data/FIZZ_20200212_0838.json\n",
      "https://api.stocktwits.com/api/2/streams/symbol/DDS.json\n",
      "./data/DDS_20200212_0838.json\n",
      "https://api.stocktwits.com/api/2/streams/symbol/ALGN.json\n",
      "./data/ALGN_20200212_0838.json\n",
      "https://api.stocktwits.com/api/2/streams/symbol/LLY.json\n",
      "./data/LLY_20200212_0838.json\n",
      "https://api.stocktwits.com/api/2/streams/symbol/IO.json\n",
      "./data/IO_20200212_0838.json\n",
      "https://api.stocktwits.com/api/2/streams/symbol/CWT.json\n",
      "./data/CWT_20200212_0838.json\n",
      "https://api.stocktwits.com/api/2/streams/symbol/MDT.json\n",
      "./data/MDT_20200212_0838.json\n",
      "https://api.stocktwits.com/api/2/streams/symbol/CYD.json\n",
      "./data/CYD_20200212_0838.json\n",
      "https://api.stocktwits.com/api/2/streams/symbol/CYH.json\n",
      "./data/CYH_20200212_0838.json\n",
      "https://api.stocktwits.com/api/2/streams/symbol/SLDB.json\n",
      "./data/SLDB_20200212_0838.json\n",
      "https://api.stocktwits.com/api/2/streams/symbol/WLK.json\n",
      "./data/WLK_20200212_0838.json\n",
      "https://api.stocktwits.com/api/2/streams/symbol/FND.json\n",
      "./data/FND_20200212_0838.json\n",
      "https://api.stocktwits.com/api/2/streams/symbol/MPWR.json\n",
      "./data/MPWR_20200212_0838.json\n",
      "https://api.stocktwits.com/api/2/streams/symbol/PTLA.json\n",
      "./data/PTLA_20200212_0838.json\n",
      "https://api.stocktwits.com/api/2/streams/symbol/XBIT.json\n",
      "./data/XBIT_20200212_0838.json\n",
      "https://api.stocktwits.com/api/2/streams/symbol/MSCI.json\n",
      "./data/MSCI_20200212_0838.json\n",
      "https://api.stocktwits.com/api/2/streams/symbol/INBK.json\n",
      "./data/INBK_20200212_0838.json\n",
      "https://api.stocktwits.com/api/2/streams/symbol/CDK.json\n",
      "./data/CDK_20200212_0838.json\n",
      "https://api.stocktwits.com/api/2/streams/symbol/AVY.json\n",
      "./data/AVY_20200212_0838.json\n",
      "https://api.stocktwits.com/api/2/streams/symbol/UIHC.json\n",
      "./data/UIHC_20200212_0838.json\n",
      "https://api.stocktwits.com/api/2/streams/symbol/OFIX.json\n",
      "./data/OFIX_20200212_0838.json\n",
      "https://api.stocktwits.com/api/2/streams/symbol/DRAD.json\n",
      "./data/DRAD_20200212_0838.json\n",
      "https://api.stocktwits.com/api/2/streams/symbol/TRQ.json\n",
      "./data/TRQ_20200212_0838.json\n",
      "https://api.stocktwits.com/api/2/streams/symbol/TNDM.json\n",
      "./data/TNDM_20200212_0838.json\n",
      "https://api.stocktwits.com/api/2/streams/symbol/SLCA.json\n",
      "./data/SLCA_20200212_0838.json\n",
      "https://api.stocktwits.com/api/2/streams/symbol/EBS.json\n",
      "./data/EBS_20200212_0838.json\n",
      "https://api.stocktwits.com/api/2/streams/symbol/CLDX.json\n",
      "./data/CLDX_20200212_0838.json\n",
      "https://api.stocktwits.com/api/2/streams/symbol/REX.json\n",
      "./data/REX_20200212_0838.json\n",
      "https://api.stocktwits.com/api/2/streams/symbol/FBMS.json\n",
      "./data/FBMS_20200212_0838.json\n",
      "https://api.stocktwits.com/api/2/streams/symbol/INVE.json\n",
      "./data/INVE_20200212_0838.json\n",
      "https://api.stocktwits.com/api/2/streams/symbol/SINT.json\n",
      "./data/SINT_20200212_0838.json\n",
      "https://api.stocktwits.com/api/2/streams/symbol/HCAT.json\n",
      "./data/HCAT_20200212_0838.json\n",
      "https://api.stocktwits.com/api/2/streams/symbol/CFFI.json\n",
      "./data/CFFI_20200212_0838.json\n",
      "https://api.stocktwits.com/api/2/streams/symbol/RNET.json\n",
      "./data/RNET_20200212_0838.json\n",
      "https://api.stocktwits.com/api/2/streams/symbol/PSMT.json\n",
      "./data/PSMT_20200212_0838.json\n",
      "https://api.stocktwits.com/api/2/streams/symbol/XNCR.json\n"
     ]
    },
    {
     "name": "stdout",
     "output_type": "stream",
     "text": [
      "./data/XNCR_20200212_0838.json\n",
      "https://api.stocktwits.com/api/2/streams/symbol/WAFD.json\n",
      "./data/WAFD_20200212_0838.json\n",
      "https://api.stocktwits.com/api/2/streams/symbol/ATH.json\n",
      "./data/ATH_20200212_0838.json\n",
      "https://api.stocktwits.com/api/2/streams/symbol/FTR.json\n",
      "./data/FTR_20200212_0838.json\n",
      "https://api.stocktwits.com/api/2/streams/symbol/MYOK.json\n",
      "./data/MYOK_20200212_0838.json\n",
      "https://api.stocktwits.com/api/2/streams/symbol/AOS.json\n",
      "./data/AOS_20200212_0838.json\n",
      "https://api.stocktwits.com/api/2/streams/symbol/LBY.json\n",
      "./data/LBY_20200212_0838.json\n",
      "https://api.stocktwits.com/api/2/streams/symbol/PZZA.json\n",
      "./data/PZZA_20200212_0838.json\n",
      "https://api.stocktwits.com/api/2/streams/symbol/RLI.json\n",
      "./data/RLI_20200212_0838.json\n",
      "https://api.stocktwits.com/api/2/streams/symbol/SMED.json\n",
      "./data/SMED_20200212_0838.json\n",
      "https://api.stocktwits.com/api/2/streams/symbol/CAG.json\n",
      "./data/CAG_20200212_0838.json\n",
      "https://api.stocktwits.com/api/2/streams/symbol/TRU.json\n",
      "./data/TRU_20200212_0838.json\n",
      "https://api.stocktwits.com/api/2/streams/symbol/AVYA.json\n",
      "./data/AVYA_20200212_0838.json\n",
      "https://api.stocktwits.com/api/2/streams/symbol/CREE.json\n",
      "./data/CREE_20200212_0838.json\n"
     ]
    }
   ],
   "source": [
    "symbols = ['BBRY', 'AAPL', 'AMZN', 'BABA', 'YHOO', 'FB', 'GOOG', 'BBBY', 'JNUG', 'SBUX', 'MU']\n",
    "\n",
    "NUM_REQUEST = 200 - len(symbols)\n",
    "\n",
    "random.seed(12345)\n",
    "symbols.extend(random.sample(ticker_list, NUM_REQUEST))\n",
    "\n",
    "args = ['curl', '-X', 'GET', '']\n",
    "URL = \"https://api.stocktwits.com/api/2/streams/symbol/\"\n",
    "\n",
    "FILE_PATH = \"./data/\"\n",
    "\n",
    "start_datetime = datetime.now().strftime(\"%Y%m%d_%H%M\")\n",
    "for symbol in symbols:\n",
    "    try:\n",
    "        args[3] = URL + symbol + \".json\"\n",
    "        print(args[3])\n",
    "        proc = subprocess.run(args,stdout = subprocess.PIPE, stderr = subprocess.PIPE)\n",
    "\n",
    "        path = FILE_PATH + symbol + \"_\" + start_datetime + \".json\"\n",
    "        print(path)\n",
    "        with open(path, mode='w') as f:\n",
    "            f.write(proc.stdout.decode(\"utf8\"))\n",
    "    except:\n",
    "        traceback.print_exc()"
   ]
  },
  {
   "cell_type": "markdown",
   "metadata": {},
   "source": [
    "正常なレスポンス・ステータスを持っていないファイルを取り除きます。"
   ]
  },
  {
   "cell_type": "code",
   "execution_count": 54,
   "metadata": {},
   "outputs": [
    {
     "name": "stdout",
     "output_type": "stream",
     "text": [
      "data/REX_20200212_0838.json\n",
      "data/HAE_20200212_0838.json\n",
      "data/BBY_20200212_0838.json\n",
      "data/DDS_20200212_0838.json\n",
      "data/MRNA_20200212_0838.json\n",
      "data/LNN_20200212_0838.json\n",
      "data/TROW_20200212_0838.json\n",
      "data/PINC_20200212_0838.json\n",
      "data/IMMR_20200212_0838.json\n",
      "data/EPAM_20200212_0838.json\n",
      "data/CREE_20200212_0838.json\n",
      "data/OFLX_20200212_0838.json\n",
      "data/XBIT_20200212_0838.json\n",
      "data/JBL_20200212_0838.json\n",
      "data/RLI_20200212_0838.json\n",
      "data/GWB_20200212_0838.json\n",
      "data/CHMA_20200212_0838.json\n",
      "data/ADMA_20200212_0838.json\n",
      "data/HMHC_20200212_0838.json\n",
      "data/FARM_20200212_0838.json\n",
      "data/NEOG_20200212_0838.json\n",
      "data/DGLY_20200212_0838.json\n",
      "data/FULC_20200212_0838.json\n",
      "data/BZH_20200212_0838.json\n",
      "data/INVA_20200212_0838.json\n",
      "data/CLDX_20200212_0838.json\n",
      "data/FBIZ_20200212_0838.json\n",
      "data/WIRE_20200212_0838.json\n",
      "data/MLND_20200212_0838.json\n",
      "data/JJSF_20200212_0838.json\n",
      "data/BRKL_20200212_0838.json\n",
      "data/BLBD_20200212_0838.json\n",
      "data/SSRM_20200212_0838.json\n",
      "data/ENVA_20200212_0838.json\n",
      "data/CTL_20200212_0838.json\n",
      "data/EBS_20200212_0838.json\n",
      "data/NEE_20200212_0838.json\n",
      "data/KFY_20200212_0838.json\n",
      "data/RBBN_20200212_0838.json\n",
      "data/MOS_20200212_0838.json\n",
      "data/PTEN_20200212_0838.json\n",
      "data/QTWO_20200212_0838.json\n",
      "data/BCC_20200212_0838.json\n",
      "data/EBIX_20200212_0838.json\n",
      "data/FBHS_20200212_0838.json\n",
      "data/GBX_20200212_0838.json\n",
      "data/BABA_20200212_0838.json\n",
      "data/JNUG_20200212_0838.json\n",
      "data/ABEO_20200212_0838.json\n",
      "data/CSIQ_20200212_0838.json\n",
      "data/SNV_20200212_0838.json\n",
      "data/TRU_20200212_0838.json\n",
      "data/LCI_20200212_0838.json\n",
      "data/RNWK_20200212_0838.json\n",
      "data/FSLY_20200212_0838.json\n",
      "data/NRC_20200212_0838.json\n",
      "data/SLCA_20200212_0838.json\n",
      "data/AOS_20200212_0838.json\n",
      "data/ISEE_20200212_0838.json\n",
      "data/BBRY_20200212_0838.json\n",
      "data/BCOR_20200212_0838.json\n",
      "data/BBBY_20200212_0838.json\n",
      "data/SPAR_20200212_0838.json\n",
      "data/LBY_20200212_0838.json\n",
      "data/ABG_20200212_0838.json\n",
      "data/VERI_20200212_0838.json\n",
      "data/OCGN_20200212_0838.json\n",
      "data/PZZA_20200212_0838.json\n",
      "data/ADS_20200212_0838.json\n",
      "data/CDW_20200212_0838.json\n",
      "data/AR_20200212_0838.json\n",
      "data/PSMT_20200212_0838.json\n",
      "data/EFC_20200212_0838.json\n",
      "data/TOL_20200212_0838.json\n",
      "data/FB_20200212_0838.json\n",
      "data/IIIV_20200212_0838.json\n",
      "data/MPWR_20200212_0838.json\n",
      "data/WLK_20200212_0838.json\n",
      "data/CWT_20200212_0838.json\n",
      "data/CSPI_20200212_0838.json\n",
      "data/TNDM_20200212_0838.json\n",
      "data/CSFL_20200212_0838.json\n",
      "data/PNFP_20200212_0838.json\n",
      "data/CFFI_20200212_0838.json\n",
      "data/INVE_20200212_0838.json\n",
      "data/SBUX_20200212_0838.json\n",
      "data/PLCE_20200212_0838.json\n",
      "data/ATRC_20200212_0838.json\n",
      "data/PTLA_20200212_0838.json\n",
      "data/ADES_20200212_0838.json\n",
      "data/MRIN_20200212_0838.json\n",
      "data/CYH_20200212_0838.json\n",
      "data/CDK_20200212_0838.json\n",
      "data/SRAX_20200212_0838.json\n",
      "data/SAIC_20200212_0838.json\n",
      "data/COP_20200212_0838.json\n",
      "data/ECOM_20200212_0838.json\n",
      "data/SIEN_20200212_0838.json\n",
      "data/BNFT_20200212_0838.json\n",
      "data/UIHC_20200212_0838.json\n",
      "data/ANF_20200212_0838.json\n",
      "data/FTR_20200212_0838.json\n",
      "data/WYND_20200212_0838.json\n",
      "data/AAPL_20200212_0838.json\n",
      "data/XNCR_20200212_0838.json\n",
      "data/AVNS_20200212_0838.json\n",
      "data/XRAY_20200212_0838.json\n",
      "data/NFE_20200212_0838.json\n",
      "data/CERN_20200212_0838.json\n",
      "data/TELL_20200212_0838.json\n",
      "data/DFS_20200212_0838.json\n",
      "data/DBI_20200212_0838.json\n",
      "data/YUMA_20200212_0838.json\n",
      "data/SWCH_20200212_0838.json\n",
      "data/QLYS_20200212_0838.json\n",
      "data/LFUS_20200212_0838.json\n",
      "data/MSCI_20200212_0838.json\n",
      "data/CSTL_20200212_0838.json\n",
      "data/MRVL_20200212_0838.json\n",
      "data/LLY_20200212_0838.json\n",
      "data/SLDB_20200212_0838.json\n",
      "data/MDT_20200212_0838.json\n",
      "data/JILL_20200212_0838.json\n",
      "data/SMED_20200212_0838.json\n",
      "data/EYE_20200212_0838.json\n",
      "data/CYD_20200212_0838.json\n",
      "data/TDG_20200212_0838.json\n",
      "data/ACIA_20200212_0838.json\n",
      "data/AN_20200212_0838.json\n",
      "data/DBD_20200212_0838.json\n",
      "data/YHOO_20200212_0838.json\n",
      "data/ATH_20200212_0838.json\n",
      "data/CRK_20200212_0838.json\n",
      "data/SGBX_20200212_0838.json\n",
      "data/CSWI_20200212_0838.json\n",
      "data/COLB_20200212_0838.json\n",
      "data/PSN_20200212_0838.json\n",
      "data/IO_20200212_0838.json\n",
      "data/SINT_20200212_0838.json\n",
      "data/UTMD_20200212_0838.json\n",
      "data/VRA_20200212_0838.json\n",
      "data/ALGN_20200212_0838.json\n",
      "data/CORT_20200212_0838.json\n",
      "data/CWBC_20200212_0838.json\n",
      "data/MTDR_20200212_0838.json\n",
      "data/MYOK_20200212_0838.json\n",
      "data/REZI_20200212_0838.json\n",
      "data/CAG_20200212_0838.json\n",
      "data/TRI_20200212_0838.json\n",
      "data/AMZN_20200212_0838.json\n",
      "data/GOOG_20200212_0838.json\n",
      "data/CZZ_20200212_0838.json\n",
      "data/PRA_20200212_0838.json\n",
      "data/AEE_20200212_0838.json\n",
      "data/DK_20200212_0838.json\n",
      "data/INFN_20200212_0838.json\n",
      "data/ALG_20200212_0838.json\n",
      "data/MU_20200212_0838.json\n",
      "data/FBMS_20200212_0838.json\n",
      "data/PRGO_20200212_0838.json\n",
      "data/DORM_20200212_0838.json\n",
      "data/FIZZ_20200212_0838.json\n",
      "data/TRQ_20200212_0838.json\n",
      "data/AJG_20200212_0838.json\n",
      "data/MANT_20200212_0838.json\n",
      "data/SBSI_20200212_0838.json\n",
      "data/CORE_20200212_0838.json\n",
      "data/SCI_20200212_0838.json\n",
      "data/MATX_20200212_0838.json\n",
      "data/DRAD_20200212_0838.json\n",
      "data/OFIX_20200212_0838.json\n",
      "data/WMS_20200212_0838.json\n",
      "data/LM_20200212_0838.json\n",
      "data/WAFD_20200212_0838.json\n",
      "data/INBK_20200212_0838.json\n",
      "data/HIG_20200212_0838.json\n",
      "data/BLD_20200212_0838.json\n",
      "data/GIB_20200212_0838.json\n",
      "data/AVY_20200212_0838.json\n",
      "data/RMD_20200212_0838.json\n",
      "data/VYGR_20200212_0838.json\n",
      "data/RNET_20200212_0838.json\n",
      "data/CDAY_20200212_0838.json\n",
      "data/CZNC_20200212_0838.json\n",
      "data/PLOW_20200212_0838.json\n",
      "data/HCAT_20200212_0838.json\n",
      "data/AVYA_20200212_0838.json\n",
      "data/ATO_20200212_0838.json\n",
      "data/CO_20200212_0838.json\n",
      "data/VNE_20200212_0838.json\n",
      "data/CSS_20200212_0838.json\n",
      "data/CCS_20200212_0838.json\n",
      "data/SCSC_20200212_0838.json\n",
      "data/ADUS_20200212_0838.json\n",
      "data/KODK_20200212_0838.json\n",
      "data/PCTY_20200212_0838.json\n",
      "data/FND_20200212_0838.json\n",
      "data/DELL_20200212_0838.json\n",
      "data/LGND_20200212_0838.json\n",
      "data/TFC_20200212_0838.json\n"
     ]
    }
   ],
   "source": [
    "!grep -rlv '{\"response\":{\"status\":200}' data\n",
    "!grep -rlv '{\"response\":{\"status\":200}' data | xargs rm"
   ]
  },
  {
   "cell_type": "markdown",
   "metadata": {},
   "source": [
    "次に、保存したファイルを、分散処理環境（クラスター）を使って加工するためにHDFSへコピーします。\n",
    "\n",
    "**コピー先を、（必要に応じて）自分のフォームディレクトリに置換してください。**\n",
    "ここでは/tmp/フォルダを利用します。"
   ]
  },
  {
   "cell_type": "code",
   "execution_count": 6,
   "metadata": {},
   "outputs": [
    {
     "name": "stdout",
     "output_type": "stream",
     "text": [
      "mkdir: `/tmp/twits': File exists\r\n"
     ]
    }
   ],
   "source": [
    "!export HADOOP_CONF_DIR=/etc/hadoop/conf; hdfs dfs -mkdir /tmp/twits/"
   ]
  },
  {
   "cell_type": "code",
   "execution_count": 7,
   "metadata": {},
   "outputs": [],
   "source": [
    "!export HADOOP_CONF_DIR=/etc/hadoop/conf; hdfs dfs -put ./data/* /tmp/twits/"
   ]
  },
  {
   "cell_type": "code",
   "execution_count": 8,
   "metadata": {},
   "outputs": [
    {
     "name": "stdout",
     "output_type": "stream",
     "text": [
      "Found 294 items\r\n",
      "-rw-r--r--   3 user1 supergroup      46715 2020-01-23 06:43 /tmp/twits/AAPL_20200123_0613.json\r\n",
      "-rw-r--r--   3 user1 supergroup      46875 2020-01-23 06:44 /tmp/twits/AAPL_20200123_0618.json\r\n",
      "-rw-r--r--   3 user1 supergroup      45616 2020-01-23 07:36 /tmp/twits/AAPL_20200123_0717.json\r\n",
      "-rw-r--r--   3 user1 supergroup      45696 2020-01-23 07:35 /tmp/twits/AAPL_20200123_0730.json\r\n",
      "-rw-r--r--   3 user1 supergroup        125 2020-01-23 07:35 /tmp/twits/AAPL_20200123_0731.json\r\n",
      "-rw-r--r--   3 user1 supergroup        125 2020-01-23 07:37 /tmp/twits/AAPL_20200123_0732.json\r\n",
      "-rw-r--r--   3 user1 supergroup        125 2020-01-23 07:36 /tmp/twits/AAPL_20200123_0733.json\r\n",
      "-rw-r--r--   3 user1 supergroup        125 2020-01-23 07:35 /tmp/twits/AAPL_20200123_0734.json\r\n",
      "-rw-r--r--   3 user1 supergroup      49348 2020-02-12 08:21 /tmp/twits/AAPL_20200212_0818.json\r\n",
      "-rw-r--r--   3 user1 supergroup      33499 2020-02-12 08:21 /tmp/twits/ABEO_20200212_0818.json\r\n",
      "-rw-r--r--   3 user1 supergroup      43903 2020-02-12 08:21 /tmp/twits/ABG_20200212_0818.json\r\n",
      "-rw-r--r--   3 user1 supergroup      42049 2020-02-12 08:21 /tmp/twits/ACIA_20200212_0818.json\r\n",
      "-rw-r--r--   3 user1 supergroup      52365 2020-02-12 08:21 /tmp/twits/ADES_20200212_0818.json\r\n",
      "-rw-r--r--   3 user1 supergroup      38796 2020-02-12 08:21 /tmp/twits/ADMA_20200212_0818.json\r\n",
      "-rw-r--r--   3 user1 supergroup      45982 2020-02-12 08:21 /tmp/twits/ADS_20200212_0818.json\r\n",
      "-rw-r--r--   3 user1 supergroup      49947 2020-02-12 08:21 /tmp/twits/ADUS_20200212_0818.json\r\n",
      "-rw-r--r--   3 user1 supergroup      46862 2020-02-12 08:21 /tmp/twits/AEE_20200212_0818.json\r\n",
      "-rw-r--r--   3 user1 supergroup      50179 2020-02-12 08:21 /tmp/twits/AJG_20200212_0818.json\r\n",
      "-rw-r--r--   3 user1 supergroup      45520 2020-02-12 08:21 /tmp/twits/ALGN_20200212_0818.json\r\n",
      "-rw-r--r--   3 user1 supergroup      48432 2020-02-12 08:21 /tmp/twits/ALG_20200212_0818.json\r\n",
      "-rw-r--r--   3 user1 supergroup      43886 2020-01-23 06:43 /tmp/twits/AMZN_20200123_0613.json\r\n",
      "-rw-r--r--   3 user1 supergroup      44239 2020-01-23 06:44 /tmp/twits/AMZN_20200123_0618.json\r\n",
      "-rw-r--r--   3 user1 supergroup      43456 2020-01-23 07:37 /tmp/twits/AMZN_20200123_0717.json\r\n",
      "-rw-r--r--   3 user1 supergroup      43456 2020-01-23 07:35 /tmp/twits/AMZN_20200123_0730.json\r\n",
      "-rw-r--r--   3 user1 supergroup        125 2020-01-23 07:36 /tmp/twits/AMZN_20200123_0731.json\r\n",
      "-rw-r--r--   3 user1 supergroup        125 2020-01-23 07:37 /tmp/twits/AMZN_20200123_0732.json\r\n",
      "-rw-r--r--   3 user1 supergroup        125 2020-01-23 07:37 /tmp/twits/AMZN_20200123_0733.json\r\n",
      "-rw-r--r--   3 user1 supergroup        125 2020-01-23 07:35 /tmp/twits/AMZN_20200123_0734.json\r\n",
      "-rw-r--r--   3 user1 supergroup      44536 2020-02-12 08:21 /tmp/twits/AMZN_20200212_0818.json\r\n",
      "-rw-r--r--   3 user1 supergroup      43605 2020-02-12 08:21 /tmp/twits/ANF_20200212_0818.json\r\n",
      "-rw-r--r--   3 user1 supergroup      47028 2020-02-12 08:21 /tmp/twits/AN_20200212_0818.json\r\n",
      "-rw-r--r--   3 user1 supergroup      44627 2020-02-12 08:21 /tmp/twits/AOS_20200212_0818.json\r\n",
      "-rw-r--r--   3 user1 supergroup      37686 2020-02-12 08:21 /tmp/twits/AR_20200212_0818.json\r\n",
      "-rw-r--r--   3 user1 supergroup      48202 2020-02-12 08:21 /tmp/twits/ATH_20200212_0818.json\r\n",
      "-rw-r--r--   3 user1 supergroup      44836 2020-02-12 08:21 /tmp/twits/ATO_20200212_0818.json\r\n",
      "-rw-r--r--   3 user1 supergroup      41528 2020-02-12 08:21 /tmp/twits/ATRC_20200212_0818.json\r\n",
      "-rw-r--r--   3 user1 supergroup      46647 2020-02-12 08:21 /tmp/twits/AVNS_20200212_0818.json\r\n",
      "-rw-r--r--   3 user1 supergroup      43996 2020-02-12 08:21 /tmp/twits/AVYA_20200212_0818.json\r\n",
      "-rw-r--r--   3 user1 supergroup      49257 2020-02-12 08:21 /tmp/twits/AVY_20200212_0818.json\r\n",
      "-rw-r--r--   3 user1 supergroup      37980 2020-01-23 06:43 /tmp/twits/BABA_20200123_0613.json\r\n",
      "-rw-r--r--   3 user1 supergroup      38918 2020-01-23 06:43 /tmp/twits/BABA_20200123_0618.json\r\n",
      "-rw-r--r--   3 user1 supergroup      39838 2020-01-23 07:35 /tmp/twits/BABA_20200123_0717.json\r\n",
      "-rw-r--r--   3 user1 supergroup      39754 2020-01-23 07:36 /tmp/twits/BABA_20200123_0730.json\r\n",
      "-rw-r--r--   3 user1 supergroup        125 2020-01-23 07:36 /tmp/twits/BABA_20200123_0731.json\r\n",
      "-rw-r--r--   3 user1 supergroup        125 2020-01-23 07:36 /tmp/twits/BABA_20200123_0732.json\r\n",
      "-rw-r--r--   3 user1 supergroup        125 2020-01-23 07:36 /tmp/twits/BABA_20200123_0733.json\r\n",
      "-rw-r--r--   3 user1 supergroup        125 2020-01-23 07:36 /tmp/twits/BABA_20200123_0734.json\r\n",
      "-rw-r--r--   3 user1 supergroup      45260 2020-02-12 08:21 /tmp/twits/BABA_20200212_0818.json\r\n",
      "-rw-r--r--   3 user1 supergroup      44503 2020-01-23 06:44 /tmp/twits/BBBY_20200123_0613.json\r\n",
      "-rw-r--r--   3 user1 supergroup      44503 2020-01-23 06:43 /tmp/twits/BBBY_20200123_0618.json\r\n",
      "-rw-r--r--   3 user1 supergroup      44503 2020-01-23 07:37 /tmp/twits/BBBY_20200123_0717.json\r\n",
      "-rw-r--r--   3 user1 supergroup      44503 2020-01-23 07:35 /tmp/twits/BBBY_20200123_0730.json\r\n",
      "-rw-r--r--   3 user1 supergroup        125 2020-01-23 07:38 /tmp/twits/BBBY_20200123_0731.json\r\n",
      "-rw-r--r--   3 user1 supergroup        125 2020-01-23 07:36 /tmp/twits/BBBY_20200123_0732.json\r\n",
      "-rw-r--r--   3 user1 supergroup        125 2020-01-23 07:37 /tmp/twits/BBBY_20200123_0733.json\r\n",
      "-rw-r--r--   3 user1 supergroup        125 2020-01-23 07:36 /tmp/twits/BBBY_20200123_0734.json\r\n",
      "-rw-r--r--   3 user1 supergroup      30967 2020-02-12 08:21 /tmp/twits/BBBY_20200212_0818.json\r\n",
      "-rw-r--r--   3 user1 supergroup      46817 2020-01-23 06:43 /tmp/twits/BBRY_20200123_0613.json\r\n",
      "-rw-r--r--   3 user1 supergroup      46825 2020-01-23 06:43 /tmp/twits/BBRY_20200123_0618.json\r\n",
      "-rw-r--r--   3 user1 supergroup      47530 2020-01-23 07:35 /tmp/twits/BBRY_20200123_0717.json\r\n",
      "-rw-r--r--   3 user1 supergroup      47530 2020-01-23 07:37 /tmp/twits/BBRY_20200123_0730.json\r\n",
      "-rw-r--r--   3 user1 supergroup        125 2020-01-23 07:38 /tmp/twits/BBRY_20200123_0731.json\r\n",
      "-rw-r--r--   3 user1 supergroup        125 2020-01-23 07:37 /tmp/twits/BBRY_20200123_0732.json\r\n",
      "-rw-r--r--   3 user1 supergroup        125 2020-01-23 07:35 /tmp/twits/BBRY_20200123_0733.json\r\n",
      "-rw-r--r--   3 user1 supergroup        125 2020-01-23 07:36 /tmp/twits/BBRY_20200123_0734.json\r\n",
      "-rw-r--r--   3 user1 supergroup      41909 2020-02-12 08:21 /tmp/twits/BBRY_20200212_0818.json\r\n",
      "-rw-r--r--   3 user1 supergroup      50968 2020-02-12 08:21 /tmp/twits/BBY_20200212_0818.json\r\n",
      "-rw-r--r--   3 user1 supergroup      46027 2020-02-12 08:21 /tmp/twits/BCC_20200212_0818.json\r\n",
      "-rw-r--r--   3 user1 supergroup      46507 2020-02-12 08:21 /tmp/twits/BCOR_20200212_0818.json\r\n",
      "-rw-r--r--   3 user1 supergroup      48888 2020-02-12 08:21 /tmp/twits/BLBD_20200212_0818.json\r\n",
      "-rw-r--r--   3 user1 supergroup      47653 2020-02-12 08:21 /tmp/twits/BLD_20200212_0818.json\r\n",
      "-rw-r--r--   3 user1 supergroup      31149 2020-02-12 08:21 /tmp/twits/BNFT_20200212_0818.json\r\n",
      "-rw-r--r--   3 user1 supergroup      48074 2020-02-12 08:21 /tmp/twits/BRKL_20200212_0818.json\r\n",
      "-rw-r--r--   3 user1 supergroup      48705 2020-02-12 08:21 /tmp/twits/BZH_20200212_0818.json\r\n",
      "-rw-r--r--   3 user1 supergroup      47145 2020-02-12 08:21 /tmp/twits/CAG_20200212_0818.json\r\n",
      "-rw-r--r--   3 user1 supergroup      44984 2020-02-12 08:21 /tmp/twits/CCS_20200212_0818.json\r\n",
      "-rw-r--r--   3 user1 supergroup      40304 2020-02-12 08:21 /tmp/twits/CDAY_20200212_0818.json\r\n",
      "-rw-r--r--   3 user1 supergroup      45335 2020-02-12 08:21 /tmp/twits/CDK_20200212_0818.json\r\n",
      "-rw-r--r--   3 user1 supergroup      46501 2020-02-12 08:21 /tmp/twits/CDW_20200212_0818.json\r\n",
      "-rw-r--r--   3 user1 supergroup      49662 2020-02-12 08:21 /tmp/twits/CERN_20200212_0818.json\r\n",
      "-rw-r--r--   3 user1 supergroup      48583 2020-02-12 08:21 /tmp/twits/CFFI_20200212_0818.json\r\n",
      "-rw-r--r--   3 user1 supergroup      34144 2020-02-12 08:21 /tmp/twits/CHMA_20200212_0818.json\r\n",
      "-rw-r--r--   3 user1 supergroup      35557 2020-02-12 08:21 /tmp/twits/CLDX_20200212_0818.json\r\n",
      "-rw-r--r--   3 user1 supergroup      49373 2020-02-12 08:21 /tmp/twits/COLB_20200212_0818.json\r\n",
      "-rw-r--r--   3 user1 supergroup      45087 2020-02-12 08:21 /tmp/twits/COP_20200212_0818.json\r\n",
      "-rw-r--r--   3 user1 supergroup      45484 2020-02-12 08:21 /tmp/twits/CORE_20200212_0818.json\r\n",
      "-rw-r--r--   3 user1 supergroup      41395 2020-02-12 08:21 /tmp/twits/CORT_20200212_0818.json\r\n",
      "-rw-r--r--   3 user1 supergroup      32360 2020-02-12 08:21 /tmp/twits/CO_20200212_0818.json\r\n",
      "-rw-r--r--   3 user1 supergroup      42754 2020-02-12 08:21 /tmp/twits/CREE_20200212_0818.json\r\n",
      "-rw-r--r--   3 user1 supergroup      38459 2020-02-12 08:21 /tmp/twits/CRK_20200212_0818.json\r\n",
      "-rw-r--r--   3 user1 supergroup      50642 2020-02-12 08:21 /tmp/twits/CSFL_20200212_0818.json\r\n",
      "-rw-r--r--   3 user1 supergroup      33847 2020-02-12 08:21 /tmp/twits/CSIQ_20200212_0818.json\r\n",
      "-rw-r--r--   3 user1 supergroup      45225 2020-02-12 08:21 /tmp/twits/CSPI_20200212_0818.json\r\n",
      "-rw-r--r--   3 user1 supergroup      43693 2020-02-12 08:21 /tmp/twits/CSS_20200212_0818.json\r\n",
      "-rw-r--r--   3 user1 supergroup      43320 2020-02-12 08:21 /tmp/twits/CSTL_20200212_0818.json\r\n",
      "-rw-r--r--   3 user1 supergroup      41044 2020-02-12 08:21 /tmp/twits/CTL_20200212_0818.json\r\n",
      "-rw-r--r--   3 user1 supergroup      46409 2020-02-12 08:21 /tmp/twits/CWBC_20200212_0818.json\r\n",
      "-rw-r--r--   3 user1 supergroup      58498 2020-02-12 08:21 /tmp/twits/CWT_20200212_0818.json\r\n",
      "-rw-r--r--   3 user1 supergroup      52215 2020-02-12 08:21 /tmp/twits/CYD_20200212_0818.json\r\n"
     ]
    },
    {
     "name": "stdout",
     "output_type": "stream",
     "text": [
      "-rw-r--r--   3 user1 supergroup      42776 2020-02-12 08:21 /tmp/twits/CYH_20200212_0818.json\r\n",
      "-rw-r--r--   3 user1 supergroup      42617 2020-02-12 08:21 /tmp/twits/CZNC_20200212_0818.json\r\n",
      "-rw-r--r--   3 user1 supergroup      42997 2020-02-12 08:21 /tmp/twits/CZZ_20200212_0818.json\r\n",
      "-rw-r--r--   3 user1 supergroup      46687 2020-02-12 08:21 /tmp/twits/DBD_20200212_0818.json\r\n",
      "-rw-r--r--   3 user1 supergroup      43889 2020-02-12 08:21 /tmp/twits/DBI_20200212_0818.json\r\n",
      "-rw-r--r--   3 user1 supergroup      42401 2020-02-12 08:21 /tmp/twits/DDS_20200212_0818.json\r\n",
      "-rw-r--r--   3 user1 supergroup      42276 2020-02-12 08:21 /tmp/twits/DELL_20200212_0818.json\r\n",
      "-rw-r--r--   3 user1 supergroup      37036 2020-02-12 08:21 /tmp/twits/DFS_20200212_0818.json\r\n",
      "-rw-r--r--   3 user1 supergroup      30124 2020-02-12 08:21 /tmp/twits/DGLY_20200212_0818.json\r\n",
      "-rw-r--r--   3 user1 supergroup      45476 2020-02-12 08:21 /tmp/twits/DK_20200212_0818.json\r\n",
      "-rw-r--r--   3 user1 supergroup      47915 2020-02-12 08:21 /tmp/twits/DORM_20200212_0818.json\r\n",
      "-rw-r--r--   3 user1 supergroup      36733 2020-02-12 08:21 /tmp/twits/DRAD_20200212_0818.json\r\n",
      "-rw-r--r--   3 user1 supergroup      40363 2020-02-12 08:21 /tmp/twits/EBIX_20200212_0818.json\r\n",
      "-rw-r--r--   3 user1 supergroup      46873 2020-02-12 08:21 /tmp/twits/EBS_20200212_0818.json\r\n",
      "-rw-r--r--   3 user1 supergroup      46999 2020-02-12 08:21 /tmp/twits/ECOM_20200212_0818.json\r\n",
      "-rw-r--r--   3 user1 supergroup      47859 2020-02-12 08:21 /tmp/twits/EFC_20200212_0818.json\r\n",
      "-rw-r--r--   3 user1 supergroup      43590 2020-02-12 08:21 /tmp/twits/ENVA_20200212_0818.json\r\n",
      "-rw-r--r--   3 user1 supergroup      45800 2020-02-12 08:21 /tmp/twits/EPAM_20200212_0818.json\r\n",
      "-rw-r--r--   3 user1 supergroup      49409 2020-02-12 08:21 /tmp/twits/EYE_20200212_0818.json\r\n",
      "-rw-r--r--   3 user1 supergroup      45624 2020-02-12 08:21 /tmp/twits/FARM_20200212_0818.json\r\n",
      "-rw-r--r--   3 user1 supergroup      51966 2020-02-12 08:21 /tmp/twits/FBHS_20200212_0818.json\r\n",
      "-rw-r--r--   3 user1 supergroup      45471 2020-02-12 08:21 /tmp/twits/FBIZ_20200212_0818.json\r\n",
      "-rw-r--r--   3 user1 supergroup      50814 2020-02-12 08:21 /tmp/twits/FBMS_20200212_0818.json\r\n",
      "-rw-r--r--   3 user1 supergroup      47946 2020-01-23 06:44 /tmp/twits/FB_20200123_0613.json\r\n",
      "-rw-r--r--   3 user1 supergroup      47946 2020-01-23 06:43 /tmp/twits/FB_20200123_0618.json\r\n",
      "-rw-r--r--   3 user1 supergroup      49603 2020-01-23 07:37 /tmp/twits/FB_20200123_0717.json\r\n",
      "-rw-r--r--   3 user1 supergroup      49611 2020-01-23 07:36 /tmp/twits/FB_20200123_0730.json\r\n",
      "-rw-r--r--   3 user1 supergroup        125 2020-01-23 07:37 /tmp/twits/FB_20200123_0731.json\r\n",
      "-rw-r--r--   3 user1 supergroup        125 2020-01-23 07:35 /tmp/twits/FB_20200123_0732.json\r\n",
      "-rw-r--r--   3 user1 supergroup        125 2020-01-23 07:35 /tmp/twits/FB_20200123_0733.json\r\n",
      "-rw-r--r--   3 user1 supergroup        125 2020-01-23 07:37 /tmp/twits/FB_20200123_0734.json\r\n",
      "-rw-r--r--   3 user1 supergroup      39466 2020-02-12 08:21 /tmp/twits/FB_20200212_0818.json\r\n",
      "-rw-r--r--   3 user1 supergroup      45686 2020-02-12 08:21 /tmp/twits/FIZZ_20200212_0818.json\r\n",
      "-rw-r--r--   3 user1 supergroup      46618 2020-02-12 08:21 /tmp/twits/FND_20200212_0818.json\r\n",
      "-rw-r--r--   3 user1 supergroup      36490 2020-02-12 08:21 /tmp/twits/FSLY_20200212_0818.json\r\n",
      "-rw-r--r--   3 user1 supergroup      40254 2020-02-12 08:21 /tmp/twits/FTR_20200212_0818.json\r\n",
      "-rw-r--r--   3 user1 supergroup      42088 2020-02-12 08:21 /tmp/twits/FULC_20200212_0818.json\r\n",
      "-rw-r--r--   3 user1 supergroup      45316 2020-02-12 08:21 /tmp/twits/GBX_20200212_0818.json\r\n",
      "-rw-r--r--   3 user1 supergroup      42723 2020-02-12 08:21 /tmp/twits/GIB_20200212_0818.json\r\n",
      "-rw-r--r--   3 user1 supergroup      51086 2020-01-23 06:43 /tmp/twits/GOOG_20200123_0613.json\r\n",
      "-rw-r--r--   3 user1 supergroup      51616 2020-01-23 06:43 /tmp/twits/GOOG_20200123_0618.json\r\n",
      "-rw-r--r--   3 user1 supergroup      50261 2020-01-23 07:36 /tmp/twits/GOOG_20200123_0717.json\r\n",
      "-rw-r--r--   3 user1 supergroup      50261 2020-01-23 07:35 /tmp/twits/GOOG_20200123_0730.json\r\n",
      "-rw-r--r--   3 user1 supergroup        125 2020-01-23 07:36 /tmp/twits/GOOG_20200123_0731.json\r\n",
      "-rw-r--r--   3 user1 supergroup        125 2020-01-23 07:35 /tmp/twits/GOOG_20200123_0732.json\r\n",
      "-rw-r--r--   3 user1 supergroup        125 2020-01-23 07:35 /tmp/twits/GOOG_20200123_0733.json\r\n",
      "-rw-r--r--   3 user1 supergroup        125 2020-01-23 07:37 /tmp/twits/GOOG_20200123_0734.json\r\n",
      "-rw-r--r--   3 user1 supergroup      51797 2020-02-12 08:21 /tmp/twits/GOOG_20200212_0818.json\r\n",
      "-rw-r--r--   3 user1 supergroup      46608 2020-02-12 08:21 /tmp/twits/GWB_20200212_0818.json\r\n",
      "-rw-r--r--   3 user1 supergroup      47911 2020-02-12 08:21 /tmp/twits/HAE_20200212_0818.json\r\n",
      "-rw-r--r--   3 user1 supergroup      41027 2020-02-12 08:21 /tmp/twits/HCAT_20200212_0818.json\r\n",
      "-rw-r--r--   3 user1 supergroup      49642 2020-02-12 08:21 /tmp/twits/HIG_20200212_0818.json\r\n",
      "-rw-r--r--   3 user1 supergroup      48243 2020-02-12 08:21 /tmp/twits/HMHC_20200212_0818.json\r\n",
      "-rw-r--r--   3 user1 supergroup      43441 2020-02-12 08:21 /tmp/twits/IIIV_20200212_0818.json\r\n",
      "-rw-r--r--   3 user1 supergroup      36300 2020-02-12 08:21 /tmp/twits/IMMR_20200212_0818.json\r\n",
      "-rw-r--r--   3 user1 supergroup      43631 2020-02-12 08:21 /tmp/twits/INFN_20200212_0818.json\r\n",
      "-rw-r--r--   3 user1 supergroup      47018 2020-02-12 08:21 /tmp/twits/INVA_20200212_0818.json\r\n",
      "-rw-r--r--   3 user1 supergroup      43749 2020-02-12 08:21 /tmp/twits/INVE_20200212_0818.json\r\n",
      "-rw-r--r--   3 user1 supergroup      44682 2020-02-12 08:21 /tmp/twits/IO_20200212_0818.json\r\n",
      "-rw-r--r--   3 user1 supergroup      35716 2020-02-12 08:21 /tmp/twits/ISEE_20200212_0818.json\r\n",
      "-rw-r--r--   3 user1 supergroup      45468 2020-02-12 08:21 /tmp/twits/JBL_20200212_0818.json\r\n",
      "-rw-r--r--   3 user1 supergroup      31458 2020-02-12 08:21 /tmp/twits/JILL_20200212_0818.json\r\n",
      "-rw-r--r--   3 user1 supergroup      49710 2020-02-12 08:21 /tmp/twits/JJSF_20200212_0818.json\r\n",
      "-rw-r--r--   3 user1 supergroup      44387 2020-01-23 06:43 /tmp/twits/JNUG_20200123_0613.json\r\n",
      "-rw-r--r--   3 user1 supergroup      44387 2020-01-23 06:44 /tmp/twits/JNUG_20200123_0618.json\r\n",
      "-rw-r--r--   3 user1 supergroup      44584 2020-01-23 07:35 /tmp/twits/JNUG_20200123_0717.json\r\n",
      "-rw-r--r--   3 user1 supergroup      44584 2020-01-23 07:36 /tmp/twits/JNUG_20200123_0730.json\r\n",
      "-rw-r--r--   3 user1 supergroup        125 2020-01-23 07:37 /tmp/twits/JNUG_20200123_0731.json\r\n",
      "-rw-r--r--   3 user1 supergroup        125 2020-01-23 07:35 /tmp/twits/JNUG_20200123_0732.json\r\n",
      "-rw-r--r--   3 user1 supergroup        125 2020-01-23 07:37 /tmp/twits/JNUG_20200123_0733.json\r\n",
      "-rw-r--r--   3 user1 supergroup        125 2020-01-23 07:36 /tmp/twits/JNUG_20200123_0734.json\r\n",
      "-rw-r--r--   3 user1 supergroup      38520 2020-02-12 08:21 /tmp/twits/JNUG_20200212_0818.json\r\n",
      "-rw-r--r--   3 user1 supergroup      47439 2020-02-12 08:21 /tmp/twits/KFY_20200212_0818.json\r\n",
      "-rw-r--r--   3 user1 supergroup      42813 2020-02-12 08:21 /tmp/twits/KODK_20200212_0818.json\r\n",
      "-rw-r--r--   3 user1 supergroup      38505 2020-02-12 08:21 /tmp/twits/LBY_20200212_0818.json\r\n",
      "-rw-r--r--   3 user1 supergroup      37348 2020-02-12 08:21 /tmp/twits/LCI_20200212_0818.json\r\n",
      "-rw-r--r--   3 user1 supergroup      47103 2020-02-12 08:21 /tmp/twits/LFUS_20200212_0818.json\r\n",
      "-rw-r--r--   3 user1 supergroup      47448 2020-02-12 08:21 /tmp/twits/LGND_20200212_0818.json\r\n",
      "-rw-r--r--   3 user1 supergroup      47508 2020-02-12 08:21 /tmp/twits/LLY_20200212_0818.json\r\n",
      "-rw-r--r--   3 user1 supergroup      47815 2020-02-12 08:21 /tmp/twits/LM_20200212_0818.json\r\n",
      "-rw-r--r--   3 user1 supergroup      46955 2020-02-12 08:21 /tmp/twits/LNN_20200212_0818.json\r\n",
      "-rw-r--r--   3 user1 supergroup         69 2020-01-23 06:43 /tmp/twits/LQMT_20200123_0613.json\r\n",
      "-rw-r--r--   3 user1 supergroup         69 2020-01-23 06:43 /tmp/twits/LQMT_20200123_0618.json\r\n",
      "-rw-r--r--   3 user1 supergroup         69 2020-01-23 07:35 /tmp/twits/LQMT_20200123_0717.json\r\n",
      "-rw-r--r--   3 user1 supergroup         69 2020-01-23 07:37 /tmp/twits/LQMT_20200123_0730.json\r\n",
      "-rw-r--r--   3 user1 supergroup        125 2020-01-23 07:37 /tmp/twits/LQMT_20200123_0731.json\r\n",
      "-rw-r--r--   3 user1 supergroup        125 2020-01-23 07:37 /tmp/twits/LQMT_20200123_0732.json\r\n",
      "-rw-r--r--   3 user1 supergroup        125 2020-01-23 07:35 /tmp/twits/LQMT_20200123_0733.json\r\n",
      "-rw-r--r--   3 user1 supergroup        125 2020-01-23 07:36 /tmp/twits/LQMT_20200123_0734.json\r\n",
      "-rw-r--r--   3 user1 supergroup      53471 2020-02-12 08:21 /tmp/twits/MANT_20200212_0818.json\r\n",
      "-rw-r--r--   3 user1 supergroup      45397 2020-02-12 08:21 /tmp/twits/MATX_20200212_0818.json\r\n",
      "-rw-r--r--   3 user1 supergroup      45210 2020-02-12 08:21 /tmp/twits/MDT_20200212_0818.json\r\n",
      "-rw-r--r--   3 user1 supergroup      43514 2020-02-12 08:21 /tmp/twits/MLND_20200212_0818.json\r\n",
      "-rw-r--r--   3 user1 supergroup      44146 2020-02-12 08:21 /tmp/twits/MOS_20200212_0818.json\r\n",
      "-rw-r--r--   3 user1 supergroup      50320 2020-02-12 08:21 /tmp/twits/MPWR_20200212_0818.json\r\n",
      "-rw-r--r--   3 user1 supergroup      38415 2020-02-12 08:21 /tmp/twits/MRIN_20200212_0818.json\r\n",
      "-rw-r--r--   3 user1 supergroup      38911 2020-02-12 08:21 /tmp/twits/MRNA_20200212_0818.json\r\n",
      "-rw-r--r--   3 user1 supergroup      37853 2020-02-12 08:21 /tmp/twits/MRVL_20200212_0818.json\r\n",
      "-rw-r--r--   3 user1 supergroup      48533 2020-02-12 08:21 /tmp/twits/MSCI_20200212_0818.json\r\n",
      "-rw-r--r--   3 user1 supergroup      47849 2020-02-12 08:21 /tmp/twits/MTDR_20200212_0818.json\r\n",
      "-rw-r--r--   3 user1 supergroup      47157 2020-01-23 06:44 /tmp/twits/MU_20200123_0613.json\r\n",
      "-rw-r--r--   3 user1 supergroup      46541 2020-01-23 06:44 /tmp/twits/MU_20200123_0618.json\r\n",
      "-rw-r--r--   3 user1 supergroup      46071 2020-01-23 07:36 /tmp/twits/MU_20200123_0717.json\r\n",
      "-rw-r--r--   3 user1 supergroup      46071 2020-01-23 07:35 /tmp/twits/MU_20200123_0730.json\r\n",
      "-rw-r--r--   3 user1 supergroup        125 2020-01-23 07:36 /tmp/twits/MU_20200123_0731.json\r\n",
      "-rw-r--r--   3 user1 supergroup        125 2020-01-23 07:35 /tmp/twits/MU_20200123_0732.json\r\n",
      "-rw-r--r--   3 user1 supergroup        125 2020-01-23 07:37 /tmp/twits/MU_20200123_0733.json\r\n",
      "-rw-r--r--   3 user1 supergroup        125 2020-01-23 07:36 /tmp/twits/MU_20200123_0734.json\r\n",
      "-rw-r--r--   3 user1 supergroup      45329 2020-02-12 08:21 /tmp/twits/MU_20200212_0818.json\r\n",
      "-rw-r--r--   3 user1 supergroup      45404 2020-02-12 08:21 /tmp/twits/MYOK_20200212_0818.json\r\n",
      "-rw-r--r--   3 user1 supergroup      41757 2020-02-12 08:21 /tmp/twits/NEE_20200212_0818.json\r\n",
      "-rw-r--r--   3 user1 supergroup      46401 2020-02-12 08:21 /tmp/twits/NEOG_20200212_0818.json\r\n",
      "-rw-r--r--   3 user1 supergroup      51367 2020-02-12 08:21 /tmp/twits/NFE_20200212_0818.json\r\n",
      "-rw-r--r--   3 user1 supergroup      47257 2020-02-12 08:21 /tmp/twits/NRC_20200212_0818.json\r\n",
      "-rw-r--r--   3 user1 supergroup      36698 2020-02-12 08:21 /tmp/twits/OCGN_20200212_0818.json\r\n",
      "-rw-r--r--   3 user1 supergroup      55935 2020-02-12 08:21 /tmp/twits/OFIX_20200212_0818.json\r\n",
      "-rw-r--r--   3 user1 supergroup      56218 2020-02-12 08:21 /tmp/twits/OFLX_20200212_0818.json\r\n",
      "-rw-r--r--   3 user1 supergroup      44451 2020-02-12 08:21 /tmp/twits/PCTY_20200212_0818.json\r\n",
      "-rw-r--r--   3 user1 supergroup      47150 2020-02-12 08:21 /tmp/twits/PINC_20200212_0818.json\r\n",
      "-rw-r--r--   3 user1 supergroup      45123 2020-02-12 08:21 /tmp/twits/PLCE_20200212_0818.json\r\n",
      "-rw-r--r--   3 user1 supergroup      44728 2020-02-12 08:21 /tmp/twits/PLOW_20200212_0818.json\r\n",
      "-rw-r--r--   3 user1 supergroup      49160 2020-02-12 08:21 /tmp/twits/PNFP_20200212_0818.json\r\n",
      "-rw-r--r--   3 user1 supergroup      45822 2020-02-12 08:21 /tmp/twits/PRA_20200212_0818.json\r\n",
      "-rw-r--r--   3 user1 supergroup      43816 2020-02-12 08:21 /tmp/twits/PRGO_20200212_0818.json\r\n",
      "-rw-r--r--   3 user1 supergroup      47855 2020-02-12 08:21 /tmp/twits/PSMT_20200212_0818.json\r\n",
      "-rw-r--r--   3 user1 supergroup      45874 2020-02-12 08:21 /tmp/twits/PSN_20200212_0818.json\r\n",
      "-rw-r--r--   3 user1 supergroup      41684 2020-02-12 08:21 /tmp/twits/PTEN_20200212_0818.json\r\n",
      "-rw-r--r--   3 user1 supergroup      44433 2020-02-12 08:21 /tmp/twits/PTLA_20200212_0818.json\r\n",
      "-rw-r--r--   3 user1 supergroup      41364 2020-02-12 08:21 /tmp/twits/PZZA_20200212_0818.json\r\n",
      "-rw-r--r--   3 user1 supergroup      45266 2020-02-12 08:21 /tmp/twits/QLYS_20200212_0818.json\r\n",
      "-rw-r--r--   3 user1 supergroup      48598 2020-02-12 08:21 /tmp/twits/QTWO_20200212_0818.json\r\n",
      "-rw-r--r--   3 user1 supergroup      38767 2020-02-12 08:21 /tmp/twits/RBBN_20200212_0818.json\r\n",
      "-rw-r--r--   3 user1 supergroup      55099 2020-02-12 08:21 /tmp/twits/REX_20200212_0818.json\r\n",
      "-rw-r--r--   3 user1 supergroup      44332 2020-02-12 08:21 /tmp/twits/REZI_20200212_0818.json\r\n",
      "-rw-r--r--   3 user1 supergroup      45422 2020-02-12 08:21 /tmp/twits/RLI_20200212_0818.json\r\n",
      "-rw-r--r--   3 user1 supergroup      48746 2020-02-12 08:21 /tmp/twits/RMD_20200212_0818.json\r\n",
      "-rw-r--r--   3 user1 supergroup      45005 2020-02-12 08:21 /tmp/twits/RNET_20200212_0818.json\r\n",
      "-rw-r--r--   3 user1 supergroup      42355 2020-02-12 08:21 /tmp/twits/RNWK_20200212_0818.json\r\n",
      "-rw-r--r--   3 user1 supergroup      44865 2020-02-12 08:21 /tmp/twits/SAIC_20200212_0818.json\r\n",
      "-rw-r--r--   3 user1 supergroup      47283 2020-02-12 08:21 /tmp/twits/SBSI_20200212_0818.json\r\n",
      "-rw-r--r--   3 user1 supergroup      47048 2020-01-23 06:43 /tmp/twits/SBUX_20200123_0613.json\r\n",
      "-rw-r--r--   3 user1 supergroup      47048 2020-01-23 06:43 /tmp/twits/SBUX_20200123_0618.json\r\n",
      "-rw-r--r--   3 user1 supergroup      44643 2020-01-23 07:36 /tmp/twits/SBUX_20200123_0717.json\r\n",
      "-rw-r--r--   3 user1 supergroup      44684 2020-01-23 07:36 /tmp/twits/SBUX_20200123_0730.json\r\n",
      "-rw-r--r--   3 user1 supergroup        125 2020-01-23 07:36 /tmp/twits/SBUX_20200123_0731.json\r\n",
      "-rw-r--r--   3 user1 supergroup        125 2020-01-23 07:36 /tmp/twits/SBUX_20200123_0732.json\r\n",
      "-rw-r--r--   3 user1 supergroup        125 2020-01-23 07:37 /tmp/twits/SBUX_20200123_0733.json\r\n",
      "-rw-r--r--   3 user1 supergroup        125 2020-01-23 07:36 /tmp/twits/SBUX_20200123_0734.json\r\n",
      "-rw-r--r--   3 user1 supergroup      43217 2020-02-12 08:21 /tmp/twits/SBUX_20200212_0818.json\r\n",
      "-rw-r--r--   3 user1 supergroup      46261 2020-02-12 08:21 /tmp/twits/SCI_20200212_0818.json\r\n",
      "-rw-r--r--   3 user1 supergroup      47576 2020-02-12 08:21 /tmp/twits/SCSC_20200212_0818.json\r\n",
      "-rw-r--r--   3 user1 supergroup      34246 2020-02-12 08:21 /tmp/twits/SGBX_20200212_0818.json\r\n",
      "-rw-r--r--   3 user1 supergroup      30690 2020-02-12 08:21 /tmp/twits/SIEN_20200212_0818.json\r\n",
      "-rw-r--r--   3 user1 supergroup      33978 2020-02-12 08:21 /tmp/twits/SINT_20200212_0818.json\r\n",
      "-rw-r--r--   3 user1 supergroup      41756 2020-02-12 08:21 /tmp/twits/SLCA_20200212_0818.json\r\n",
      "-rw-r--r--   3 user1 supergroup      33163 2020-02-12 08:21 /tmp/twits/SLDB_20200212_0818.json\r\n",
      "-rw-r--r--   3 user1 supergroup      42108 2020-02-12 08:21 /tmp/twits/SMED_20200212_0818.json\r\n",
      "-rw-r--r--   3 user1 supergroup      46964 2020-02-12 08:21 /tmp/twits/SNV_20200212_0818.json\r\n",
      "-rw-r--r--   3 user1 supergroup      43698 2020-02-12 08:21 /tmp/twits/SPAR_20200212_0818.json\r\n",
      "-rw-r--r--   3 user1 supergroup      42385 2020-02-12 08:21 /tmp/twits/SRAX_20200212_0818.json\r\n",
      "-rw-r--r--   3 user1 supergroup      47154 2020-02-12 08:21 /tmp/twits/SSRM_20200212_0818.json\r\n",
      "-rw-r--r--   3 user1 supergroup      42504 2020-02-12 08:21 /tmp/twits/SWCH_20200212_0818.json\r\n",
      "-rw-r--r--   3 user1 supergroup      44458 2020-02-12 08:21 /tmp/twits/TDG_20200212_0818.json\r\n",
      "-rw-r--r--   3 user1 supergroup      42574 2020-02-12 08:21 /tmp/twits/TELL_20200212_0818.json\r\n",
      "-rw-r--r--   3 user1 supergroup      47823 2020-02-12 08:21 /tmp/twits/TFC_20200212_0818.json\r\n",
      "-rw-r--r--   3 user1 supergroup      37895 2020-02-12 08:21 /tmp/twits/TNDM_20200212_0818.json\r\n",
      "-rw-r--r--   3 user1 supergroup      48866 2020-02-12 08:21 /tmp/twits/TOL_20200212_0818.json\r\n",
      "-rw-r--r--   3 user1 supergroup      51289 2020-02-12 08:21 /tmp/twits/TRI_20200212_0818.json\r\n",
      "-rw-r--r--   3 user1 supergroup      49773 2020-02-12 08:21 /tmp/twits/TROW_20200212_0818.json\r\n",
      "-rw-r--r--   3 user1 supergroup      39121 2020-02-12 08:21 /tmp/twits/TRQ_20200212_0818.json\r\n",
      "-rw-r--r--   3 user1 supergroup      44587 2020-02-12 08:21 /tmp/twits/TRU_20200212_0818.json\r\n",
      "-rw-r--r--   3 user1 supergroup      55698 2020-02-12 08:21 /tmp/twits/UIHC_20200212_0818.json\r\n",
      "-rw-r--r--   3 user1 supergroup      44027 2020-02-12 08:21 /tmp/twits/UTMD_20200212_0818.json\r\n",
      "-rw-r--r--   3 user1 supergroup      35256 2020-02-12 08:21 /tmp/twits/VERI_20200212_0818.json\r\n",
      "-rw-r--r--   3 user1 supergroup      46832 2020-02-12 08:21 /tmp/twits/VNE_20200212_0818.json\r\n",
      "-rw-r--r--   3 user1 supergroup      49304 2020-02-12 08:21 /tmp/twits/VRA_20200212_0818.json\r\n",
      "-rw-r--r--   3 user1 supergroup      42091 2020-02-12 08:21 /tmp/twits/VYGR_20200212_0818.json\r\n",
      "-rw-r--r--   3 user1 supergroup      50173 2020-02-12 08:21 /tmp/twits/WAFD_20200212_0818.json\r\n",
      "-rw-r--r--   3 user1 supergroup      52008 2020-02-12 08:21 /tmp/twits/WIRE_20200212_0818.json\r\n",
      "-rw-r--r--   3 user1 supergroup      46169 2020-02-12 08:21 /tmp/twits/WLK_20200212_0818.json\r\n",
      "-rw-r--r--   3 user1 supergroup      50112 2020-02-12 08:21 /tmp/twits/WMS_20200212_0818.json\r\n",
      "-rw-r--r--   3 user1 supergroup      55887 2020-02-12 08:21 /tmp/twits/WYND_20200212_0818.json\r\n",
      "-rw-r--r--   3 user1 supergroup      41107 2020-02-12 08:21 /tmp/twits/XBIT_20200212_0818.json\r\n",
      "-rw-r--r--   3 user1 supergroup      51494 2020-02-12 08:21 /tmp/twits/XNCR_20200212_0818.json\r\n",
      "-rw-r--r--   3 user1 supergroup      48830 2020-02-12 08:21 /tmp/twits/XRAY_20200212_0818.json\r\n",
      "-rw-r--r--   3 user1 supergroup      45138 2020-01-23 06:44 /tmp/twits/YHOO_20200123_0613.json\r\n",
      "-rw-r--r--   3 user1 supergroup      45138 2020-01-23 06:44 /tmp/twits/YHOO_20200123_0618.json\r\n",
      "-rw-r--r--   3 user1 supergroup      45138 2020-01-23 07:35 /tmp/twits/YHOO_20200123_0717.json\r\n",
      "-rw-r--r--   3 user1 supergroup      45138 2020-01-23 07:36 /tmp/twits/YHOO_20200123_0730.json\r\n",
      "-rw-r--r--   3 user1 supergroup        125 2020-01-23 07:36 /tmp/twits/YHOO_20200123_0731.json\r\n",
      "-rw-r--r--   3 user1 supergroup        125 2020-01-23 07:37 /tmp/twits/YHOO_20200123_0732.json\r\n",
      "-rw-r--r--   3 user1 supergroup        125 2020-01-23 07:38 /tmp/twits/YHOO_20200123_0733.json\r\n",
      "-rw-r--r--   3 user1 supergroup        125 2020-01-23 07:38 /tmp/twits/YHOO_20200123_0734.json\r\n",
      "-rw-r--r--   3 user1 supergroup      45482 2020-02-12 08:21 /tmp/twits/YHOO_20200212_0818.json\r\n",
      "-rw-r--r--   3 user1 supergroup      33363 2020-02-12 08:21 /tmp/twits/YUMA_20200212_0818.json\r\n"
     ]
    }
   ],
   "source": [
    "!export HADOOP_CONF_DIR=/etc/hadoop/conf; hdfs dfs -ls /tmp/twits"
   ]
  },
  {
   "cell_type": "markdown",
   "metadata": {},
   "source": [
    "## HiveによるJsonデータ変換\n",
    "\n",
    "クラスターでデータを変換します。CDSW上では、ユーザーごとに別のプロジェクトを使っていましたが、クラスター環境では、自分が利用しているユーザーとデータを意識して取り扱う必要があります。\n",
    "\n",
    "\n",
    "あなたの（HADOOPクラスターへアクセスする）ユーザ名は以下で確認できます。"
   ]
  },
  {
   "cell_type": "code",
   "execution_count": 9,
   "metadata": {},
   "outputs": [
    {
     "name": "stdout",
     "output_type": "stream",
     "text": [
      "user1\r\n"
     ]
    }
   ],
   "source": [
    "!echo $HADOOP_USER_NAME"
   ]
  },
  {
   "cell_type": "markdown",
   "metadata": {},
   "source": [
    "### データベースの準備\n",
    "\n",
    "\n",
    "\n",
    "**下記のセルの中を適切なユーザ名とURL（Hiveサーバー）に置換してください。**"
   ]
  },
  {
   "cell_type": "code",
   "execution_count": 10,
   "metadata": {},
   "outputs": [],
   "source": [
    "%load_ext sql"
   ]
  },
  {
   "cell_type": "markdown",
   "metadata": {},
   "source": [
    "**下記のセルの中を適切なユーザ名（必要に応じて）とURL（Hiveサーバー）に置換してください。**"
   ]
  },
  {
   "cell_type": "code",
   "execution_count": 11,
   "metadata": {},
   "outputs": [
    {
     "data": {
      "text/plain": [
       "'Connected: user1@None'"
      ]
     },
     "execution_count": 11,
     "metadata": {},
     "output_type": "execute_result"
    }
   ],
   "source": [
    "%sql hive://user1@master.ykono.work:10000"
   ]
  },
  {
   "cell_type": "markdown",
   "metadata": {},
   "source": [
    "**（必要に応じて）あなたのユーザ名でデータベースを作成・利用してください**"
   ]
  },
  {
   "cell_type": "code",
   "execution_count": null,
   "metadata": {},
   "outputs": [],
   "source": [
    "%sql CREATE DATABASE <your user name>"
   ]
  },
  {
   "cell_type": "markdown",
   "metadata": {},
   "source": [
    "以下では、defaultデータベースを使います。"
   ]
  },
  {
   "cell_type": "code",
   "execution_count": 12,
   "metadata": {},
   "outputs": [
    {
     "name": "stdout",
     "output_type": "stream",
     "text": [
      " * hive://user1@master.ykono.work:10000\n",
      "Done.\n",
      " * hive://user1@master.ykono.work:10000\n",
      "Done.\n"
     ]
    },
    {
     "data": {
      "text/html": [
       "<table>\n",
       "    <tr>\n",
       "        <th>tab_name</th>\n",
       "    </tr>\n",
       "    <tr>\n",
       "        <td>json_message</td>\n",
       "    </tr>\n",
       "    <tr>\n",
       "        <td>twits</td>\n",
       "    </tr>\n",
       "</table>"
      ],
      "text/plain": [
       "[('json_message',), ('twits',)]"
      ]
     },
     "execution_count": 12,
     "metadata": {},
     "output_type": "execute_result"
    }
   ],
   "source": [
    "%sql USE default\n",
    "%sql SHOW TABLES"
   ]
  },
  {
   "cell_type": "markdown",
   "metadata": {},
   "source": [
    "### ライブラリファイルのコピー・登録\n",
    "\n",
    "Hiveクエリの中でjsonファイルを扱えるようにするためのライブラリを登録します。\n",
    "ライブラリファイルはGithubリポジトリに含まれています（ライブラリの詳細は`/lib/README.jar`を参照ください）。\n",
    "はじめにCDSWからHDFSにコピーし、HDFS上のファイルをHiveへ登録します。\n",
    "\n",
    "コンパイル済みのライブラリファイルをリポジトリに含めています。\n",
    "- json-1.3.7.3.jar\n",
    "- json-serde-cdh5-shim-1.3.7.3.jar\n",
    "- json-serde-1.3.7.3.jar'\n",
    "\n",
    "- brickhouse-0.7.1-SNAPSHOT.jar"
   ]
  },
  {
   "cell_type": "code",
   "execution_count": 13,
   "metadata": {},
   "outputs": [
    {
     "name": "stdout",
     "output_type": "stream",
     "text": [
      "put: `brickhouse-0.7.1-SNAPSHOT.jar': File exists\n",
      "put: `json-1.3.7.3.jar': File exists\n",
      "put: `json-serde-1.3.7.3.jar': File exists\n",
      "put: `json-serde-cdh5-shim-1.3.7.3.jar': File exists\n",
      "-rw-r--r--   3 user1 supergroup     308146 2020-01-23 06:42 /tmp/brickhouse-0.7.1-SNAPSHOT.jar\n",
      "-rw-r--r--   3 user1 supergroup      44477 2020-01-23 06:42 /tmp/json-1.3.7.3.jar\n",
      "-rw-r--r--   3 user1 supergroup      36653 2020-01-23 06:42 /tmp/json-serde-1.3.7.3.jar\n",
      "-rw-r--r--   3 user1 supergroup       5110 2020-01-23 06:42 /tmp/json-serde-cdh5-shim-1.3.7.3.jar\n"
     ]
    }
   ],
   "source": [
    "!export HADOOP_CONF_DIR=/etc/hadoop/conf; hdfs dfs -put `ls -1 ./lib/*.jar` .; hdfs dfs -ls /tmp/*.jar"
   ]
  },
  {
   "cell_type": "markdown",
   "metadata": {},
   "source": [
    "**(必要に応じ)下記のパスを適切なユーザ名で置換してください。**\n",
    "\n",
    "ここでは/tmp/フォルダを利用します。"
   ]
  },
  {
   "cell_type": "code",
   "execution_count": 14,
   "metadata": {},
   "outputs": [
    {
     "name": "stdout",
     "output_type": "stream",
     "text": [
      " * hive://user1@master.ykono.work:10000\n",
      "Done.\n",
      " * hive://user1@master.ykono.work:10000\n",
      "Done.\n",
      " * hive://user1@master.ykono.work:10000\n",
      "Done.\n",
      " * hive://user1@master.ykono.work:10000\n",
      "Done.\n",
      " * hive://user1@master.ykono.work:10000\n",
      "Done.\n"
     ]
    },
    {
     "data": {
      "text/plain": [
       "[]"
      ]
     },
     "execution_count": 14,
     "metadata": {},
     "output_type": "execute_result"
    }
   ],
   "source": [
    "%sql add jar hdfs:/tmp/json-1.3.7.3.jar\n",
    "%sql add jar hdfs:/tmp/json-serde-1.3.7.3.jar\n",
    "%sql add jar hdfs:/tmp/json-serde-cdh5-shim-1.3.7.3.jar\n",
    "%sql add jar hdfs:/tmp/brickhouse-0.7.1-SNAPSHOT.jar\n",
    "%sql CREATE TEMPORARY FUNCTION to_json AS 'brickhouse.udf.json.ToJsonUDF'"
   ]
  },
  {
   "cell_type": "code",
   "execution_count": 24,
   "metadata": {},
   "outputs": [
    {
     "name": "stdout",
     "output_type": "stream",
     "text": [
      " * hive://user1@master.ykono.work:10000\n",
      "Done.\n",
      " * hive://user1@master.ykono.work:10000\n",
      "Done.\n",
      " * hive://user1@master.ykono.work:10000\n",
      "Done.\n",
      " * hive://user1@master.ykono.work:10000\n",
      "Done.\n",
      " * hive://user1@master.ykono.work:10000\n",
      "Done.\n"
     ]
    },
    {
     "data": {
      "text/plain": [
       "[]"
      ]
     },
     "execution_count": 24,
     "metadata": {},
     "output_type": "execute_result"
    }
   ],
   "source": [
    "%sql DROP TABLE IF EXISTS twits\n",
    "%sql DROP TABLE IF EXISTS message_extracted\n",
    "%sql DROP TABLE IF EXISTS message_filtered\n",
    "%sql DROP TABLE IF EXISTS message_exploded\n",
    "%sql DROP TABLE IF EXISTS sentiment_data"
   ]
  },
  {
   "cell_type": "markdown",
   "metadata": {},
   "source": [
    "SNSメッセージファイルを格納した場所を指定して、テーブルを作成します。\n",
    "\n",
    "**`LOCATION`指定にあなたがファイルをアップロードしたパスを指定してください**\n",
    "ここでは/tmp/フォルダを利用します。"
   ]
  },
  {
   "cell_type": "code",
   "execution_count": 25,
   "metadata": {},
   "outputs": [
    {
     "name": "stdout",
     "output_type": "stream",
     "text": [
      " * hive://user1@master.ykono.work:10000\n",
      "Done.\n"
     ]
    },
    {
     "data": {
      "text/plain": [
       "[]"
      ]
     },
     "execution_count": 25,
     "metadata": {},
     "output_type": "execute_result"
    }
   ],
   "source": [
    "%%sql\n",
    "CREATE EXTERNAL TABLE twits (\n",
    "\tmessages \n",
    "\tARRAY<\n",
    "\t    STRUCT<body: STRING,\n",
    "\t        symbols:ARRAY<STRUCT<symbol:STRING>>,\n",
    "\t        entities:STRUCT<sentiment:STRUCT<basic:STRING>>\n",
    "\t    >\n",
    "\t>\n",
    ")\n",
    "ROW FORMAT SERDE 'org.openx.data.jsonserde.JsonSerDe' \n",
    "STORED AS TEXTFILE\n",
    "LOCATION '/tmp/twits'"
   ]
  },
  {
   "cell_type": "code",
   "execution_count": 26,
   "metadata": {},
   "outputs": [
    {
     "name": "stdout",
     "output_type": "stream",
     "text": [
      " * hive://user1@master.ykono.work:10000\n",
      "Done.\n"
     ]
    },
    {
     "data": {
      "text/html": [
       "<table>\n",
       "    <tr>\n",
       "        <th>_c0</th>\n",
       "    </tr>\n",
       "    <tr>\n",
       "        <td>294</td>\n",
       "    </tr>\n",
       "</table>"
      ],
      "text/plain": [
       "[(294,)]"
      ]
     },
     "execution_count": 26,
     "metadata": {},
     "output_type": "execute_result"
    }
   ],
   "source": [
    "%%sql\n",
    "select count(*) from twits"
   ]
  },
  {
   "cell_type": "code",
   "execution_count": 18,
   "metadata": {},
   "outputs": [
    {
     "name": "stdout",
     "output_type": "stream",
     "text": [
      " * hive://user1@master.ykono.work:10000\n",
      "Done.\n"
     ]
    },
    {
     "data": {
      "text/html": [
       "<table>\n",
       "    <tr>\n",
       "        <th>messages</th>\n",
       "    </tr>\n",
       "    <tr>\n",
       "        <td>[{&quot;body&quot;:&quot;It’s ‘Star Trek’ vs. ‘Star Wars’ in European Streaming Battle  $CMCSA $VIAC $AAPL $AMZN $DIS \\n\\nhttps://newsfilter.io/a/0860a502f00979509c755ec03401ed14&quot;,&quot;symbols&quot;:[{&quot;symbol&quot;:&quot;AAPL&quot;},{&quot;symbol&quot;:&quot;AMZN&quot;},{&quot;symbol&quot;:&quot;CMCSA&quot;},{&quot;symbol&quot;:&quot;DIS&quot;},{&quot;symbol&quot;:&quot;VIAC&quot;}],&quot;entities&quot;:{&quot;sentiment&quot;:null}},{&quot;body&quot;:&quot;$JD $AAPL&quot;,&quot;symbols&quot;:[{&quot;symbol&quot;:&quot;AAPL&quot;},{&quot;symbol&quot;:&quot;JD&quot;}],&quot;entities&quot;:{&quot;sentiment&quot;:null}},{&quot;body&quot;:&quot;$SPY $AAPL $CLVS $AMRN \\nThis is the world we live in folks\\nhttps://archive.is/971HH#selection-5385.84-5385.224&quot;,&quot;symbols&quot;:[{&quot;symbol&quot;:&quot;AAPL&quot;},{&quot;symbol&quot;:&quot;AMRN&quot;},{&quot;symbol&quot;:&quot;SPY&quot;},{&quot;symbol&quot;:&quot;CLVS&quot;}],&quot;entities&quot;:{&quot;sentiment&quot;:null}},{&quot;body&quot;:&quot;$AAPL Repo 8AM tomorrow&quot;,&quot;symbols&quot;:[{&quot;symbol&quot;:&quot;AAPL&quot;}],&quot;entities&quot;:{&quot;sentiment&quot;:{&quot;basic&quot;:&quot;Bullish&quot;}}},{&quot;body&quot;:&quot;$AAPL bought 320 puts at the hod should open nicely looking for 70-80%+ at open&quot;,&quot;symbols&quot;:[{&quot;symbol&quot;:&quot;AAPL&quot;}],&quot;entities&quot;:{&quot;sentiment&quot;:{&quot;basic&quot;:&quot;Bearish&quot;}}},{&quot;body&quot;:&quot;$AAPL VIRUS GANG&quot;,&quot;symbols&quot;:[{&quot;symbol&quot;:&quot;AAPL&quot;}],&quot;entities&quot;:{&quot;sentiment&quot;:{&quot;basic&quot;:&quot;Bearish&quot;}}},{&quot;body&quot;:&quot;$SPY think of the last person in china who touched your new iphone before you open the box\\n\\nWas he wearing a glove or did he $AAPL&quot;,&quot;symbols&quot;:[{&quot;symbol&quot;:&quot;AAPL&quot;},{&quot;symbol&quot;:&quot;SPY&quot;}],&quot;entities&quot;:{&quot;sentiment&quot;:{&quot;basic&quot;:&quot;Bearish&quot;}}},{&quot;body&quot;:&quot;$SPY $AMD $FB $BABA $AAPL By Morning everyone will be like&quot;,&quot;symbols&quot;:[{&quot;symbol&quot;:&quot;AAPL&quot;},{&quot;symbol&quot;:&quot;AMD&quot;},{&quot;symbol&quot;:&quot;SPY&quot;},{&quot;symbol&quot;:&quot;FB&quot;},{&quot;symbol&quot;:&quot;BABA&quot;}],&quot;entities&quot;:{&quot;sentiment&quot;:null}},{&quot;body&quot;:&quot;Apple Reports Earnings Next Week: Here’s How to Tell if Apple Will Meet Expectations $AAPL @apple #apple #earnings http://bit.ly/2RigUf2&quot;,&quot;symbols&quot;:[{&quot;symbol&quot;:&quot;AAPL&quot;}],&quot;entities&quot;:{&quot;sentiment&quot;:null}},{&quot;body&quot;:&quot;$AAPL $335 before ER&quot;,&quot;symbols&quot;:[{&quot;symbol&quot;:&quot;AAPL&quot;}],&quot;entities&quot;:{&quot;sentiment&quot;:{&quot;basic&quot;:&quot;Bullish&quot;}}},{&quot;body&quot;:&quot;$AAPL this trades in really tight, neat channels all year. if there is a correction maximum drawdown is 220, worst case scenario. still looking good, hitting the top of the upper channel here, expecting a pullback&quot;,&quot;symbols&quot;:[{&quot;symbol&quot;:&quot;AAPL&quot;}],&quot;entities&quot;:{&quot;sentiment&quot;:{&quot;basic&quot;:&quot;Bullish&quot;}}},{&quot;body&quot;:&quot;Spyware Is Getting So Smart Even The Billionaires Aren’t Immune  $AAPL $FB $FCN $AMZN \\n\\nhttps://newsfilter.io/a/0049e30e93429d2379af7c9f4c706b8c&quot;,&quot;symbols&quot;:[{&quot;symbol&quot;:&quot;AAPL&quot;},{&quot;symbol&quot;:&quot;AMZN&quot;},{&quot;symbol&quot;:&quot;FCN&quot;},{&quot;symbol&quot;:&quot;FB&quot;}],&quot;entities&quot;:{&quot;sentiment&quot;:null}},{&quot;body&quot;:&quot;$SPY $AAPL $TSLA $TWTR $GOOGL Real life Umbrella CORP in China&quot;,&quot;symbols&quot;:[{&quot;symbol&quot;:&quot;AAPL&quot;},{&quot;symbol&quot;:&quot;SPY&quot;},{&quot;symbol&quot;:&quot;TWTR&quot;},{&quot;symbol&quot;:&quot;TSLA&quot;},{&quot;symbol&quot;:&quot;GOOGL&quot;}],&quot;entities&quot;:{&quot;sentiment&quot;:null}},{&quot;body&quot;:&quot;$AAPL was analyzed by 29. The buy percentage consensus is at 81. So analysts seem to be very confident about $AAPL. https://www.chartmill.com/stock/quote/AAPL/analyst-ratings?utm_source=stocktwits&amp;amp;utm_medium=ANALYST&amp;amp;utm_content=AAPL&amp;amp;utm_campaign=social_tracking&quot;,&quot;symbols&quot;:[{&quot;symbol&quot;:&quot;AAPL&quot;}],&quot;entities&quot;:{&quot;sentiment&quot;:null}},{&quot;body&quot;:&quot;$SPY $TSLA $AAPL $LK $BABA matter of time before things get out of control. China travel banned is another options&quot;,&quot;symbols&quot;:[{&quot;symbol&quot;:&quot;AAPL&quot;},{&quot;symbol&quot;:&quot;SPY&quot;},{&quot;symbol&quot;:&quot;TSLA&quot;},{&quot;symbol&quot;:&quot;BABA&quot;},{&quot;symbol&quot;:&quot;LK&quot;}],&quot;entities&quot;:{&quot;sentiment&quot;:{&quot;basic&quot;:&quot;Bearish&quot;}}},{&quot;body&quot;:&quot;$AAPL $SPY $QQQ $BABA $ JD&quot;,&quot;symbols&quot;:[{&quot;symbol&quot;:&quot;AAPL&quot;},{&quot;symbol&quot;:&quot;SPY&quot;},{&quot;symbol&quot;:&quot;QQQ&quot;},{&quot;symbol&quot;:&quot;BABA&quot;}],&quot;entities&quot;:{&quot;sentiment&quot;:null}},{&quot;body&quot;:&quot;The $TSLA room is way better than the $AAPL room, but the $TSLA trolls are way worse 😂&quot;,&quot;symbols&quot;:[{&quot;symbol&quot;:&quot;AAPL&quot;},{&quot;symbol&quot;:&quot;TSLA&quot;}],&quot;entities&quot;:{&quot;sentiment&quot;:null}},{&quot;body&quot;:&quot;$AAPL Upcoming ER here and there 👻. Wanna hedge.&quot;,&quot;symbols&quot;:[{&quot;symbol&quot;:&quot;AAPL&quot;}],&quot;entities&quot;:{&quot;sentiment&quot;:null}},{&quot;body&quot;:&quot;$SPCE Will outperform every other stock in 2020. It is the next $NFLX $TSLA $AAPL style runner. Investors are starving for growth potential.&quot;,&quot;symbols&quot;:[{&quot;symbol&quot;:&quot;AAPL&quot;},{&quot;symbol&quot;:&quot;NFLX&quot;},{&quot;symbol&quot;:&quot;TSLA&quot;},{&quot;symbol&quot;:&quot;SPCE&quot;}],&quot;entities&quot;:{&quot;sentiment&quot;:{&quot;basic&quot;:&quot;Bullish&quot;}}},{&quot;body&quot;:&quot;$SPY $TSLA $AAPL $BYND  this is where SARS started. Beyond disgusting. 😖&quot;,&quot;symbols&quot;:[{&quot;symbol&quot;:&quot;AAPL&quot;},{&quot;symbol&quot;:&quot;SPY&quot;},{&quot;symbol&quot;:&quot;TSLA&quot;},{&quot;symbol&quot;:&quot;BYND&quot;}],&quot;entities&quot;:{&quot;sentiment&quot;:{&quot;basic&quot;:&quot;Bearish&quot;}}},{&quot;body&quot;:&quot;Thursday’s Watch Part 1: $AAPL $AMZN $AMD $BABA $BA 💖✅&quot;,&quot;symbols&quot;:[{&quot;symbol&quot;:&quot;AAPL&quot;},{&quot;symbol&quot;:&quot;AMZN&quot;},{&quot;symbol&quot;:&quot;AMD&quot;},{&quot;symbol&quot;:&quot;BA&quot;},{&quot;symbol&quot;:&quot;BABA&quot;}],&quot;entities&quot;:{&quot;sentiment&quot;:null}},{&quot;body&quot;:&quot;$AAPL US &amp;amp; World Markets cant take day after day of Asia falling like this without it also reacting. This is how we know there are a lot of novice Traders in this Market. \\nSo many think its just business as usual &amp;amp; you BTD &amp;amp; all is well. Thats nots whats going on now folks, dont keep your head in the sand\\n$SPY $MSFT $QQQ $BABA&quot;,&quot;symbols&quot;:[{&quot;symbol&quot;:&quot;AAPL&quot;},{&quot;symbol&quot;:&quot;MSFT&quot;},{&quot;symbol&quot;:&quot;SPY&quot;},{&quot;symbol&quot;:&quot;QQQ&quot;},{&quot;symbol&quot;:&quot;BABA&quot;}],&quot;entities&quot;:{&quot;sentiment&quot;:null}},{&quot;body&quot;:&quot;Adobe Flash disabled in latest Safari Technology $ADBE Apple coming for the kill $AAPL&quot;,&quot;symbols&quot;:[{&quot;symbol&quot;:&quot;AAPL&quot;},{&quot;symbol&quot;:&quot;ADBE&quot;}],&quot;entities&quot;:{&quot;sentiment&quot;:{&quot;basic&quot;:&quot;Bearish&quot;}}},{&quot;body&quot;:&quot;$ADBE about to get destroyed by $AAPL https://appleinsider.com/articles/20/01/22/adobe-flash-disabled-in-latest-safari-technology-preview&quot;,&quot;symbols&quot;:[{&quot;symbol&quot;:&quot;AAPL&quot;},{&quot;symbol&quot;:&quot;ADBE&quot;}],&quot;entities&quot;:{&quot;sentiment&quot;:{&quot;basic&quot;:&quot;Bearish&quot;}}},{&quot;body&quot;:&quot;$AAPL $SPY $QQQ $DIA  good to see a slight dip in futures this eve - could make for a better setup for Thur Jan 23, 2020.  AAPL 319.99 print today is now resistance.&quot;,&quot;symbols&quot;:[{&quot;symbol&quot;:&quot;AAPL&quot;},{&quot;symbol&quot;:&quot;DIA&quot;},{&quot;symbol&quot;:&quot;SPY&quot;},{&quot;symbol&quot;:&quot;QQQ&quot;}],&quot;entities&quot;:{&quot;sentiment&quot;:null}},{&quot;body&quot;:&quot;$AAPL fed pump buy&quot;,&quot;symbols&quot;:[{&quot;symbol&quot;:&quot;AAPL&quot;}],&quot;entities&quot;:{&quot;sentiment&quot;:{&quot;basic&quot;:&quot;Bullish&quot;}}},{&quot;body&quot;:&quot;$SPY Bulls.... $AAPL $BA $ROKU $BYND 🤣🤦‍♂️😆🤥&quot;,&quot;symbols&quot;:[{&quot;symbol&quot;:&quot;AAPL&quot;},{&quot;symbol&quot;:&quot;BA&quot;},{&quot;symbol&quot;:&quot;SPY&quot;},{&quot;symbol&quot;:&quot;ROKU&quot;},{&quot;symbol&quot;:&quot;BYND&quot;}],&quot;entities&quot;:{&quot;sentiment&quot;:{&quot;basic&quot;:&quot;Bearish&quot;}}},{&quot;body&quot;:&quot;$AAPL late cycle for this tech and this market cycle. Over valued sector. Market performance induced by the Fed.&quot;,&quot;symbols&quot;:[{&quot;symbol&quot;:&quot;AAPL&quot;}],&quot;entities&quot;:{&quot;sentiment&quot;:{&quot;basic&quot;:&quot;Bearish&quot;}}},{&quot;body&quot;:&quot;Peak profit for the last 6 expired option alerts for $AAPL -18.08  | 529.17  | 3.02  | 354.20  | 402.11  | 294.90  |&quot;,&quot;symbols&quot;:[{&quot;symbol&quot;:&quot;AAPL&quot;}],&quot;entities&quot;:{&quot;sentiment&quot;:null}},{&quot;body&quot;:&quot;$AAPL [Jan-31 28.00 Puts] Option volume Up +372.73 % |  Volume: 52 vs 11 https://www.sleekoptions.com/sleekscan.aspx?sub1=dscan&quot;,&quot;symbols&quot;:[{&quot;symbol&quot;:&quot;AAPL&quot;}],&quot;entities&quot;:{&quot;sentiment&quot;:null}}]</td>\n",
       "    </tr>\n",
       "    <tr>\n",
       "        <td>[{&quot;body&quot;:&quot;$SPY $QQQ $AAPL.   Asia Bloodbath.&quot;,&quot;symbols&quot;:[{&quot;symbol&quot;:&quot;AAPL&quot;},{&quot;symbol&quot;:&quot;SPY&quot;},{&quot;symbol&quot;:&quot;QQQ&quot;}],&quot;entities&quot;:{&quot;sentiment&quot;:null}},{&quot;body&quot;:&quot;$BYND meatless. $SPY $AAPL $SPCE $TSLA&quot;,&quot;symbols&quot;:[{&quot;symbol&quot;:&quot;AAPL&quot;},{&quot;symbol&quot;:&quot;SPY&quot;},{&quot;symbol&quot;:&quot;TSLA&quot;},{&quot;symbol&quot;:&quot;BYND&quot;},{&quot;symbol&quot;:&quot;SPCE&quot;}],&quot;entities&quot;:{&quot;sentiment&quot;:{&quot;basic&quot;:&quot;Bullish&quot;}}},{&quot;body&quot;:&quot;It’s ‘Star Trek’ vs. ‘Star Wars’ in European Streaming Battle  $CMCSA $VIAC $AAPL $AMZN $DIS \\n\\nhttps://newsfilter.io/a/0860a502f00979509c755ec03401ed14&quot;,&quot;symbols&quot;:[{&quot;symbol&quot;:&quot;AAPL&quot;},{&quot;symbol&quot;:&quot;AMZN&quot;},{&quot;symbol&quot;:&quot;CMCSA&quot;},{&quot;symbol&quot;:&quot;DIS&quot;},{&quot;symbol&quot;:&quot;VIAC&quot;}],&quot;entities&quot;:{&quot;sentiment&quot;:null}},{&quot;body&quot;:&quot;$JD $AAPL&quot;,&quot;symbols&quot;:[{&quot;symbol&quot;:&quot;AAPL&quot;},{&quot;symbol&quot;:&quot;JD&quot;}],&quot;entities&quot;:{&quot;sentiment&quot;:null}},{&quot;body&quot;:&quot;$SPY $AAPL $CLVS $AMRN \\nThis is the world we live in folks\\nhttps://archive.is/971HH#selection-5385.84-5385.224&quot;,&quot;symbols&quot;:[{&quot;symbol&quot;:&quot;AAPL&quot;},{&quot;symbol&quot;:&quot;AMRN&quot;},{&quot;symbol&quot;:&quot;SPY&quot;},{&quot;symbol&quot;:&quot;CLVS&quot;}],&quot;entities&quot;:{&quot;sentiment&quot;:null}},{&quot;body&quot;:&quot;$AAPL Repo 8AM tomorrow&quot;,&quot;symbols&quot;:[{&quot;symbol&quot;:&quot;AAPL&quot;}],&quot;entities&quot;:{&quot;sentiment&quot;:{&quot;basic&quot;:&quot;Bullish&quot;}}},{&quot;body&quot;:&quot;$AAPL bought 320 puts at the hod should open nicely looking for 70-80%+ at open&quot;,&quot;symbols&quot;:[{&quot;symbol&quot;:&quot;AAPL&quot;}],&quot;entities&quot;:{&quot;sentiment&quot;:{&quot;basic&quot;:&quot;Bearish&quot;}}},{&quot;body&quot;:&quot;$AAPL VIRUS GANG&quot;,&quot;symbols&quot;:[{&quot;symbol&quot;:&quot;AAPL&quot;}],&quot;entities&quot;:{&quot;sentiment&quot;:{&quot;basic&quot;:&quot;Bearish&quot;}}},{&quot;body&quot;:&quot;$SPY think of the last person in china who touched your new iphone before you open the box\\n\\nWas he wearing a glove or did he $AAPL&quot;,&quot;symbols&quot;:[{&quot;symbol&quot;:&quot;AAPL&quot;},{&quot;symbol&quot;:&quot;SPY&quot;}],&quot;entities&quot;:{&quot;sentiment&quot;:{&quot;basic&quot;:&quot;Bearish&quot;}}},{&quot;body&quot;:&quot;$SPY $AMD $FB $BABA $AAPL By Morning everyone will be like&quot;,&quot;symbols&quot;:[{&quot;symbol&quot;:&quot;AAPL&quot;},{&quot;symbol&quot;:&quot;AMD&quot;},{&quot;symbol&quot;:&quot;SPY&quot;},{&quot;symbol&quot;:&quot;FB&quot;},{&quot;symbol&quot;:&quot;BABA&quot;}],&quot;entities&quot;:{&quot;sentiment&quot;:null}},{&quot;body&quot;:&quot;Apple Reports Earnings Next Week: Here’s How to Tell if Apple Will Meet Expectations $AAPL @apple #apple #earnings http://bit.ly/2RigUf2&quot;,&quot;symbols&quot;:[{&quot;symbol&quot;:&quot;AAPL&quot;}],&quot;entities&quot;:{&quot;sentiment&quot;:null}},{&quot;body&quot;:&quot;$AAPL $335 before ER&quot;,&quot;symbols&quot;:[{&quot;symbol&quot;:&quot;AAPL&quot;}],&quot;entities&quot;:{&quot;sentiment&quot;:{&quot;basic&quot;:&quot;Bullish&quot;}}},{&quot;body&quot;:&quot;$AAPL this trades in really tight, neat channels all year. if there is a correction maximum drawdown is 220, worst case scenario. still looking good, hitting the top of the upper channel here, expecting a pullback&quot;,&quot;symbols&quot;:[{&quot;symbol&quot;:&quot;AAPL&quot;}],&quot;entities&quot;:{&quot;sentiment&quot;:{&quot;basic&quot;:&quot;Bullish&quot;}}},{&quot;body&quot;:&quot;Spyware Is Getting So Smart Even The Billionaires Aren’t Immune  $AAPL $FB $FCN $AMZN \\n\\nhttps://newsfilter.io/a/0049e30e93429d2379af7c9f4c706b8c&quot;,&quot;symbols&quot;:[{&quot;symbol&quot;:&quot;AAPL&quot;},{&quot;symbol&quot;:&quot;AMZN&quot;},{&quot;symbol&quot;:&quot;FCN&quot;},{&quot;symbol&quot;:&quot;FB&quot;}],&quot;entities&quot;:{&quot;sentiment&quot;:null}},{&quot;body&quot;:&quot;$SPY $AAPL $TSLA $TWTR $GOOGL Real life Umbrella CORP in China&quot;,&quot;symbols&quot;:[{&quot;symbol&quot;:&quot;AAPL&quot;},{&quot;symbol&quot;:&quot;SPY&quot;},{&quot;symbol&quot;:&quot;TWTR&quot;},{&quot;symbol&quot;:&quot;TSLA&quot;},{&quot;symbol&quot;:&quot;GOOGL&quot;}],&quot;entities&quot;:{&quot;sentiment&quot;:null}},{&quot;body&quot;:&quot;$AAPL was analyzed by 29. The buy percentage consensus is at 81. So analysts seem to be very confident about $AAPL. https://www.chartmill.com/stock/quote/AAPL/analyst-ratings?utm_source=stocktwits&amp;amp;utm_medium=ANALYST&amp;amp;utm_content=AAPL&amp;amp;utm_campaign=social_tracking&quot;,&quot;symbols&quot;:[{&quot;symbol&quot;:&quot;AAPL&quot;}],&quot;entities&quot;:{&quot;sentiment&quot;:null}},{&quot;body&quot;:&quot;$SPY $TSLA $AAPL $LK $BABA matter of time before things get out of control. China travel banned is another options&quot;,&quot;symbols&quot;:[{&quot;symbol&quot;:&quot;AAPL&quot;},{&quot;symbol&quot;:&quot;SPY&quot;},{&quot;symbol&quot;:&quot;TSLA&quot;},{&quot;symbol&quot;:&quot;BABA&quot;},{&quot;symbol&quot;:&quot;LK&quot;}],&quot;entities&quot;:{&quot;sentiment&quot;:{&quot;basic&quot;:&quot;Bearish&quot;}}},{&quot;body&quot;:&quot;$AAPL $SPY $QQQ $BABA $ JD&quot;,&quot;symbols&quot;:[{&quot;symbol&quot;:&quot;AAPL&quot;},{&quot;symbol&quot;:&quot;SPY&quot;},{&quot;symbol&quot;:&quot;QQQ&quot;},{&quot;symbol&quot;:&quot;BABA&quot;}],&quot;entities&quot;:{&quot;sentiment&quot;:null}},{&quot;body&quot;:&quot;The $TSLA room is way better than the $AAPL room, but the $TSLA trolls are way worse 😂&quot;,&quot;symbols&quot;:[{&quot;symbol&quot;:&quot;AAPL&quot;},{&quot;symbol&quot;:&quot;TSLA&quot;}],&quot;entities&quot;:{&quot;sentiment&quot;:null}},{&quot;body&quot;:&quot;$AAPL Upcoming ER here and there 👻. Wanna hedge.&quot;,&quot;symbols&quot;:[{&quot;symbol&quot;:&quot;AAPL&quot;}],&quot;entities&quot;:{&quot;sentiment&quot;:null}},{&quot;body&quot;:&quot;$SPCE Will outperform every other stock in 2020. It is the next $NFLX $TSLA $AAPL style runner. Investors are starving for growth potential.&quot;,&quot;symbols&quot;:[{&quot;symbol&quot;:&quot;AAPL&quot;},{&quot;symbol&quot;:&quot;NFLX&quot;},{&quot;symbol&quot;:&quot;TSLA&quot;},{&quot;symbol&quot;:&quot;SPCE&quot;}],&quot;entities&quot;:{&quot;sentiment&quot;:{&quot;basic&quot;:&quot;Bullish&quot;}}},{&quot;body&quot;:&quot;$SPY $TSLA $AAPL $BYND  this is where SARS started. Beyond disgusting. 😖&quot;,&quot;symbols&quot;:[{&quot;symbol&quot;:&quot;AAPL&quot;},{&quot;symbol&quot;:&quot;SPY&quot;},{&quot;symbol&quot;:&quot;TSLA&quot;},{&quot;symbol&quot;:&quot;BYND&quot;}],&quot;entities&quot;:{&quot;sentiment&quot;:{&quot;basic&quot;:&quot;Bearish&quot;}}},{&quot;body&quot;:&quot;Thursday’s Watch Part 1: $AAPL $AMZN $AMD $BABA $BA 💖✅&quot;,&quot;symbols&quot;:[{&quot;symbol&quot;:&quot;AAPL&quot;},{&quot;symbol&quot;:&quot;AMZN&quot;},{&quot;symbol&quot;:&quot;AMD&quot;},{&quot;symbol&quot;:&quot;BA&quot;},{&quot;symbol&quot;:&quot;BABA&quot;}],&quot;entities&quot;:{&quot;sentiment&quot;:null}},{&quot;body&quot;:&quot;$AAPL US &amp;amp; World Markets cant take day after day of Asia falling like this without it also reacting. This is how we know there are a lot of novice Traders in this Market. \\nSo many think its just business as usual &amp;amp; you BTD &amp;amp; all is well. Thats nots whats going on now folks, dont keep your head in the sand\\n$SPY $MSFT $QQQ $BABA&quot;,&quot;symbols&quot;:[{&quot;symbol&quot;:&quot;AAPL&quot;},{&quot;symbol&quot;:&quot;MSFT&quot;},{&quot;symbol&quot;:&quot;SPY&quot;},{&quot;symbol&quot;:&quot;QQQ&quot;},{&quot;symbol&quot;:&quot;BABA&quot;}],&quot;entities&quot;:{&quot;sentiment&quot;:null}},{&quot;body&quot;:&quot;Adobe Flash disabled in latest Safari Technology $ADBE Apple coming for the kill $AAPL&quot;,&quot;symbols&quot;:[{&quot;symbol&quot;:&quot;AAPL&quot;},{&quot;symbol&quot;:&quot;ADBE&quot;}],&quot;entities&quot;:{&quot;sentiment&quot;:{&quot;basic&quot;:&quot;Bearish&quot;}}},{&quot;body&quot;:&quot;$ADBE about to get destroyed by $AAPL https://appleinsider.com/articles/20/01/22/adobe-flash-disabled-in-latest-safari-technology-preview&quot;,&quot;symbols&quot;:[{&quot;symbol&quot;:&quot;AAPL&quot;},{&quot;symbol&quot;:&quot;ADBE&quot;}],&quot;entities&quot;:{&quot;sentiment&quot;:{&quot;basic&quot;:&quot;Bearish&quot;}}},{&quot;body&quot;:&quot;$AAPL $SPY $QQQ $DIA  good to see a slight dip in futures this eve - could make for a better setup for Thur Jan 23, 2020.  AAPL 319.99 print today is now resistance.&quot;,&quot;symbols&quot;:[{&quot;symbol&quot;:&quot;AAPL&quot;},{&quot;symbol&quot;:&quot;DIA&quot;},{&quot;symbol&quot;:&quot;SPY&quot;},{&quot;symbol&quot;:&quot;QQQ&quot;}],&quot;entities&quot;:{&quot;sentiment&quot;:null}},{&quot;body&quot;:&quot;$AAPL fed pump buy&quot;,&quot;symbols&quot;:[{&quot;symbol&quot;:&quot;AAPL&quot;}],&quot;entities&quot;:{&quot;sentiment&quot;:{&quot;basic&quot;:&quot;Bullish&quot;}}},{&quot;body&quot;:&quot;$SPY Bulls.... $AAPL $BA $ROKU $BYND 🤣🤦‍♂️😆🤥&quot;,&quot;symbols&quot;:[{&quot;symbol&quot;:&quot;AAPL&quot;},{&quot;symbol&quot;:&quot;BA&quot;},{&quot;symbol&quot;:&quot;SPY&quot;},{&quot;symbol&quot;:&quot;ROKU&quot;},{&quot;symbol&quot;:&quot;BYND&quot;}],&quot;entities&quot;:{&quot;sentiment&quot;:{&quot;basic&quot;:&quot;Bearish&quot;}}},{&quot;body&quot;:&quot;$AAPL late cycle for this tech and this market cycle. Over valued sector. Market performance induced by the Fed.&quot;,&quot;symbols&quot;:[{&quot;symbol&quot;:&quot;AAPL&quot;}],&quot;entities&quot;:{&quot;sentiment&quot;:{&quot;basic&quot;:&quot;Bearish&quot;}}}]</td>\n",
       "    </tr>\n",
       "    <tr>\n",
       "        <td>[{&quot;body&quot;:&quot;$AAPL 📈&quot;,&quot;symbols&quot;:[{&quot;symbol&quot;:&quot;AAPL&quot;}],&quot;entities&quot;:{&quot;sentiment&quot;:{&quot;basic&quot;:&quot;Bullish&quot;}}},{&quot;body&quot;:&quot;$SPY $AAPL Shorting and volatility is a thing of the past, only to be found in a museum&quot;,&quot;symbols&quot;:[{&quot;symbol&quot;:&quot;AAPL&quot;},{&quot;symbol&quot;:&quot;SPY&quot;}],&quot;entities&quot;:{&quot;sentiment&quot;:null}},{&quot;body&quot;:&quot;$SPY https://www.dailystar.co.uk/news/world-news/scientists-blame-coronavirus-bats-pics-21337997 Lord! Wtf is wrong with people nowadays! $TSLA $FB $AAPL $LK&quot;,&quot;symbols&quot;:[{&quot;symbol&quot;:&quot;AAPL&quot;},{&quot;symbol&quot;:&quot;SPY&quot;},{&quot;symbol&quot;:&quot;FB&quot;},{&quot;symbol&quot;:&quot;TSLA&quot;},{&quot;symbol&quot;:&quot;LK&quot;}],&quot;entities&quot;:{&quot;sentiment&quot;:null}},{&quot;body&quot;:&quot;$AMZN $BABA $AAPL $TSLA \\nKeep an Eye Out for Bank Earnings Before the Open!&quot;,&quot;symbols&quot;:[{&quot;symbol&quot;:&quot;AAPL&quot;},{&quot;symbol&quot;:&quot;AMZN&quot;},{&quot;symbol&quot;:&quot;TSLA&quot;},{&quot;symbol&quot;:&quot;BABA&quot;}],&quot;entities&quot;:{&quot;sentiment&quot;:null}},{&quot;body&quot;:&quot;$SPY $AAPL $TSLA  In China they have also Mr.Repo. They will print more Money. Stock Market will go up. World go under. -&amp;gt; $BTC.X&quot;,&quot;symbols&quot;:[{&quot;symbol&quot;:&quot;AAPL&quot;},{&quot;symbol&quot;:&quot;SPY&quot;},{&quot;symbol&quot;:&quot;TSLA&quot;},{&quot;symbol&quot;:&quot;BTC.X&quot;}],&quot;entities&quot;:{&quot;sentiment&quot;:{&quot;basic&quot;:&quot;Bullish&quot;}}},{&quot;body&quot;:&quot;$JAGX $BPMX $INTC $AAPL $SPY ANALYSIS&quot;,&quot;symbols&quot;:[{&quot;symbol&quot;:&quot;AAPL&quot;},{&quot;symbol&quot;:&quot;INTC&quot;},{&quot;symbol&quot;:&quot;SPY&quot;},{&quot;symbol&quot;:&quot;JAGX&quot;},{&quot;symbol&quot;:&quot;BPMX&quot;}],&quot;entities&quot;:{&quot;sentiment&quot;:null}},{&quot;body&quot;:&quot;$SPY $AAPL People will pull all their money out of Asia and will start panic buying US stocks for safety.\\n\\nSPY 340 is right around the corner&quot;,&quot;symbols&quot;:[{&quot;symbol&quot;:&quot;AAPL&quot;},{&quot;symbol&quot;:&quot;SPY&quot;}],&quot;entities&quot;:{&quot;sentiment&quot;:{&quot;basic&quot;:&quot;Bullish&quot;}}},{&quot;body&quot;:&quot;$AAPL $GPRO $SNAP&quot;,&quot;symbols&quot;:[{&quot;symbol&quot;:&quot;AAPL&quot;},{&quot;symbol&quot;:&quot;GPRO&quot;},{&quot;symbol&quot;:&quot;SNAP&quot;}],&quot;entities&quot;:{&quot;sentiment&quot;:null}},{&quot;body&quot;:&quot;$SPY $QQQ $AAPL.   Asia Bloodbath.&quot;,&quot;symbols&quot;:[{&quot;symbol&quot;:&quot;AAPL&quot;},{&quot;symbol&quot;:&quot;SPY&quot;},{&quot;symbol&quot;:&quot;QQQ&quot;}],&quot;entities&quot;:{&quot;sentiment&quot;:null}},{&quot;body&quot;:&quot;$BYND meatless. $SPY $AAPL $SPCE $TSLA&quot;,&quot;symbols&quot;:[{&quot;symbol&quot;:&quot;AAPL&quot;},{&quot;symbol&quot;:&quot;SPY&quot;},{&quot;symbol&quot;:&quot;TSLA&quot;},{&quot;symbol&quot;:&quot;BYND&quot;},{&quot;symbol&quot;:&quot;SPCE&quot;}],&quot;entities&quot;:{&quot;sentiment&quot;:{&quot;basic&quot;:&quot;Bullish&quot;}}},{&quot;body&quot;:&quot;It’s ‘Star Trek’ vs. ‘Star Wars’ in European Streaming Battle  $CMCSA $VIAC $AAPL $AMZN $DIS \\n\\nhttps://newsfilter.io/a/0860a502f00979509c755ec03401ed14&quot;,&quot;symbols&quot;:[{&quot;symbol&quot;:&quot;AAPL&quot;},{&quot;symbol&quot;:&quot;AMZN&quot;},{&quot;symbol&quot;:&quot;CMCSA&quot;},{&quot;symbol&quot;:&quot;DIS&quot;},{&quot;symbol&quot;:&quot;VIAC&quot;}],&quot;entities&quot;:{&quot;sentiment&quot;:null}},{&quot;body&quot;:&quot;$JD $AAPL&quot;,&quot;symbols&quot;:[{&quot;symbol&quot;:&quot;AAPL&quot;},{&quot;symbol&quot;:&quot;JD&quot;}],&quot;entities&quot;:{&quot;sentiment&quot;:null}},{&quot;body&quot;:&quot;$SPY $AAPL $CLVS $AMRN \\nThis is the world we live in folks\\nhttps://archive.is/971HH#selection-5385.84-5385.224&quot;,&quot;symbols&quot;:[{&quot;symbol&quot;:&quot;AAPL&quot;},{&quot;symbol&quot;:&quot;AMRN&quot;},{&quot;symbol&quot;:&quot;SPY&quot;},{&quot;symbol&quot;:&quot;CLVS&quot;}],&quot;entities&quot;:{&quot;sentiment&quot;:null}},{&quot;body&quot;:&quot;$AAPL Repo 8AM tomorrow&quot;,&quot;symbols&quot;:[{&quot;symbol&quot;:&quot;AAPL&quot;}],&quot;entities&quot;:{&quot;sentiment&quot;:{&quot;basic&quot;:&quot;Bullish&quot;}}},{&quot;body&quot;:&quot;$AAPL bought 320 puts at the hod should open nicely looking for 70-80%+ at open&quot;,&quot;symbols&quot;:[{&quot;symbol&quot;:&quot;AAPL&quot;}],&quot;entities&quot;:{&quot;sentiment&quot;:{&quot;basic&quot;:&quot;Bearish&quot;}}},{&quot;body&quot;:&quot;$AAPL VIRUS GANG&quot;,&quot;symbols&quot;:[{&quot;symbol&quot;:&quot;AAPL&quot;}],&quot;entities&quot;:{&quot;sentiment&quot;:{&quot;basic&quot;:&quot;Bearish&quot;}}},{&quot;body&quot;:&quot;$SPY think of the last person in china who touched your new iphone before you open the box\\n\\nWas he wearing a glove or did he $AAPL&quot;,&quot;symbols&quot;:[{&quot;symbol&quot;:&quot;AAPL&quot;},{&quot;symbol&quot;:&quot;SPY&quot;}],&quot;entities&quot;:{&quot;sentiment&quot;:{&quot;basic&quot;:&quot;Bearish&quot;}}},{&quot;body&quot;:&quot;$SPY $AMD $FB $BABA $AAPL By Morning everyone will be like&quot;,&quot;symbols&quot;:[{&quot;symbol&quot;:&quot;AAPL&quot;},{&quot;symbol&quot;:&quot;AMD&quot;},{&quot;symbol&quot;:&quot;SPY&quot;},{&quot;symbol&quot;:&quot;FB&quot;},{&quot;symbol&quot;:&quot;BABA&quot;}],&quot;entities&quot;:{&quot;sentiment&quot;:null}},{&quot;body&quot;:&quot;Apple Reports Earnings Next Week: Here’s How to Tell if Apple Will Meet Expectations $AAPL @apple #apple #earnings http://bit.ly/2RigUf2&quot;,&quot;symbols&quot;:[{&quot;symbol&quot;:&quot;AAPL&quot;}],&quot;entities&quot;:{&quot;sentiment&quot;:null}},{&quot;body&quot;:&quot;$AAPL $335 before ER&quot;,&quot;symbols&quot;:[{&quot;symbol&quot;:&quot;AAPL&quot;}],&quot;entities&quot;:{&quot;sentiment&quot;:{&quot;basic&quot;:&quot;Bullish&quot;}}},{&quot;body&quot;:&quot;$AAPL this trades in really tight, neat channels all year. if there is a correction maximum drawdown is 220, worst case scenario. still looking good, hitting the top of the upper channel here, expecting a pullback&quot;,&quot;symbols&quot;:[{&quot;symbol&quot;:&quot;AAPL&quot;}],&quot;entities&quot;:{&quot;sentiment&quot;:{&quot;basic&quot;:&quot;Bullish&quot;}}},{&quot;body&quot;:&quot;Spyware Is Getting So Smart Even The Billionaires Aren’t Immune  $AAPL $FB $FCN $AMZN \\n\\nhttps://newsfilter.io/a/0049e30e93429d2379af7c9f4c706b8c&quot;,&quot;symbols&quot;:[{&quot;symbol&quot;:&quot;AAPL&quot;},{&quot;symbol&quot;:&quot;AMZN&quot;},{&quot;symbol&quot;:&quot;FCN&quot;},{&quot;symbol&quot;:&quot;FB&quot;}],&quot;entities&quot;:{&quot;sentiment&quot;:null}},{&quot;body&quot;:&quot;$SPY $AAPL $TSLA $TWTR $GOOGL Real life Umbrella CORP in China&quot;,&quot;symbols&quot;:[{&quot;symbol&quot;:&quot;AAPL&quot;},{&quot;symbol&quot;:&quot;SPY&quot;},{&quot;symbol&quot;:&quot;TWTR&quot;},{&quot;symbol&quot;:&quot;TSLA&quot;},{&quot;symbol&quot;:&quot;GOOGL&quot;}],&quot;entities&quot;:{&quot;sentiment&quot;:null}},{&quot;body&quot;:&quot;$AAPL was analyzed by 29. The buy percentage consensus is at 81. So analysts seem to be very confident about $AAPL. https://www.chartmill.com/stock/quote/AAPL/analyst-ratings?utm_source=stocktwits&amp;amp;utm_medium=ANALYST&amp;amp;utm_content=AAPL&amp;amp;utm_campaign=social_tracking&quot;,&quot;symbols&quot;:[{&quot;symbol&quot;:&quot;AAPL&quot;}],&quot;entities&quot;:{&quot;sentiment&quot;:null}},{&quot;body&quot;:&quot;$SPY $TSLA $AAPL $LK $BABA matter of time before things get out of control. China travel banned is another options&quot;,&quot;symbols&quot;:[{&quot;symbol&quot;:&quot;AAPL&quot;},{&quot;symbol&quot;:&quot;SPY&quot;},{&quot;symbol&quot;:&quot;TSLA&quot;},{&quot;symbol&quot;:&quot;BABA&quot;},{&quot;symbol&quot;:&quot;LK&quot;}],&quot;entities&quot;:{&quot;sentiment&quot;:{&quot;basic&quot;:&quot;Bearish&quot;}}},{&quot;body&quot;:&quot;$AAPL $SPY $QQQ $BABA $ JD&quot;,&quot;symbols&quot;:[{&quot;symbol&quot;:&quot;AAPL&quot;},{&quot;symbol&quot;:&quot;SPY&quot;},{&quot;symbol&quot;:&quot;QQQ&quot;},{&quot;symbol&quot;:&quot;BABA&quot;}],&quot;entities&quot;:{&quot;sentiment&quot;:null}},{&quot;body&quot;:&quot;The $TSLA room is way better than the $AAPL room, but the $TSLA trolls are way worse 😂&quot;,&quot;symbols&quot;:[{&quot;symbol&quot;:&quot;AAPL&quot;},{&quot;symbol&quot;:&quot;TSLA&quot;}],&quot;entities&quot;:{&quot;sentiment&quot;:null}},{&quot;body&quot;:&quot;$AAPL Upcoming ER here and there 👻. Wanna hedge.&quot;,&quot;symbols&quot;:[{&quot;symbol&quot;:&quot;AAPL&quot;}],&quot;entities&quot;:{&quot;sentiment&quot;:null}},{&quot;body&quot;:&quot;$SPCE Will outperform every other stock in 2020. It is the next $NFLX $TSLA $AAPL style runner. Investors are starving for growth potential.&quot;,&quot;symbols&quot;:[{&quot;symbol&quot;:&quot;AAPL&quot;},{&quot;symbol&quot;:&quot;NFLX&quot;},{&quot;symbol&quot;:&quot;TSLA&quot;},{&quot;symbol&quot;:&quot;SPCE&quot;}],&quot;entities&quot;:{&quot;sentiment&quot;:{&quot;basic&quot;:&quot;Bullish&quot;}}},{&quot;body&quot;:&quot;$SPY $TSLA $AAPL $BYND  this is where SARS started. Beyond disgusting. 😖&quot;,&quot;symbols&quot;:[{&quot;symbol&quot;:&quot;AAPL&quot;},{&quot;symbol&quot;:&quot;SPY&quot;},{&quot;symbol&quot;:&quot;TSLA&quot;},{&quot;symbol&quot;:&quot;BYND&quot;}],&quot;entities&quot;:{&quot;sentiment&quot;:{&quot;basic&quot;:&quot;Bearish&quot;}}}]</td>\n",
       "    </tr>\n",
       "</table>"
      ],
      "text/plain": [
       "[('[{\"body\":\"It’s ‘Star Trek’ vs. ‘Star Wars’ in European Streaming Battle  $CMCSA $VIAC $AAPL $AMZN $DIS \\\\n\\\\nhttps://newsfilter.io/a/0860a502f0097950 ... (6097 characters truncated) ... p +372.73 % |  Volume: 52 vs 11 https://www.sleekoptions.com/sleekscan.aspx?sub1=dscan\",\"symbols\":[{\"symbol\":\"AAPL\"}],\"entities\":{\"sentiment\":null}}]',),\n",
       " ('[{\"body\":\"$SPY $QQQ $AAPL.   Asia Bloodbath.\",\"symbols\":[{\"symbol\":\"AAPL\"},{\"symbol\":\"SPY\"},{\"symbol\":\"QQQ\"}],\"entities\":{\"sentiment\":null}},{\"body\": ... (6046 characters truncated) ... arket cycle. Over valued sector. Market performance induced by the Fed.\",\"symbols\":[{\"symbol\":\"AAPL\"}],\"entities\":{\"sentiment\":{\"basic\":\"Bearish\"}}}]',),\n",
       " ('[{\"body\":\"$AAPL 📈\",\"symbols\":[{\"symbol\":\"AAPL\"}],\"entities\":{\"sentiment\":{\"basic\":\"Bullish\"}}},{\"body\":\"$SPY $AAPL Shorting and volatility is a thing ... (5731 characters truncated) ... yond disgusting. 😖\",\"symbols\":[{\"symbol\":\"AAPL\"},{\"symbol\":\"SPY\"},{\"symbol\":\"TSLA\"},{\"symbol\":\"BYND\"}],\"entities\":{\"sentiment\":{\"basic\":\"Bearish\"}}}]',)]"
      ]
     },
     "execution_count": 18,
     "metadata": {},
     "output_type": "execute_result"
    }
   ],
   "source": [
    "%%sql\n",
    "select * from twits limit 3"
   ]
  },
  {
   "cell_type": "markdown",
   "metadata": {},
   "source": [
    "データ変換のためのテーブルを作成します。"
   ]
  },
  {
   "cell_type": "code",
   "execution_count": 27,
   "metadata": {},
   "outputs": [
    {
     "name": "stdout",
     "output_type": "stream",
     "text": [
      " * hive://user1@master.ykono.work:10000\n",
      "Done.\n",
      " * hive://user1@master.ykono.work:10000\n",
      "Done.\n",
      " * hive://user1@master.ykono.work:10000\n",
      "Done.\n",
      " * hive://user1@master.ykono.work:10000\n",
      "Done.\n"
     ]
    },
    {
     "data": {
      "text/plain": [
       "[]"
      ]
     },
     "execution_count": 27,
     "metadata": {},
     "output_type": "execute_result"
    }
   ],
   "source": [
    "%sql create table message_extracted (symbols array<struct<symbol:string>>, sentiment STRING, body STRING) STORED AS TEXTFILE\n",
    "%sql create table message_filtered (symbols array<struct<symbol:string>>, sentiment STRING, body STRING) STORED AS TEXTFILE\n",
    "%sql create table message_exploded (symbol string, sentiment STRING, body STRING) STORED AS TEXTFILE\n",
    "%sql create table sentiment_data (sentiment int, body STRING) STORED AS TEXTFILE"
   ]
  },
  {
   "cell_type": "markdown",
   "metadata": {},
   "source": [
    "元のデータから必要なデータのみを抽出します。"
   ]
  },
  {
   "cell_type": "code",
   "execution_count": 29,
   "metadata": {},
   "outputs": [
    {
     "name": "stdout",
     "output_type": "stream",
     "text": [
      " * hive://user1@master.ykono.work:10000\n",
      "Done.\n"
     ]
    },
    {
     "data": {
      "text/plain": [
       "[]"
      ]
     },
     "execution_count": 29,
     "metadata": {},
     "output_type": "execute_result"
    }
   ],
   "source": [
    "%%sql\n",
    "insert overwrite table message_extracted \n",
    "select message.symbols, message.entities.sentiment, message.body from twits \n",
    "lateral view explode(messages) messages as message"
   ]
  },
  {
   "cell_type": "code",
   "execution_count": 30,
   "metadata": {},
   "outputs": [
    {
     "name": "stdout",
     "output_type": "stream",
     "text": [
      " * hive://user1@master.ykono.work:10000\n",
      "Done.\n"
     ]
    },
    {
     "data": {
      "text/html": [
       "<table>\n",
       "    <tr>\n",
       "        <th>symbols</th>\n",
       "        <th>sentiment</th>\n",
       "        <th>body</th>\n",
       "    </tr>\n",
       "    <tr>\n",
       "        <td>[{&quot;symbol&quot;:&quot;AAPL&quot;},{&quot;symbol&quot;:&quot;AMZN&quot;},{&quot;symbol&quot;:&quot;CMCSA&quot;},{&quot;symbol&quot;:&quot;DIS&quot;},{&quot;symbol&quot;:&quot;VIAC&quot;}]</td>\n",
       "        <td>None</td>\n",
       "        <td>It’s ‘Star Trek’ vs. ‘Star Wars’ in European Streaming Battle  $CMCSA $VIAC $AAPL $AMZN $DIS </td>\n",
       "    </tr>\n",
       "    <tr>\n",
       "        <td>[]</td>\n",
       "        <td>None</td>\n",
       "        <td>None</td>\n",
       "    </tr>\n",
       "    <tr>\n",
       "        <td>[{&quot;symbol&quot;:&quot;https://newsfilter.io/a/0860a502f00979509c755ec03401ed14&quot;}]</td>\n",
       "        <td>None</td>\n",
       "        <td>None</td>\n",
       "    </tr>\n",
       "    <tr>\n",
       "        <td>[{&quot;symbol&quot;:&quot;AAPL&quot;},{&quot;symbol&quot;:&quot;JD&quot;}]</td>\n",
       "        <td>None</td>\n",
       "        <td>$JD $AAPL</td>\n",
       "    </tr>\n",
       "    <tr>\n",
       "        <td>[{&quot;symbol&quot;:&quot;AAPL&quot;},{&quot;symbol&quot;:&quot;AMRN&quot;},{&quot;symbol&quot;:&quot;SPY&quot;},{&quot;symbol&quot;:&quot;CLVS&quot;}]</td>\n",
       "        <td>None</td>\n",
       "        <td>$SPY $AAPL $CLVS $AMRN </td>\n",
       "    </tr>\n",
       "</table>"
      ],
      "text/plain": [
       "[('[{\"symbol\":\"AAPL\"},{\"symbol\":\"AMZN\"},{\"symbol\":\"CMCSA\"},{\"symbol\":\"DIS\"},{\"symbol\":\"VIAC\"}]', None, 'It’s ‘Star Trek’ vs. ‘Star Wars’ in European Streaming Battle  $CMCSA $VIAC $AAPL $AMZN $DIS '),\n",
       " ('[]', None, None),\n",
       " ('[{\"symbol\":\"https://newsfilter.io/a/0860a502f00979509c755ec03401ed14\"}]', None, None),\n",
       " ('[{\"symbol\":\"AAPL\"},{\"symbol\":\"JD\"}]', None, '$JD $AAPL'),\n",
       " ('[{\"symbol\":\"AAPL\"},{\"symbol\":\"AMRN\"},{\"symbol\":\"SPY\"},{\"symbol\":\"CLVS\"}]', None, '$SPY $AAPL $CLVS $AMRN ')]"
      ]
     },
     "execution_count": 30,
     "metadata": {},
     "output_type": "execute_result"
    }
   ],
   "source": [
    "%%sql\n",
    "select * from message_extracted limit 5"
   ]
  },
  {
   "cell_type": "code",
   "execution_count": 31,
   "metadata": {},
   "outputs": [
    {
     "name": "stdout",
     "output_type": "stream",
     "text": [
      " * hive://user1@master.ykono.work:10000\n",
      "Done.\n"
     ]
    },
    {
     "data": {
      "text/html": [
       "<table>\n",
       "    <tr>\n",
       "        <th>_c0</th>\n",
       "    </tr>\n",
       "    <tr>\n",
       "        <td>10436</td>\n",
       "    </tr>\n",
       "</table>"
      ],
      "text/plain": [
       "[(10436,)]"
      ]
     },
     "execution_count": 31,
     "metadata": {},
     "output_type": "execute_result"
    }
   ],
   "source": [
    "%%sql\n",
    "select count(*) from message_extracted"
   ]
  },
  {
   "cell_type": "markdown",
   "metadata": {},
   "source": [
    "データから、メッセージ・ボディが含まれているデータのみを取り出します。同時に、銘柄に対するセンチメントを文字列からを数値に置換します。"
   ]
  },
  {
   "cell_type": "code",
   "execution_count": 33,
   "metadata": {},
   "outputs": [
    {
     "name": "stdout",
     "output_type": "stream",
     "text": [
      " * hive://user1@master.ykono.work:10000\n",
      "Done.\n"
     ]
    },
    {
     "data": {
      "text/plain": [
       "[]"
      ]
     },
     "execution_count": 33,
     "metadata": {},
     "output_type": "execute_result"
    }
   ],
   "source": [
    "%%sql\n",
    "insert overwrite table message_filtered \n",
    "select symbols, \n",
    "    case sentiment when 'Bearish' then -2 when 'Bullish' then 2 ELSE 0 END as sentiment, \n",
    "    body from message_extracted \n",
    "    where body is not null"
   ]
  },
  {
   "cell_type": "code",
   "execution_count": 34,
   "metadata": {},
   "outputs": [
    {
     "name": "stdout",
     "output_type": "stream",
     "text": [
      " * hive://user1@master.ykono.work:10000\n",
      "Done.\n"
     ]
    },
    {
     "data": {
      "text/html": [
       "<table>\n",
       "    <tr>\n",
       "        <th>symbols</th>\n",
       "        <th>sentiment</th>\n",
       "        <th>body</th>\n",
       "    </tr>\n",
       "    <tr>\n",
       "        <td>[{&quot;symbol&quot;:&quot;AAPL&quot;},{&quot;symbol&quot;:&quot;AMZN&quot;},{&quot;symbol&quot;:&quot;CMCSA&quot;},{&quot;symbol&quot;:&quot;DIS&quot;},{&quot;symbol&quot;:&quot;VIAC&quot;}]</td>\n",
       "        <td>0</td>\n",
       "        <td>It’s ‘Star Trek’ vs. ‘Star Wars’ in European Streaming Battle  $CMCSA $VIAC $AAPL $AMZN $DIS </td>\n",
       "    </tr>\n",
       "    <tr>\n",
       "        <td>[{&quot;symbol&quot;:&quot;AAPL&quot;},{&quot;symbol&quot;:&quot;JD&quot;}]</td>\n",
       "        <td>0</td>\n",
       "        <td>$JD $AAPL</td>\n",
       "    </tr>\n",
       "    <tr>\n",
       "        <td>[{&quot;symbol&quot;:&quot;AAPL&quot;},{&quot;symbol&quot;:&quot;AMRN&quot;},{&quot;symbol&quot;:&quot;SPY&quot;},{&quot;symbol&quot;:&quot;CLVS&quot;}]</td>\n",
       "        <td>0</td>\n",
       "        <td>$SPY $AAPL $CLVS $AMRN </td>\n",
       "    </tr>\n",
       "</table>"
      ],
      "text/plain": [
       "[('[{\"symbol\":\"AAPL\"},{\"symbol\":\"AMZN\"},{\"symbol\":\"CMCSA\"},{\"symbol\":\"DIS\"},{\"symbol\":\"VIAC\"}]', '0', 'It’s ‘Star Trek’ vs. ‘Star Wars’ in European Streaming Battle  $CMCSA $VIAC $AAPL $AMZN $DIS '),\n",
       " ('[{\"symbol\":\"AAPL\"},{\"symbol\":\"JD\"}]', '0', '$JD $AAPL'),\n",
       " ('[{\"symbol\":\"AAPL\"},{\"symbol\":\"AMRN\"},{\"symbol\":\"SPY\"},{\"symbol\":\"CLVS\"}]', '0', '$SPY $AAPL $CLVS $AMRN ')]"
      ]
     },
     "execution_count": 34,
     "metadata": {},
     "output_type": "execute_result"
    }
   ],
   "source": [
    "%%sql\n",
    "select * from message_filtered limit 3"
   ]
  },
  {
   "cell_type": "markdown",
   "metadata": {},
   "source": [
    "一つのメッセージに複数の銘柄が紐づけられています。データ正規化のため、データ１行につき、一つの銘柄を持つようにデータを変換します（同じメッセージを持つ行が複数作られます）。"
   ]
  },
  {
   "cell_type": "code",
   "execution_count": 36,
   "metadata": {},
   "outputs": [
    {
     "name": "stdout",
     "output_type": "stream",
     "text": [
      " * hive://user1@master.ykono.work:10000\n",
      "Done.\n"
     ]
    },
    {
     "data": {
      "text/plain": [
       "[]"
      ]
     },
     "execution_count": 36,
     "metadata": {},
     "output_type": "execute_result"
    }
   ],
   "source": [
    "%%sql\n",
    "insert overwrite table message_exploded \n",
    "select symbol.symbol, sentiment, body from message_filtered lateral view explode(symbols) symbols as symbol"
   ]
  },
  {
   "cell_type": "code",
   "execution_count": 37,
   "metadata": {},
   "outputs": [
    {
     "name": "stdout",
     "output_type": "stream",
     "text": [
      " * hive://user1@master.ykono.work:10000\n",
      "Done.\n"
     ]
    },
    {
     "data": {
      "text/html": [
       "<table>\n",
       "    <tr>\n",
       "        <th>symbol</th>\n",
       "        <th>sentiment</th>\n",
       "        <th>body</th>\n",
       "    </tr>\n",
       "    <tr>\n",
       "        <td>AAPL</td>\n",
       "        <td>0</td>\n",
       "        <td>It’s ‘Star Trek’ vs. ‘Star Wars’ in European Streaming Battle  $CMCSA $VIAC $AAPL $AMZN $DIS </td>\n",
       "    </tr>\n",
       "    <tr>\n",
       "        <td>AMZN</td>\n",
       "        <td>0</td>\n",
       "        <td>It’s ‘Star Trek’ vs. ‘Star Wars’ in European Streaming Battle  $CMCSA $VIAC $AAPL $AMZN $DIS </td>\n",
       "    </tr>\n",
       "    <tr>\n",
       "        <td>CMCSA</td>\n",
       "        <td>0</td>\n",
       "        <td>It’s ‘Star Trek’ vs. ‘Star Wars’ in European Streaming Battle  $CMCSA $VIAC $AAPL $AMZN $DIS </td>\n",
       "    </tr>\n",
       "</table>"
      ],
      "text/plain": [
       "[('AAPL', '0', 'It’s ‘Star Trek’ vs. ‘Star Wars’ in European Streaming Battle  $CMCSA $VIAC $AAPL $AMZN $DIS '),\n",
       " ('AMZN', '0', 'It’s ‘Star Trek’ vs. ‘Star Wars’ in European Streaming Battle  $CMCSA $VIAC $AAPL $AMZN $DIS '),\n",
       " ('CMCSA', '0', 'It’s ‘Star Trek’ vs. ‘Star Wars’ in European Streaming Battle  $CMCSA $VIAC $AAPL $AMZN $DIS ')]"
      ]
     },
     "execution_count": 37,
     "metadata": {},
     "output_type": "execute_result"
    }
   ],
   "source": [
    "%%sql\n",
    "select * from message_exploded limit 3"
   ]
  },
  {
   "cell_type": "markdown",
   "metadata": {},
   "source": [
    "ここまでの操作で、元の複雑な構造のデータから、１レコードにつき、銘柄、センチメント、メッセージ本文を持つフォーマットに変換されました。\n",
    "銘柄毎のセンチメントの件数などの分析を行うには、このテーブルを利用します。\n",
    "\n",
    "この後の感情分析では、メッセージ本文の文字列から、センチメントを判定する予測モデルを構築します。そのため銘柄情報は利用しないため、センチメントとメッセージ本文のみを取り出します。"
   ]
  },
  {
   "cell_type": "code",
   "execution_count": 38,
   "metadata": {},
   "outputs": [
    {
     "name": "stdout",
     "output_type": "stream",
     "text": [
      " * hive://user1@master.ykono.work:10000\n",
      "Done.\n"
     ]
    },
    {
     "data": {
      "text/plain": [
       "[]"
      ]
     },
     "execution_count": 38,
     "metadata": {},
     "output_type": "execute_result"
    }
   ],
   "source": [
    "%%sql\n",
    "insert overwrite table sentiment_data \n",
    "select sentiment, body from message_filtered"
   ]
  },
  {
   "cell_type": "code",
   "execution_count": 39,
   "metadata": {},
   "outputs": [
    {
     "name": "stdout",
     "output_type": "stream",
     "text": [
      " * hive://user1@master.ykono.work:10000\n",
      "Done.\n"
     ]
    },
    {
     "data": {
      "text/html": [
       "<table>\n",
       "    <tr>\n",
       "        <th>sentiment</th>\n",
       "        <th>body</th>\n",
       "    </tr>\n",
       "    <tr>\n",
       "        <td>0</td>\n",
       "        <td>It’s ‘Star Trek’ vs. ‘Star Wars’ in European Streaming Battle  $CMCSA $VIAC $AAPL $AMZN $DIS </td>\n",
       "    </tr>\n",
       "    <tr>\n",
       "        <td>0</td>\n",
       "        <td>$JD $AAPL</td>\n",
       "    </tr>\n",
       "    <tr>\n",
       "        <td>0</td>\n",
       "        <td>$SPY $AAPL $CLVS $AMRN </td>\n",
       "    </tr>\n",
       "    <tr>\n",
       "        <td>2</td>\n",
       "        <td>$AAPL Repo 8AM tomorrow</td>\n",
       "    </tr>\n",
       "    <tr>\n",
       "        <td>-2</td>\n",
       "        <td>$AAPL bought 320 puts at the hod should open nicely looking for 70-80%+ at open</td>\n",
       "    </tr>\n",
       "    <tr>\n",
       "        <td>-2</td>\n",
       "        <td>$AAPL VIRUS GANG</td>\n",
       "    </tr>\n",
       "    <tr>\n",
       "        <td>-2</td>\n",
       "        <td>$SPY think of the last person in china who touched your new iphone before you open the box</td>\n",
       "    </tr>\n",
       "    <tr>\n",
       "        <td>0</td>\n",
       "        <td>$SPY $AMD $FB $BABA $AAPL By Morning everyone will be like</td>\n",
       "    </tr>\n",
       "    <tr>\n",
       "        <td>0</td>\n",
       "        <td>Apple Reports Earnings Next Week: Here’s How to Tell if Apple Will Meet Expectations $AAPL @apple #apple #earnings http://bit.ly/2RigUf2</td>\n",
       "    </tr>\n",
       "    <tr>\n",
       "        <td>2</td>\n",
       "        <td>$AAPL $335 before ER</td>\n",
       "    </tr>\n",
       "</table>"
      ],
      "text/plain": [
       "[(0, 'It’s ‘Star Trek’ vs. ‘Star Wars’ in European Streaming Battle  $CMCSA $VIAC $AAPL $AMZN $DIS '),\n",
       " (0, '$JD $AAPL'),\n",
       " (0, '$SPY $AAPL $CLVS $AMRN '),\n",
       " (2, '$AAPL Repo 8AM tomorrow'),\n",
       " (-2, '$AAPL bought 320 puts at the hod should open nicely looking for 70-80%+ at open'),\n",
       " (-2, '$AAPL VIRUS GANG'),\n",
       " (-2, '$SPY think of the last person in china who touched your new iphone before you open the box'),\n",
       " (0, '$SPY $AMD $FB $BABA $AAPL By Morning everyone will be like'),\n",
       " (0, 'Apple Reports Earnings Next Week: Here’s How to Tell if Apple Will Meet Expectations $AAPL @apple #apple #earnings http://bit.ly/2RigUf2'),\n",
       " (2, '$AAPL $335 before ER')]"
      ]
     },
     "execution_count": 39,
     "metadata": {},
     "output_type": "execute_result"
    }
   ],
   "source": [
    "%%sql\n",
    "select * from sentiment_data limit 10"
   ]
  },
  {
   "cell_type": "markdown",
   "metadata": {},
   "source": [
    "### JSONファイルの作成\n",
    "\n",
    "加工したデータをJSONファイルとして出力します。\n",
    "\n",
    "感情分析を担当するデータサイエンティスト・機械学習エンジニアは、このJSONファイルを使います。"
   ]
  },
  {
   "cell_type": "code",
   "execution_count": 40,
   "metadata": {},
   "outputs": [
    {
     "name": "stdout",
     "output_type": "stream",
     "text": [
      " * hive://user1@master.ykono.work:10000\n",
      "Done.\n",
      " * hive://user1@master.ykono.work:10000\n",
      "Done.\n"
     ]
    },
    {
     "data": {
      "text/plain": [
       "[]"
      ]
     },
     "execution_count": 40,
     "metadata": {},
     "output_type": "execute_result"
    }
   ],
   "source": [
    "%sql DROP TABLE IF EXISTS json_message\n",
    "%sql create table json_message (message STRING) STORED AS TEXTFILE"
   ]
  },
  {
   "cell_type": "code",
   "execution_count": 41,
   "metadata": {},
   "outputs": [
    {
     "name": "stdout",
     "output_type": "stream",
     "text": [
      " * hive://user1@master.ykono.work:10000\n",
      "Done.\n"
     ]
    },
    {
     "data": {
      "text/plain": [
       "[]"
      ]
     },
     "execution_count": 41,
     "metadata": {},
     "output_type": "execute_result"
    }
   ],
   "source": [
    "%%sql\n",
    "insert overwrite table json_message\n",
    "select to_json(named_struct('message_body', body, 'sentiment', sentiment)) from sentiment_data"
   ]
  },
  {
   "cell_type": "code",
   "execution_count": 42,
   "metadata": {},
   "outputs": [
    {
     "name": "stdout",
     "output_type": "stream",
     "text": [
      " * hive://user1@master.ykono.work:10000\n",
      "Done.\n"
     ]
    },
    {
     "data": {
      "text/html": [
       "<table>\n",
       "    <tr>\n",
       "        <th>message</th>\n",
       "    </tr>\n",
       "    <tr>\n",
       "        <td>{&quot;message_body&quot;:&quot;It’s ‘Star Trek’ vs. ‘Star Wars’ in European Streaming Battle  $CMCSA $VIAC $AAPL $AMZN $DIS &quot;,&quot;sentiment&quot;:0}</td>\n",
       "    </tr>\n",
       "    <tr>\n",
       "        <td>{&quot;message_body&quot;:&quot;$JD $AAPL&quot;,&quot;sentiment&quot;:0}</td>\n",
       "    </tr>\n",
       "    <tr>\n",
       "        <td>{&quot;message_body&quot;:&quot;$SPY $AAPL $CLVS $AMRN &quot;,&quot;sentiment&quot;:0}</td>\n",
       "    </tr>\n",
       "    <tr>\n",
       "        <td>{&quot;message_body&quot;:&quot;$AAPL Repo 8AM tomorrow&quot;,&quot;sentiment&quot;:2}</td>\n",
       "    </tr>\n",
       "    <tr>\n",
       "        <td>{&quot;message_body&quot;:&quot;$AAPL bought 320 puts at the hod should open nicely looking for 70-80%+ at open&quot;,&quot;sentiment&quot;:-2}</td>\n",
       "    </tr>\n",
       "</table>"
      ],
      "text/plain": [
       "[('{\"message_body\":\"It’s ‘Star Trek’ vs. ‘Star Wars’ in European Streaming Battle  $CMCSA $VIAC $AAPL $AMZN $DIS \",\"sentiment\":0}',),\n",
       " ('{\"message_body\":\"$JD $AAPL\",\"sentiment\":0}',),\n",
       " ('{\"message_body\":\"$SPY $AAPL $CLVS $AMRN \",\"sentiment\":0}',),\n",
       " ('{\"message_body\":\"$AAPL Repo 8AM tomorrow\",\"sentiment\":2}',),\n",
       " ('{\"message_body\":\"$AAPL bought 320 puts at the hod should open nicely looking for 70-80%+ at open\",\"sentiment\":-2}',)]"
      ]
     },
     "execution_count": 42,
     "metadata": {},
     "output_type": "execute_result"
    }
   ],
   "source": [
    "%%sql\n",
    "select * from json_message limit 5"
   ]
  },
  {
   "cell_type": "markdown",
   "metadata": {},
   "source": [
    "**`HQL_SELECT_MESSAGE`をあなたが作成したデータベースを指定してください**"
   ]
  },
  {
   "cell_type": "code",
   "execution_count": 45,
   "metadata": {},
   "outputs": [],
   "source": [
    "#from __future__ import print_function\n",
    "\n",
    "HQL_SELECT_MESSAGE = \"select * from default.json_message\"\n",
    "\n",
    "spark = SparkSession\\\n",
    "    .builder\\\n",
    "    .appName(\"JsonGen\")\\\n",
    "    .getOrCreate()\n",
    "    \n",
    "spark.sparkContext.setLogLevel(\"ERROR\")\n",
    "\n",
    "json_list = spark.sql(HQL_SELECT_MESSAGE)\n",
    "\n",
    "path = \"./output_1_0212.json\"\n",
    "\n",
    "with open(path, mode='w') as f:\n",
    "    f.write('{\"data\":[')\n",
    "    bool_first_line = True\n",
    "    for row in json_list.rdd.collect():\n",
    "        if bool_first_line:\n",
    "            bool_first_line = False\n",
    "            f.write(row.message)\n",
    "        else:\n",
    "            # あまりスマートではありませんが、ある程度の量のデータを使ったDeep Learning処理をシミュレーションするため、\n",
    "            # 同じ情報を使って、データを嵩増ししています。\n",
    "            # API利用の制約や、演習時間の制約がなければ、\n",
    "            # 上記のWebスクレイピングで、大量の訓練データを取得することが可能です。\n",
    "            #for i in range(100): \n",
    "            for i in range(1):\n",
    "                f.write(\",\\n\")\n",
    "                f.write(row.message)\n",
    "    \n",
    "    f.write(\"]}\")"
   ]
  },
  {
   "cell_type": "code",
   "execution_count": 47,
   "metadata": {},
   "outputs": [
    {
     "name": "stdout",
     "output_type": "stream",
     "text": [
      "-rw-r--r-- 1 cdsw cdsw   1157780 Feb 12 08:36 output_1_0212.json\r\n",
      "-rwx------ 1 cdsw cdsw 115763447 Feb 12 08:35 output.json\r\n"
     ]
    }
   ],
   "source": [
    "!ls -l | grep output"
   ]
  },
  {
   "cell_type": "code",
   "execution_count": 48,
   "metadata": {},
   "outputs": [
    {
     "name": "stdout",
     "output_type": "stream",
     "text": [
      "{\"data\":[{\"message_body\":\"It’s ‘Star Trek’ vs. ‘Star Wars’ in European Streaming Battle  $CMCSA $VIAC $AAPL $AMZN $DIS \",\"sentiment\":0},\n",
      "{\"message_body\":\"$JD $AAPL\",\"sentiment\":0},\n",
      "{\"message_body\":\"$SPY $AAPL $CLVS $AMRN \",\"sentiment\":0},\n",
      "{\"message_body\":\"$AAPL Repo 8AM tomorrow\",\"sentiment\":2},\n",
      "{\"message_body\":\"$AAPL bought 320 puts at the hod should open nicely looking for 70-80%+ at open\",\"sentiment\":-2},\n",
      "{\"message_body\":\"$AAPL VIRUS GANG\",\"sentiment\":-2},\n",
      "{\"message_body\":\"$SPY think of the last person in china who touched your new iphone before you open the box\",\"sentiment\":-2},\n",
      "{\"message_body\":\"$SPY $AMD $FB $BABA $AAPL By Morning everyone will be like\",\"sentiment\":0},\n",
      "{\"message_body\":\"Apple Reports Earnings Next Week: Here’s How to Tell if Apple Will Meet Expectations $AAPL @apple #apple #earnings http://bit.ly/2RigUf2\",\"sentiment\":0},\n",
      "{\"message_body\":\"$AAPL $335 before ER\",\"sentiment\":2},\n",
      "{\"message_body\":\"$YUMA and $SAEX could move this week if oil prices recover 👀🎣⏱\",\"sentiment\":2},\n",
      "{\"message_body\":\"pretty soon 2:10 from $YUMA\",\"sentiment\":0},\n",
      "{\"message_body\":\"$YUMA unless you are a geologist with specialization in fossil fuel deposits and have walked their low producing fields,  and are convinced there is some merit. You have no business, owning this stock. The opportunity cost is high. The track record is laughable.\",\"sentiment\":-2},\n",
      "{\"message_body\":\"$YUMA and tomorrow we see 2.85 unfortunately\",\"sentiment\":0},\n",
      "{\"message_body\":\"$YUMA low volume walk down.. taking more\",\"sentiment\":2},\n",
      "{\"message_body\":\"3:10 from $YUMA\",\"sentiment\":0},\n",
      "{\"message_body\":\"$YUMA “going to move again soon” “4 dollars next week” “this is a 10 dollar stock” “energy making s come back see you at $12 next month” you guys ar every sick\",\"sentiment\":-2},\n",
      "{\"message_body\":\"$YUMA 👀 going to move again soon\",\"sentiment\":2},\n",
      "{\"message_body\":\"$YUMA bought $750 today let’s see what happens\",\"sentiment\":0},\n",
      "{\"message_body\":\"$YUMA is @ 3:10 from $YUMA\",\"sentiment\":0}]}"
     ]
    }
   ],
   "source": [
    "!head output_1_0212.json\n",
    "!tail output_1_0212.json"
   ]
  },
  {
   "cell_type": "markdown",
   "metadata": {},
   "source": [
    "JSONフォーマットでのデータ読み込み"
   ]
  },
  {
   "cell_type": "code",
   "execution_count": 51,
   "metadata": {},
   "outputs": [
    {
     "name": "stdout",
     "output_type": "stream",
     "text": [
      "[{'message_body': 'It’s ‘Star Trek’ vs. ‘Star Wars’ in European Streaming Battle  $CMCSA $VIAC $AAPL $AMZN $DIS ', 'sentiment': 0}, {'message_body': '$JD $AAPL', 'sentiment': 0}, {'message_body': '$SPY $AAPL $CLVS $AMRN ', 'sentiment': 0}, {'message_body': '$AAPL Repo 8AM tomorrow', 'sentiment': 2}, {'message_body': '$AAPL bought 320 puts at the hod should open nicely looking for 70-80%+ at open', 'sentiment': -2}, {'message_body': '$AAPL VIRUS GANG', 'sentiment': -2}, {'message_body': '$SPY think of the last person in china who touched your new iphone before you open the box', 'sentiment': -2}, {'message_body': '$SPY $AMD $FB $BABA $AAPL By Morning everyone will be like', 'sentiment': 0}, {'message_body': 'Apple Reports Earnings Next Week: Here’s How to Tell if Apple Will Meet Expectations $AAPL @apple #apple #earnings http://bit.ly/2RigUf2', 'sentiment': 0}, {'message_body': '$AAPL $335 before ER', 'sentiment': 2}]\n"
     ]
    }
   ],
   "source": [
    "with open('./output_1_0212.json', 'r') as f:\n",
    "    twits = json.load(f)\n",
    "\n",
    "print(twits['data'][:10])"
   ]
  },
  {
   "cell_type": "markdown",
   "metadata": {},
   "source": [
    "データ件数の確認"
   ]
  },
  {
   "cell_type": "code",
   "execution_count": 52,
   "metadata": {},
   "outputs": [
    {
     "name": "stdout",
     "output_type": "stream",
     "text": [
      "7260\n"
     ]
    }
   ],
   "source": [
    "print(len(twits['data']))"
   ]
  },
  {
   "cell_type": "markdown",
   "metadata": {},
   "source": [
    "### 最後に\n",
    "\n",
    "データベースを削除する場合は、**データベース名を適切に変更した後で**下記を実行します。"
   ]
  },
  {
   "cell_type": "code",
   "execution_count": 30,
   "metadata": {},
   "outputs": [
    {
     "name": "stdout",
     "output_type": "stream",
     "text": [
      " * hive://admin@master.ykono.work:10000\n",
      "Done.\n"
     ]
    },
    {
     "data": {
      "text/plain": [
       "[]"
      ]
     },
     "execution_count": 30,
     "metadata": {},
     "output_type": "execute_result"
    }
   ],
   "source": [
    "%sql DROP DATABASE IF EXISTS admin CASCADE"
   ]
  }
 ],
 "metadata": {
  "kernelspec": {
   "display_name": "Python 3",
   "language": "python",
   "name": "python3"
  },
  "language_info": {
   "codemirror_mode": {
    "name": "ipython",
    "version": 3
   },
   "file_extension": ".py",
   "mimetype": "text/x-python",
   "name": "python",
   "nbconvert_exporter": "python",
   "pygments_lexer": "ipython3",
   "version": "3.6.8"
  }
 },
 "nbformat": 4,
 "nbformat_minor": 2
}
